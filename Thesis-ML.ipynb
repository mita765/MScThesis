{
 "cells": [
  {
   "cell_type": "markdown",
   "metadata": {},
   "source": [
    "# Machine Learning Approaches to L/S-TLF"
   ]
  },
  {
   "cell_type": "markdown",
   "metadata": {},
   "source": [
    "## LSTM (Long Short-Term Memory)"
   ]
  },
  {
   "cell_type": "markdown",
   "metadata": {},
   "source": [
    "### Loading and Cleaning Data\n",
    "\n",
    "This will also include exogenous variables: temperature, windspeed, and (proxied) sun coverage. A lot of this initial code will be exactly the same as in the TR notebook."
   ]
  },
  {
   "cell_type": "markdown",
   "metadata": {},
   "source": [
    "N.B. The variable naming convention:\n",
    "\n",
    "- `.lt..` denotes long-term data (monthly over years)\n",
    "- `.st..` denotes short-term data (daily over one year)\n",
    "- `...oc` denotes one-column data (without exogenous variables)\n",
    "- `...mc` denotes multi-column data (with exogenous variables)\n",
    "- `g....` in front of a variable denotes that it will be the GRU variant (LSTM by default)\n",
    "\n",
    "- `sc..` means scaled\n",
    "- `..tr`, `..vl`, `..ts` mean training, validation, and test sets respectively\n",
    "\n",
    "- `X..` is the input (I know this would typically indicate a constant variable in Python, but it is more consistent with mathematical notation)\n",
    "- `y..` is the label"
   ]
  },
  {
   "cell_type": "code",
   "execution_count": 156,
   "metadata": {},
   "outputs": [],
   "source": [
    "import numpy as np\n",
    "import pandas as pd\n",
    "import matplotlib.pyplot as plt\n",
    "import datetime\n",
    "\n",
    "from typing import Type, Optional\n",
    "import pandera as pa\n",
    "from pandera.typing import Series, DataFrame\n",
    "from pandera.dtypes import Int64, DateTime, Timedelta\n",
    "\n",
    "import meteostat as met\n",
    "\n",
    "from sklearn.metrics import mean_absolute_percentage_error\n",
    "from sklearn.preprocessing import MinMaxScaler\n",
    "\n",
    "import tensorflow as tf\n",
    "from tensorflow.keras.models import Sequential\n",
    "\n",
    "from tensorflow.keras.layers import *\n",
    "from tensorflow.keras.callbacks import ModelCheckpoint\n",
    "from tensorflow.keras.models import load_model\n",
    "\n",
    "from tensorflow.keras.losses import MeanSquaredError\n",
    "from tensorflow.keras.metrics import MeanAbsolutePercentageError, RootMeanSquaredError\n",
    "from tensorflow.keras.optimizers import Adam"
   ]
  },
  {
   "cell_type": "code",
   "execution_count": 157,
   "metadata": {},
   "outputs": [],
   "source": [
    "df = pd.read_csv(\"Data/Demand_Data_09to24.csv\")\n",
    "\n",
    "df = df[[\"SETTLEMENT_DATE\", \"SETTLEMENT_PERIOD\", \"ND\", \"EMBEDDED_SOLAR_GENERATION\", \"EMBEDDED_SOLAR_CAPACITY\"]]"
   ]
  },
  {
   "cell_type": "code",
   "execution_count": 158,
   "metadata": {},
   "outputs": [],
   "source": [
    "def sett2date(date_: DateTime, sp_: int) -> DateTime:\n",
    "    return (\n",
    "        date_ + pd.Timedelta(30, \"m\") * sp_ - pd.Timedelta(15, \"m\")\n",
    "    )"
   ]
  },
  {
   "cell_type": "code",
   "execution_count": 159,
   "metadata": {},
   "outputs": [],
   "source": [
    "def conv_date(date_series: Series[DateTime], sett_period_series: Series[Int64]) -> Series[DateTime]:\n",
    "    zipped = zip(date_series, sett_period_series)\n",
    "    \n",
    "    true_dt = pd.Series([sett2date(date_, sp_) for date_, sp_ in zipped])\n",
    "\n",
    "    return true_dt"
   ]
  },
  {
   "cell_type": "code",
   "execution_count": 160,
   "metadata": {},
   "outputs": [],
   "source": [
    "df[\"SETTLEMENT_DATE\"] = pd.Series([pd.to_datetime(x) for x in df[\"SETTLEMENT_DATE\"]])"
   ]
  },
  {
   "cell_type": "code",
   "execution_count": 161,
   "metadata": {},
   "outputs": [],
   "source": [
    "df[\"DATETIME\"] = conv_date(df[\"SETTLEMENT_DATE\"], df[\"SETTLEMENT_PERIOD\"])"
   ]
  },
  {
   "cell_type": "code",
   "execution_count": 162,
   "metadata": {},
   "outputs": [],
   "source": [
    "# timeseries data breakout\n",
    "df[\"YEAR_MONTH\"] = df[\"DATETIME\"].values.astype(\"<M8[M]\")\n",
    "df[\"YMD\"] = df[\"DATETIME\"].values.astype(\"<M8[D]\")\n",
    "\n",
    "# sun_data proxy\n",
    "df[\"sun_eff\"] = pd.Series(df[\"EMBEDDED_SOLAR_GENERATION\"] / df[\"EMBEDDED_SOLAR_CAPACITY\"])"
   ]
  },
  {
   "cell_type": "code",
   "execution_count": 163,
   "metadata": {},
   "outputs": [
    {
     "data": {
      "text/html": [
       "<div>\n",
       "<style scoped>\n",
       "    .dataframe tbody tr th:only-of-type {\n",
       "        vertical-align: middle;\n",
       "    }\n",
       "\n",
       "    .dataframe tbody tr th {\n",
       "        vertical-align: top;\n",
       "    }\n",
       "\n",
       "    .dataframe thead th {\n",
       "        text-align: right;\n",
       "    }\n",
       "</style>\n",
       "<table border=\"1\" class=\"dataframe\">\n",
       "  <thead>\n",
       "    <tr style=\"text-align: right;\">\n",
       "      <th></th>\n",
       "      <th>SETTLEMENT_DATE</th>\n",
       "      <th>SETTLEMENT_PERIOD</th>\n",
       "      <th>ND</th>\n",
       "      <th>EMBEDDED_SOLAR_GENERATION</th>\n",
       "      <th>EMBEDDED_SOLAR_CAPACITY</th>\n",
       "      <th>DATETIME</th>\n",
       "      <th>YEAR_MONTH</th>\n",
       "      <th>YMD</th>\n",
       "      <th>sun_eff</th>\n",
       "    </tr>\n",
       "  </thead>\n",
       "  <tbody>\n",
       "    <tr>\n",
       "      <th>0</th>\n",
       "      <td>2009-01-01</td>\n",
       "      <td>1</td>\n",
       "      <td>37910</td>\n",
       "      <td>0</td>\n",
       "      <td>0</td>\n",
       "      <td>2009-01-01 00:15:00</td>\n",
       "      <td>2009-01-01</td>\n",
       "      <td>2009-01-01</td>\n",
       "      <td>NaN</td>\n",
       "    </tr>\n",
       "    <tr>\n",
       "      <th>1</th>\n",
       "      <td>2009-01-01</td>\n",
       "      <td>2</td>\n",
       "      <td>38047</td>\n",
       "      <td>0</td>\n",
       "      <td>0</td>\n",
       "      <td>2009-01-01 00:45:00</td>\n",
       "      <td>2009-01-01</td>\n",
       "      <td>2009-01-01</td>\n",
       "      <td>NaN</td>\n",
       "    </tr>\n",
       "    <tr>\n",
       "      <th>2</th>\n",
       "      <td>2009-01-01</td>\n",
       "      <td>3</td>\n",
       "      <td>37380</td>\n",
       "      <td>0</td>\n",
       "      <td>0</td>\n",
       "      <td>2009-01-01 01:15:00</td>\n",
       "      <td>2009-01-01</td>\n",
       "      <td>2009-01-01</td>\n",
       "      <td>NaN</td>\n",
       "    </tr>\n",
       "    <tr>\n",
       "      <th>3</th>\n",
       "      <td>2009-01-01</td>\n",
       "      <td>4</td>\n",
       "      <td>36426</td>\n",
       "      <td>0</td>\n",
       "      <td>0</td>\n",
       "      <td>2009-01-01 01:45:00</td>\n",
       "      <td>2009-01-01</td>\n",
       "      <td>2009-01-01</td>\n",
       "      <td>NaN</td>\n",
       "    </tr>\n",
       "    <tr>\n",
       "      <th>4</th>\n",
       "      <td>2009-01-01</td>\n",
       "      <td>5</td>\n",
       "      <td>35687</td>\n",
       "      <td>0</td>\n",
       "      <td>0</td>\n",
       "      <td>2009-01-01 02:15:00</td>\n",
       "      <td>2009-01-01</td>\n",
       "      <td>2009-01-01</td>\n",
       "      <td>NaN</td>\n",
       "    </tr>\n",
       "  </tbody>\n",
       "</table>\n",
       "</div>"
      ],
      "text/plain": [
       "  SETTLEMENT_DATE  SETTLEMENT_PERIOD     ND  EMBEDDED_SOLAR_GENERATION  \\\n",
       "0      2009-01-01                  1  37910                          0   \n",
       "1      2009-01-01                  2  38047                          0   \n",
       "2      2009-01-01                  3  37380                          0   \n",
       "3      2009-01-01                  4  36426                          0   \n",
       "4      2009-01-01                  5  35687                          0   \n",
       "\n",
       "   EMBEDDED_SOLAR_CAPACITY            DATETIME YEAR_MONTH        YMD  sun_eff  \n",
       "0                        0 2009-01-01 00:15:00 2009-01-01 2009-01-01      NaN  \n",
       "1                        0 2009-01-01 00:45:00 2009-01-01 2009-01-01      NaN  \n",
       "2                        0 2009-01-01 01:15:00 2009-01-01 2009-01-01      NaN  \n",
       "3                        0 2009-01-01 01:45:00 2009-01-01 2009-01-01      NaN  \n",
       "4                        0 2009-01-01 02:15:00 2009-01-01 2009-01-01      NaN  "
      ]
     },
     "execution_count": 163,
     "metadata": {},
     "output_type": "execute_result"
    }
   ],
   "source": [
    "df.head()"
   ]
  },
  {
   "cell_type": "markdown",
   "metadata": {},
   "source": [
    "Weather Data (as in TR)"
   ]
  },
  {
   "cell_type": "code",
   "execution_count": 164,
   "metadata": {},
   "outputs": [],
   "source": [
    "w_start = datetime.datetime(2011, 1, 1)\n",
    "w_end = datetime.datetime(2024, 6, 1)\n",
    "\n",
    "ldn = met.Point(51.469714, -0.463319)\n",
    "edi = met.Point(55.949920, -3.359142)\n",
    "cdf = met.Point(51.409223, -3.433527)"
   ]
  },
  {
   "cell_type": "code",
   "execution_count": 165,
   "metadata": {},
   "outputs": [],
   "source": [
    "ldn_wdat = met.Monthly(ldn, start=w_start, end=w_end).fetch().interpolate()[[\"tavg\", \"wspd\"]]\n",
    "edi_wdat = met.Monthly(edi, start=w_start, end=w_end).fetch().interpolate()[[\"tavg\", \"wspd\"]]\n",
    "cdf_wdat = met.Monthly(cdf, start=w_start, end=w_end).fetch().interpolate()[[\"tavg\", \"wspd\"]]"
   ]
  },
  {
   "cell_type": "code",
   "execution_count": 166,
   "metadata": {},
   "outputs": [],
   "source": [
    "sun_factor_09 = df[[\"YEAR_MONTH\", \"sun_eff\"]].groupby(\"YEAR_MONTH\").agg(\"mean\").asfreq(\"MS\")\n",
    "sun_data = sun_factor_09[(sun_factor_09.index >= pd.to_datetime(\"2011-01-01\"))]\n",
    "\n",
    "combined_wdat = pd.concat([ldn_wdat, edi_wdat, cdf_wdat, sun_data], axis=1)\n",
    "\n",
    "mean_wdat = combined_wdat.T.groupby(combined_wdat.columns).agg(\"mean\").T"
   ]
  },
  {
   "cell_type": "code",
   "execution_count": 167,
   "metadata": {},
   "outputs": [
    {
     "data": {
      "text/html": [
       "<div>\n",
       "<style scoped>\n",
       "    .dataframe tbody tr th:only-of-type {\n",
       "        vertical-align: middle;\n",
       "    }\n",
       "\n",
       "    .dataframe tbody tr th {\n",
       "        vertical-align: top;\n",
       "    }\n",
       "\n",
       "    .dataframe thead th {\n",
       "        text-align: right;\n",
       "    }\n",
       "</style>\n",
       "<table border=\"1\" class=\"dataframe\">\n",
       "  <thead>\n",
       "    <tr style=\"text-align: right;\">\n",
       "      <th></th>\n",
       "      <th>sun_eff</th>\n",
       "      <th>tavg</th>\n",
       "      <th>wspd</th>\n",
       "    </tr>\n",
       "  </thead>\n",
       "  <tbody>\n",
       "    <tr>\n",
       "      <th>2011-01-01</th>\n",
       "      <td>0.018301</td>\n",
       "      <td>5.300</td>\n",
       "      <td>14.400</td>\n",
       "    </tr>\n",
       "    <tr>\n",
       "      <th>2011-02-01</th>\n",
       "      <td>0.026512</td>\n",
       "      <td>7.500</td>\n",
       "      <td>18.000</td>\n",
       "    </tr>\n",
       "    <tr>\n",
       "      <th>2011-03-01</th>\n",
       "      <td>0.068665</td>\n",
       "      <td>8.925</td>\n",
       "      <td>15.775</td>\n",
       "    </tr>\n",
       "    <tr>\n",
       "      <th>2011-04-01</th>\n",
       "      <td>0.117791</td>\n",
       "      <td>13.100</td>\n",
       "      <td>13.550</td>\n",
       "    </tr>\n",
       "    <tr>\n",
       "      <th>2011-05-01</th>\n",
       "      <td>0.125091</td>\n",
       "      <td>13.580</td>\n",
       "      <td>14.300</td>\n",
       "    </tr>\n",
       "  </tbody>\n",
       "</table>\n",
       "</div>"
      ],
      "text/plain": [
       "             sun_eff    tavg    wspd\n",
       "2011-01-01  0.018301   5.300  14.400\n",
       "2011-02-01  0.026512   7.500  18.000\n",
       "2011-03-01  0.068665   8.925  15.775\n",
       "2011-04-01  0.117791  13.100  13.550\n",
       "2011-05-01  0.125091  13.580  14.300"
      ]
     },
     "execution_count": 167,
     "metadata": {},
     "output_type": "execute_result"
    }
   ],
   "source": [
    "mean_wdat.head()"
   ]
  },
  {
   "cell_type": "code",
   "execution_count": 168,
   "metadata": {},
   "outputs": [],
   "source": [
    "ltoc = df[[\"YEAR_MONTH\", \"ND\"]].groupby(\"YEAR_MONTH\").agg(\"mean\").asfreq(\"MS\")"
   ]
  },
  {
   "cell_type": "code",
   "execution_count": 169,
   "metadata": {},
   "outputs": [],
   "source": [
    "scaler_ltoc = MinMaxScaler(feature_range=(0, 1))"
   ]
  },
  {
   "cell_type": "code",
   "execution_count": 170,
   "metadata": {},
   "outputs": [],
   "source": [
    "agg_ltoc = ltoc[ltoc.index >= pd.to_datetime(\"2009-01-01\")].asfreq(\"MS\")\n",
    "sctr_ltoc = scaler_ltoc.fit_transform(agg_ltoc[agg_ltoc.index < pd.to_datetime(\"2017-01-01\")])\n",
    "scvl_ltoc = scaler_ltoc.fit_transform(agg_ltoc[(agg_ltoc.index >= pd.to_datetime(\"2017-01-01\")) & (agg_ltoc.index < pd.to_datetime(\"2020-01-01\"))])\n",
    "scts_ltoc = scaler_ltoc.fit_transform(agg_ltoc[(agg_ltoc.index >= pd.to_datetime(\"2020-01-01\")) & (agg_ltoc.index < pd.to_datetime(\"2024-05-01\"))])"
   ]
  },
  {
   "cell_type": "markdown",
   "metadata": {},
   "source": [
    "Some of the following code has been taken from the very helpful tutorial by Greg Hogg (https://www.youtube.com/watch?v=c0k-YLQGKjY, https://colab.research.google.com/drive/1HxPsJvEAH8L7XTmLnfdJ3UQx7j0o1yX5?usp=sharing#scrollTo=EbrFD1vMR_qS). These resources and other miscellaneous StackExchange threads on parameter selection and tuning have been use to construct the following models."
   ]
  },
  {
   "cell_type": "code",
   "execution_count": 171,
   "metadata": {},
   "outputs": [],
   "source": [
    "def col_Xy(col: Series, seasonal_order: int) -> (np.ndarray, np.ndarray):\n",
    "  X = []\n",
    "  y = []\n",
    "  for i in range(len(col)-seasonal_order):\n",
    "    window = [a for a in col[i:i+seasonal_order]]\n",
    "    X.append(window)\n",
    "    label = col[i+seasonal_order]\n",
    "    y.append(label)\n",
    "  return np.array(X), np.array(y)"
   ]
  },
  {
   "cell_type": "markdown",
   "metadata": {},
   "source": [
    "The function takes the previous `seasonal_order` number of values and then labels them with the `seasonal_order + 1`-th value"
   ]
  },
  {
   "cell_type": "code",
   "execution_count": 172,
   "metadata": {},
   "outputs": [],
   "source": [
    "SEASON_LTLF = 11"
   ]
  },
  {
   "cell_type": "markdown",
   "metadata": {},
   "source": [
    "11 is chosen because we want to predict the 12th value based on the previous 11. The idea is that the window size (ML `seasonal_order`) is the traditional seasonal order - 1."
   ]
  },
  {
   "cell_type": "code",
   "execution_count": 173,
   "metadata": {},
   "outputs": [],
   "source": [
    "Xtr_ltoc, ytr_ltoc = col_Xy(sctr_ltoc, SEASON_LTLF)"
   ]
  },
  {
   "cell_type": "code",
   "execution_count": 174,
   "metadata": {},
   "outputs": [
    {
     "data": {
      "text/plain": [
       "array([[0.92964219],\n",
       "       [0.88378702],\n",
       "       [0.6664977 ],\n",
       "       [0.44309417],\n",
       "       [0.3433566 ],\n",
       "       [0.34481605],\n",
       "       [0.31615413],\n",
       "       [0.2784782 ],\n",
       "       [0.3665271 ],\n",
       "       [0.48840659],\n",
       "       [0.63882912]])"
      ]
     },
     "execution_count": 174,
     "metadata": {},
     "output_type": "execute_result"
    }
   ],
   "source": [
    "Xtr_ltoc[0]"
   ]
  },
  {
   "cell_type": "code",
   "execution_count": 175,
   "metadata": {},
   "outputs": [
    {
     "data": {
      "text/plain": [
       "array([0.82318279])"
      ]
     },
     "execution_count": 175,
     "metadata": {},
     "output_type": "execute_result"
    }
   ],
   "source": [
    "ytr_ltoc[0]"
   ]
  },
  {
   "cell_type": "code",
   "execution_count": 176,
   "metadata": {},
   "outputs": [],
   "source": [
    "Xvl_ltoc, yvl_ltoc = col_Xy(scvl_ltoc, SEASON_LTLF)\n",
    "Xts_ltoc, yts_ltoc = col_Xy(scts_ltoc, SEASON_LTLF)"
   ]
  },
  {
   "cell_type": "markdown",
   "metadata": {},
   "source": [
    "### Running the LTLF"
   ]
  },
  {
   "cell_type": "markdown",
   "metadata": {},
   "source": [
    "First I build the model, as shown in much of the documentation, StackOverflow recommendations, and various tutorials online"
   ]
  },
  {
   "cell_type": "code",
   "execution_count": 177,
   "metadata": {},
   "outputs": [
    {
     "data": {
      "text/html": [
       "<pre style=\"white-space:pre;overflow-x:auto;line-height:normal;font-family:Menlo,'DejaVu Sans Mono',consolas,'Courier New',monospace\"><span style=\"font-weight: bold\">Model: \"sequential_171\"</span>\n",
       "</pre>\n"
      ],
      "text/plain": [
       "\u001b[1mModel: \"sequential_171\"\u001b[0m\n"
      ]
     },
     "metadata": {},
     "output_type": "display_data"
    },
    {
     "data": {
      "text/html": [
       "<pre style=\"white-space:pre;overflow-x:auto;line-height:normal;font-family:Menlo,'DejaVu Sans Mono',consolas,'Courier New',monospace\">┏━━━━━━━━━━━━━━━━━━━━━━━━━━━━━━━━━┳━━━━━━━━━━━━━━━━━━━━━━━━┳━━━━━━━━━━━━━━━┓\n",
       "┃<span style=\"font-weight: bold\"> Layer (type)                    </span>┃<span style=\"font-weight: bold\"> Output Shape           </span>┃<span style=\"font-weight: bold\">       Param # </span>┃\n",
       "┡━━━━━━━━━━━━━━━━━━━━━━━━━━━━━━━━━╇━━━━━━━━━━━━━━━━━━━━━━━━╇━━━━━━━━━━━━━━━┩\n",
       "│ lstm_202 (<span style=\"color: #0087ff; text-decoration-color: #0087ff\">LSTM</span>)                 │ (<span style=\"color: #00d7ff; text-decoration-color: #00d7ff\">None</span>, <span style=\"color: #00af00; text-decoration-color: #00af00\">11</span>, <span style=\"color: #00af00; text-decoration-color: #00af00\">128</span>)        │        <span style=\"color: #00af00; text-decoration-color: #00af00\">66,560</span> │\n",
       "├─────────────────────────────────┼────────────────────────┼───────────────┤\n",
       "│ lstm_203 (<span style=\"color: #0087ff; text-decoration-color: #0087ff\">LSTM</span>)                 │ (<span style=\"color: #00d7ff; text-decoration-color: #00d7ff\">None</span>, <span style=\"color: #00af00; text-decoration-color: #00af00\">128</span>)            │       <span style=\"color: #00af00; text-decoration-color: #00af00\">131,584</span> │\n",
       "├─────────────────────────────────┼────────────────────────┼───────────────┤\n",
       "│ dense_342 (<span style=\"color: #0087ff; text-decoration-color: #0087ff\">Dense</span>)               │ (<span style=\"color: #00d7ff; text-decoration-color: #00d7ff\">None</span>, <span style=\"color: #00af00; text-decoration-color: #00af00\">8</span>)              │         <span style=\"color: #00af00; text-decoration-color: #00af00\">1,032</span> │\n",
       "├─────────────────────────────────┼────────────────────────┼───────────────┤\n",
       "│ dense_343 (<span style=\"color: #0087ff; text-decoration-color: #0087ff\">Dense</span>)               │ (<span style=\"color: #00d7ff; text-decoration-color: #00d7ff\">None</span>, <span style=\"color: #00af00; text-decoration-color: #00af00\">1</span>)              │             <span style=\"color: #00af00; text-decoration-color: #00af00\">9</span> │\n",
       "└─────────────────────────────────┴────────────────────────┴───────────────┘\n",
       "</pre>\n"
      ],
      "text/plain": [
       "┏━━━━━━━━━━━━━━━━━━━━━━━━━━━━━━━━━┳━━━━━━━━━━━━━━━━━━━━━━━━┳━━━━━━━━━━━━━━━┓\n",
       "┃\u001b[1m \u001b[0m\u001b[1mLayer (type)                   \u001b[0m\u001b[1m \u001b[0m┃\u001b[1m \u001b[0m\u001b[1mOutput Shape          \u001b[0m\u001b[1m \u001b[0m┃\u001b[1m \u001b[0m\u001b[1m      Param #\u001b[0m\u001b[1m \u001b[0m┃\n",
       "┡━━━━━━━━━━━━━━━━━━━━━━━━━━━━━━━━━╇━━━━━━━━━━━━━━━━━━━━━━━━╇━━━━━━━━━━━━━━━┩\n",
       "│ lstm_202 (\u001b[38;5;33mLSTM\u001b[0m)                 │ (\u001b[38;5;45mNone\u001b[0m, \u001b[38;5;34m11\u001b[0m, \u001b[38;5;34m128\u001b[0m)        │        \u001b[38;5;34m66,560\u001b[0m │\n",
       "├─────────────────────────────────┼────────────────────────┼───────────────┤\n",
       "│ lstm_203 (\u001b[38;5;33mLSTM\u001b[0m)                 │ (\u001b[38;5;45mNone\u001b[0m, \u001b[38;5;34m128\u001b[0m)            │       \u001b[38;5;34m131,584\u001b[0m │\n",
       "├─────────────────────────────────┼────────────────────────┼───────────────┤\n",
       "│ dense_342 (\u001b[38;5;33mDense\u001b[0m)               │ (\u001b[38;5;45mNone\u001b[0m, \u001b[38;5;34m8\u001b[0m)              │         \u001b[38;5;34m1,032\u001b[0m │\n",
       "├─────────────────────────────────┼────────────────────────┼───────────────┤\n",
       "│ dense_343 (\u001b[38;5;33mDense\u001b[0m)               │ (\u001b[38;5;45mNone\u001b[0m, \u001b[38;5;34m1\u001b[0m)              │             \u001b[38;5;34m9\u001b[0m │\n",
       "└─────────────────────────────────┴────────────────────────┴───────────────┘\n"
      ]
     },
     "metadata": {},
     "output_type": "display_data"
    },
    {
     "data": {
      "text/html": [
       "<pre style=\"white-space:pre;overflow-x:auto;line-height:normal;font-family:Menlo,'DejaVu Sans Mono',consolas,'Courier New',monospace\"><span style=\"font-weight: bold\"> Total params: </span><span style=\"color: #00af00; text-decoration-color: #00af00\">199,185</span> (778.07 KB)\n",
       "</pre>\n"
      ],
      "text/plain": [
       "\u001b[1m Total params: \u001b[0m\u001b[38;5;34m199,185\u001b[0m (778.07 KB)\n"
      ]
     },
     "metadata": {},
     "output_type": "display_data"
    },
    {
     "data": {
      "text/html": [
       "<pre style=\"white-space:pre;overflow-x:auto;line-height:normal;font-family:Menlo,'DejaVu Sans Mono',consolas,'Courier New',monospace\"><span style=\"font-weight: bold\"> Trainable params: </span><span style=\"color: #00af00; text-decoration-color: #00af00\">199,185</span> (778.07 KB)\n",
       "</pre>\n"
      ],
      "text/plain": [
       "\u001b[1m Trainable params: \u001b[0m\u001b[38;5;34m199,185\u001b[0m (778.07 KB)\n"
      ]
     },
     "metadata": {},
     "output_type": "display_data"
    },
    {
     "data": {
      "text/html": [
       "<pre style=\"white-space:pre;overflow-x:auto;line-height:normal;font-family:Menlo,'DejaVu Sans Mono',consolas,'Courier New',monospace\"><span style=\"font-weight: bold\"> Non-trainable params: </span><span style=\"color: #00af00; text-decoration-color: #00af00\">0</span> (0.00 B)\n",
       "</pre>\n"
      ],
      "text/plain": [
       "\u001b[1m Non-trainable params: \u001b[0m\u001b[38;5;34m0\u001b[0m (0.00 B)\n"
      ]
     },
     "metadata": {},
     "output_type": "display_data"
    }
   ],
   "source": [
    "\n",
    "ltoc_model = Sequential()\n",
    "ltoc_model.add(InputLayer((SEASON_LTLF, 1)))\n",
    "ltoc_model.add(LSTM(128, return_sequences=True))\n",
    "ltoc_model.add(LSTM(128))\n",
    "ltoc_model.add(Dense(8, 'relu'))\n",
    "ltoc_model.add(Dense(1, 'linear'))\n",
    "\n",
    "ltoc_model.summary()"
   ]
  },
  {
   "cell_type": "markdown",
   "metadata": {},
   "source": [
    "I set a checkpoint for the epochs so that we can load the optimal model later and I compile the model."
   ]
  },
  {
   "cell_type": "code",
   "execution_count": 178,
   "metadata": {},
   "outputs": [],
   "source": [
    "cp = ModelCheckpoint('models/ltoc_model.keras', save_best_only=True)\n",
    "ltoc_model.compile(loss=MeanSquaredError(), optimizer=Adam(learning_rate=0.001), metrics=[RootMeanSquaredError()])"
   ]
  },
  {
   "cell_type": "markdown",
   "metadata": {},
   "source": [
    "Finally, I fit the model."
   ]
  },
  {
   "cell_type": "code",
   "execution_count": 179,
   "metadata": {},
   "outputs": [
    {
     "name": "stdout",
     "output_type": "stream",
     "text": [
      "Epoch 1/50\n",
      "\u001b[1m3/3\u001b[0m \u001b[32m━━━━━━━━━━━━━━━━━━━━\u001b[0m\u001b[37m\u001b[0m \u001b[1m2s\u001b[0m 145ms/step - loss: 0.1956 - root_mean_squared_error: 0.4422 - val_loss: 0.1432 - val_root_mean_squared_error: 0.3785\n",
      "Epoch 2/50\n",
      "\u001b[1m3/3\u001b[0m \u001b[32m━━━━━━━━━━━━━━━━━━━━\u001b[0m\u001b[37m\u001b[0m \u001b[1m0s\u001b[0m 31ms/step - loss: 0.0904 - root_mean_squared_error: 0.3001 - val_loss: 0.1382 - val_root_mean_squared_error: 0.3717\n",
      "Epoch 3/50\n",
      "\u001b[1m3/3\u001b[0m \u001b[32m━━━━━━━━━━━━━━━━━━━━\u001b[0m\u001b[37m\u001b[0m \u001b[1m0s\u001b[0m 30ms/step - loss: 0.0868 - root_mean_squared_error: 0.2943 - val_loss: 0.1205 - val_root_mean_squared_error: 0.3471\n",
      "Epoch 4/50\n",
      "\u001b[1m3/3\u001b[0m \u001b[32m━━━━━━━━━━━━━━━━━━━━\u001b[0m\u001b[37m\u001b[0m \u001b[1m0s\u001b[0m 30ms/step - loss: 0.0640 - root_mean_squared_error: 0.2527 - val_loss: 0.1183 - val_root_mean_squared_error: 0.3439\n",
      "Epoch 5/50\n",
      "\u001b[1m3/3\u001b[0m \u001b[32m━━━━━━━━━━━━━━━━━━━━\u001b[0m\u001b[37m\u001b[0m \u001b[1m0s\u001b[0m 17ms/step - loss: 0.0641 - root_mean_squared_error: 0.2527 - val_loss: 0.1205 - val_root_mean_squared_error: 0.3471\n",
      "Epoch 6/50\n",
      "\u001b[1m3/3\u001b[0m \u001b[32m━━━━━━━━━━━━━━━━━━━━\u001b[0m\u001b[37m\u001b[0m \u001b[1m0s\u001b[0m 31ms/step - loss: 0.0712 - root_mean_squared_error: 0.2667 - val_loss: 0.1132 - val_root_mean_squared_error: 0.3364\n",
      "Epoch 7/50\n",
      "\u001b[1m3/3\u001b[0m \u001b[32m━━━━━━━━━━━━━━━━━━━━\u001b[0m\u001b[37m\u001b[0m \u001b[1m0s\u001b[0m 31ms/step - loss: 0.0643 - root_mean_squared_error: 0.2535 - val_loss: 0.1117 - val_root_mean_squared_error: 0.3343\n",
      "Epoch 8/50\n",
      "\u001b[1m3/3\u001b[0m \u001b[32m━━━━━━━━━━━━━━━━━━━━\u001b[0m\u001b[37m\u001b[0m \u001b[1m0s\u001b[0m 16ms/step - loss: 0.0597 - root_mean_squared_error: 0.2443 - val_loss: 0.1137 - val_root_mean_squared_error: 0.3372\n",
      "Epoch 9/50\n",
      "\u001b[1m3/3\u001b[0m \u001b[32m━━━━━━━━━━━━━━━━━━━━\u001b[0m\u001b[37m\u001b[0m \u001b[1m0s\u001b[0m 30ms/step - loss: 0.0582 - root_mean_squared_error: 0.2410 - val_loss: 0.1080 - val_root_mean_squared_error: 0.3287\n",
      "Epoch 10/50\n",
      "\u001b[1m3/3\u001b[0m \u001b[32m━━━━━━━━━━━━━━━━━━━━\u001b[0m\u001b[37m\u001b[0m \u001b[1m0s\u001b[0m 30ms/step - loss: 0.0557 - root_mean_squared_error: 0.2359 - val_loss: 0.1065 - val_root_mean_squared_error: 0.3264\n",
      "Epoch 11/50\n",
      "\u001b[1m3/3\u001b[0m \u001b[32m━━━━━━━━━━━━━━━━━━━━\u001b[0m\u001b[37m\u001b[0m \u001b[1m0s\u001b[0m 31ms/step - loss: 0.0552 - root_mean_squared_error: 0.2343 - val_loss: 0.1052 - val_root_mean_squared_error: 0.3244\n",
      "Epoch 12/50\n",
      "\u001b[1m3/3\u001b[0m \u001b[32m━━━━━━━━━━━━━━━━━━━━\u001b[0m\u001b[37m\u001b[0m \u001b[1m0s\u001b[0m 30ms/step - loss: 0.0547 - root_mean_squared_error: 0.2337 - val_loss: 0.1032 - val_root_mean_squared_error: 0.3213\n",
      "Epoch 13/50\n",
      "\u001b[1m3/3\u001b[0m \u001b[32m━━━━━━━━━━━━━━━━━━━━\u001b[0m\u001b[37m\u001b[0m \u001b[1m0s\u001b[0m 29ms/step - loss: 0.0584 - root_mean_squared_error: 0.2415 - val_loss: 0.1025 - val_root_mean_squared_error: 0.3201\n",
      "Epoch 14/50\n",
      "\u001b[1m3/3\u001b[0m \u001b[32m━━━━━━━━━━━━━━━━━━━━\u001b[0m\u001b[37m\u001b[0m \u001b[1m0s\u001b[0m 30ms/step - loss: 0.0574 - root_mean_squared_error: 0.2395 - val_loss: 0.1012 - val_root_mean_squared_error: 0.3181\n",
      "Epoch 15/50\n",
      "\u001b[1m3/3\u001b[0m \u001b[32m━━━━━━━━━━━━━━━━━━━━\u001b[0m\u001b[37m\u001b[0m \u001b[1m0s\u001b[0m 30ms/step - loss: 0.0545 - root_mean_squared_error: 0.2334 - val_loss: 0.0994 - val_root_mean_squared_error: 0.3152\n",
      "Epoch 16/50\n",
      "\u001b[1m3/3\u001b[0m \u001b[32m━━━━━━━━━━━━━━━━━━━━\u001b[0m\u001b[37m\u001b[0m \u001b[1m0s\u001b[0m 29ms/step - loss: 0.0548 - root_mean_squared_error: 0.2340 - val_loss: 0.0979 - val_root_mean_squared_error: 0.3129\n",
      "Epoch 17/50\n",
      "\u001b[1m3/3\u001b[0m \u001b[32m━━━━━━━━━━━━━━━━━━━━\u001b[0m\u001b[37m\u001b[0m \u001b[1m0s\u001b[0m 29ms/step - loss: 0.0526 - root_mean_squared_error: 0.2288 - val_loss: 0.0965 - val_root_mean_squared_error: 0.3106\n",
      "Epoch 18/50\n",
      "\u001b[1m3/3\u001b[0m \u001b[32m━━━━━━━━━━━━━━━━━━━━\u001b[0m\u001b[37m\u001b[0m \u001b[1m0s\u001b[0m 29ms/step - loss: 0.0555 - root_mean_squared_error: 0.2356 - val_loss: 0.0949 - val_root_mean_squared_error: 0.3080\n",
      "Epoch 19/50\n",
      "\u001b[1m3/3\u001b[0m \u001b[32m━━━━━━━━━━━━━━━━━━━━\u001b[0m\u001b[37m\u001b[0m \u001b[1m0s\u001b[0m 29ms/step - loss: 0.0500 - root_mean_squared_error: 0.2234 - val_loss: 0.0932 - val_root_mean_squared_error: 0.3053\n",
      "Epoch 20/50\n",
      "\u001b[1m3/3\u001b[0m \u001b[32m━━━━━━━━━━━━━━━━━━━━\u001b[0m\u001b[37m\u001b[0m \u001b[1m0s\u001b[0m 29ms/step - loss: 0.0507 - root_mean_squared_error: 0.2251 - val_loss: 0.0913 - val_root_mean_squared_error: 0.3022\n",
      "Epoch 21/50\n",
      "\u001b[1m3/3\u001b[0m \u001b[32m━━━━━━━━━━━━━━━━━━━━\u001b[0m\u001b[37m\u001b[0m \u001b[1m0s\u001b[0m 30ms/step - loss: 0.0505 - root_mean_squared_error: 0.2247 - val_loss: 0.0885 - val_root_mean_squared_error: 0.2974\n",
      "Epoch 22/50\n",
      "\u001b[1m3/3\u001b[0m \u001b[32m━━━━━━━━━━━━━━━━━━━━\u001b[0m\u001b[37m\u001b[0m \u001b[1m0s\u001b[0m 29ms/step - loss: 0.0505 - root_mean_squared_error: 0.2248 - val_loss: 0.0857 - val_root_mean_squared_error: 0.2927\n",
      "Epoch 23/50\n",
      "\u001b[1m3/3\u001b[0m \u001b[32m━━━━━━━━━━━━━━━━━━━━\u001b[0m\u001b[37m\u001b[0m \u001b[1m0s\u001b[0m 29ms/step - loss: 0.0496 - root_mean_squared_error: 0.2227 - val_loss: 0.0820 - val_root_mean_squared_error: 0.2863\n",
      "Epoch 24/50\n",
      "\u001b[1m3/3\u001b[0m \u001b[32m━━━━━━━━━━━━━━━━━━━━\u001b[0m\u001b[37m\u001b[0m \u001b[1m0s\u001b[0m 30ms/step - loss: 0.0486 - root_mean_squared_error: 0.2202 - val_loss: 0.0792 - val_root_mean_squared_error: 0.2814\n",
      "Epoch 25/50\n",
      "\u001b[1m3/3\u001b[0m \u001b[32m━━━━━━━━━━━━━━━━━━━━\u001b[0m\u001b[37m\u001b[0m \u001b[1m0s\u001b[0m 30ms/step - loss: 0.0467 - root_mean_squared_error: 0.2160 - val_loss: 0.0715 - val_root_mean_squared_error: 0.2674\n",
      "Epoch 26/50\n",
      "\u001b[1m3/3\u001b[0m \u001b[32m━━━━━━━━━━━━━━━━━━━━\u001b[0m\u001b[37m\u001b[0m \u001b[1m0s\u001b[0m 30ms/step - loss: 0.0442 - root_mean_squared_error: 0.2102 - val_loss: 0.0639 - val_root_mean_squared_error: 0.2529\n",
      "Epoch 27/50\n",
      "\u001b[1m3/3\u001b[0m \u001b[32m━━━━━━━━━━━━━━━━━━━━\u001b[0m\u001b[37m\u001b[0m \u001b[1m0s\u001b[0m 30ms/step - loss: 0.0431 - root_mean_squared_error: 0.2067 - val_loss: 0.0608 - val_root_mean_squared_error: 0.2466\n",
      "Epoch 28/50\n",
      "\u001b[1m3/3\u001b[0m \u001b[32m━━━━━━━━━━━━━━━━━━━━\u001b[0m\u001b[37m\u001b[0m \u001b[1m0s\u001b[0m 30ms/step - loss: 0.0348 - root_mean_squared_error: 0.1865 - val_loss: 0.0473 - val_root_mean_squared_error: 0.2175\n",
      "Epoch 29/50\n",
      "\u001b[1m3/3\u001b[0m \u001b[32m━━━━━━━━━━━━━━━━━━━━\u001b[0m\u001b[37m\u001b[0m \u001b[1m0s\u001b[0m 30ms/step - loss: 0.0291 - root_mean_squared_error: 0.1704 - val_loss: 0.0378 - val_root_mean_squared_error: 0.1944\n",
      "Epoch 30/50\n",
      "\u001b[1m3/3\u001b[0m \u001b[32m━━━━━━━━━━━━━━━━━━━━\u001b[0m\u001b[37m\u001b[0m \u001b[1m0s\u001b[0m 30ms/step - loss: 0.0228 - root_mean_squared_error: 0.1508 - val_loss: 0.0269 - val_root_mean_squared_error: 0.1639\n",
      "Epoch 31/50\n",
      "\u001b[1m3/3\u001b[0m \u001b[32m━━━━━━━━━━━━━━━━━━━━\u001b[0m\u001b[37m\u001b[0m \u001b[1m0s\u001b[0m 30ms/step - loss: 0.0196 - root_mean_squared_error: 0.1399 - val_loss: 0.0170 - val_root_mean_squared_error: 0.1305\n",
      "Epoch 32/50\n",
      "\u001b[1m3/3\u001b[0m \u001b[32m━━━━━━━━━━━━━━━━━━━━\u001b[0m\u001b[37m\u001b[0m \u001b[1m0s\u001b[0m 16ms/step - loss: 0.0213 - root_mean_squared_error: 0.1458 - val_loss: 0.0182 - val_root_mean_squared_error: 0.1348\n",
      "Epoch 33/50\n",
      "\u001b[1m3/3\u001b[0m \u001b[32m━━━━━━━━━━━━━━━━━━━━\u001b[0m\u001b[37m\u001b[0m \u001b[1m0s\u001b[0m 30ms/step - loss: 0.0160 - root_mean_squared_error: 0.1263 - val_loss: 0.0111 - val_root_mean_squared_error: 0.1055\n",
      "Epoch 34/50\n",
      "\u001b[1m3/3\u001b[0m \u001b[32m━━━━━━━━━━━━━━━━━━━━\u001b[0m\u001b[37m\u001b[0m \u001b[1m0s\u001b[0m 15ms/step - loss: 0.0138 - root_mean_squared_error: 0.1172 - val_loss: 0.0178 - val_root_mean_squared_error: 0.1334\n",
      "Epoch 35/50\n",
      "\u001b[1m3/3\u001b[0m \u001b[32m━━━━━━━━━━━━━━━━━━━━\u001b[0m\u001b[37m\u001b[0m \u001b[1m0s\u001b[0m 15ms/step - loss: 0.0209 - root_mean_squared_error: 0.1441 - val_loss: 0.0125 - val_root_mean_squared_error: 0.1118\n",
      "Epoch 36/50\n",
      "\u001b[1m3/3\u001b[0m \u001b[32m━━━━━━━━━━━━━━━━━━━━\u001b[0m\u001b[37m\u001b[0m \u001b[1m0s\u001b[0m 15ms/step - loss: 0.0114 - root_mean_squared_error: 0.1064 - val_loss: 0.0139 - val_root_mean_squared_error: 0.1178\n",
      "Epoch 37/50\n",
      "\u001b[1m3/3\u001b[0m \u001b[32m━━━━━━━━━━━━━━━━━━━━\u001b[0m\u001b[37m\u001b[0m \u001b[1m0s\u001b[0m 16ms/step - loss: 0.0117 - root_mean_squared_error: 0.1083 - val_loss: 0.0134 - val_root_mean_squared_error: 0.1158\n",
      "Epoch 38/50\n",
      "\u001b[1m3/3\u001b[0m \u001b[32m━━━━━━━━━━━━━━━━━━━━\u001b[0m\u001b[37m\u001b[0m \u001b[1m0s\u001b[0m 15ms/step - loss: 0.0118 - root_mean_squared_error: 0.1084 - val_loss: 0.0121 - val_root_mean_squared_error: 0.1100\n",
      "Epoch 39/50\n",
      "\u001b[1m3/3\u001b[0m \u001b[32m━━━━━━━━━━━━━━━━━━━━\u001b[0m\u001b[37m\u001b[0m \u001b[1m0s\u001b[0m 15ms/step - loss: 0.0082 - root_mean_squared_error: 0.0903 - val_loss: 0.0114 - val_root_mean_squared_error: 0.1067\n",
      "Epoch 40/50\n",
      "\u001b[1m3/3\u001b[0m \u001b[32m━━━━━━━━━━━━━━━━━━━━\u001b[0m\u001b[37m\u001b[0m \u001b[1m0s\u001b[0m 29ms/step - loss: 0.0080 - root_mean_squared_error: 0.0892 - val_loss: 0.0110 - val_root_mean_squared_error: 0.1050\n",
      "Epoch 41/50\n",
      "\u001b[1m3/3\u001b[0m \u001b[32m━━━━━━━━━━━━━━━━━━━━\u001b[0m\u001b[37m\u001b[0m \u001b[1m0s\u001b[0m 29ms/step - loss: 0.0072 - root_mean_squared_error: 0.0846 - val_loss: 0.0104 - val_root_mean_squared_error: 0.1020\n",
      "Epoch 42/50\n",
      "\u001b[1m3/3\u001b[0m \u001b[32m━━━━━━━━━━━━━━━━━━━━\u001b[0m\u001b[37m\u001b[0m \u001b[1m0s\u001b[0m 16ms/step - loss: 0.0066 - root_mean_squared_error: 0.0811 - val_loss: 0.0184 - val_root_mean_squared_error: 0.1355\n",
      "Epoch 43/50\n",
      "\u001b[1m3/3\u001b[0m \u001b[32m━━━━━━━━━━━━━━━━━━━━\u001b[0m\u001b[37m\u001b[0m \u001b[1m0s\u001b[0m 16ms/step - loss: 0.0109 - root_mean_squared_error: 0.1043 - val_loss: 0.0158 - val_root_mean_squared_error: 0.1257\n",
      "Epoch 44/50\n",
      "\u001b[1m3/3\u001b[0m \u001b[32m━━━━━━━━━━━━━━━━━━━━\u001b[0m\u001b[37m\u001b[0m \u001b[1m0s\u001b[0m 15ms/step - loss: 0.0133 - root_mean_squared_error: 0.1152 - val_loss: 0.0110 - val_root_mean_squared_error: 0.1047\n",
      "Epoch 45/50\n",
      "\u001b[1m3/3\u001b[0m \u001b[32m━━━━━━━━━━━━━━━━━━━━\u001b[0m\u001b[37m\u001b[0m \u001b[1m0s\u001b[0m 16ms/step - loss: 0.0107 - root_mean_squared_error: 0.1016 - val_loss: 0.0158 - val_root_mean_squared_error: 0.1257\n",
      "Epoch 46/50\n",
      "\u001b[1m3/3\u001b[0m \u001b[32m━━━━━━━━━━━━━━━━━━━━\u001b[0m\u001b[37m\u001b[0m \u001b[1m0s\u001b[0m 16ms/step - loss: 0.0093 - root_mean_squared_error: 0.0966 - val_loss: 0.0148 - val_root_mean_squared_error: 0.1215\n",
      "Epoch 47/50\n",
      "\u001b[1m3/3\u001b[0m \u001b[32m━━━━━━━━━━━━━━━━━━━━\u001b[0m\u001b[37m\u001b[0m \u001b[1m0s\u001b[0m 15ms/step - loss: 0.0118 - root_mean_squared_error: 0.1080 - val_loss: 0.0162 - val_root_mean_squared_error: 0.1273\n",
      "Epoch 48/50\n",
      "\u001b[1m3/3\u001b[0m \u001b[32m━━━━━━━━━━━━━━━━━━━━\u001b[0m\u001b[37m\u001b[0m \u001b[1m0s\u001b[0m 16ms/step - loss: 0.0098 - root_mean_squared_error: 0.0988 - val_loss: 0.0126 - val_root_mean_squared_error: 0.1123\n",
      "Epoch 49/50\n",
      "\u001b[1m3/3\u001b[0m \u001b[32m━━━━━━━━━━━━━━━━━━━━\u001b[0m\u001b[37m\u001b[0m \u001b[1m0s\u001b[0m 15ms/step - loss: 0.0080 - root_mean_squared_error: 0.0896 - val_loss: 0.0148 - val_root_mean_squared_error: 0.1218\n",
      "Epoch 50/50\n",
      "\u001b[1m3/3\u001b[0m \u001b[32m━━━━━━━━━━━━━━━━━━━━\u001b[0m\u001b[37m\u001b[0m \u001b[1m0s\u001b[0m 15ms/step - loss: 0.0085 - root_mean_squared_error: 0.0921 - val_loss: 0.0133 - val_root_mean_squared_error: 0.1154\n"
     ]
    },
    {
     "data": {
      "text/plain": [
       "<keras.src.callbacks.history.History at 0x1a1fa9ef090>"
      ]
     },
     "execution_count": 179,
     "metadata": {},
     "output_type": "execute_result"
    }
   ],
   "source": [
    "ltoc_model.fit(Xtr_ltoc, ytr_ltoc, validation_data=(Xvl_ltoc, yvl_ltoc), epochs=50, callbacks=[cp])"
   ]
  },
  {
   "cell_type": "markdown",
   "metadata": {},
   "source": [
    "Load the best model."
   ]
  },
  {
   "cell_type": "code",
   "execution_count": 180,
   "metadata": {},
   "outputs": [],
   "source": [
    "ltoc_model = load_model('models/ltoc_model.keras')"
   ]
  },
  {
   "cell_type": "markdown",
   "metadata": {},
   "source": [
    "I unscale the data."
   ]
  },
  {
   "cell_type": "code",
   "execution_count": 181,
   "metadata": {},
   "outputs": [
    {
     "name": "stdout",
     "output_type": "stream",
     "text": [
      "\u001b[1m2/2\u001b[0m \u001b[32m━━━━━━━━━━━━━━━━━━━━\u001b[0m\u001b[37m\u001b[0m \u001b[1m0s\u001b[0m 171ms/step\n"
     ]
    }
   ],
   "source": [
    "pred_ltoc = ltoc_model.predict(Xts_ltoc)\n",
    "pred_ltoc = scaler_ltoc.inverse_transform(pred_ltoc)\n",
    "\n",
    "yts_ltoc = scaler_ltoc.inverse_transform(yts_ltoc)"
   ]
  },
  {
   "cell_type": "markdown",
   "metadata": {},
   "source": [
    "I plot the predicted values on the actuals to see how well the model did, and I output the MAPE."
   ]
  },
  {
   "cell_type": "markdown",
   "metadata": {},
   "source": [
    "FIX BORDERS AND TICKS!!!!"
   ]
  },
  {
   "cell_type": "code",
   "execution_count": 182,
   "metadata": {},
   "outputs": [],
   "source": [
    "def plot_fcast_ml(agg_data: DataFrame, val_start: str, test_start: str, test_end: str, pred_arr: np.ndarray, exog: bool) -> None:\n",
    "    \n",
    "    if exog:\n",
    "        actualized_df = agg_data[(agg_data.index >= pd.to_datetime(val_start)) & (agg_data.index < pd.to_datetime(test_end))][\"ND\"]\n",
    "    else:\n",
    "        actualized_df = agg_data[(agg_data.index >= pd.to_datetime(val_start)) & (agg_data.index < pd.to_datetime(test_end))]\n",
    "    \n",
    "    dates_ts = actualized_df[actualized_df.index >= pd.to_datetime(test_start)].index.to_list()\n",
    "\n",
    "    pred_arr = pd.Series(pred_arr.flatten())\n",
    "    \n",
    "    pred_arr.index = dates_ts\n",
    "\n",
    "    fig, ax = plt.subplots(figsize=(6, 5))\n",
    "\n",
    "    ax.grid(visible=True, linewidth=0.5)\n",
    "    \n",
    "    [x.set_linewidth(0.15) for x in ax.spines.values()]\n",
    "\n",
    "    ax.tick_params(left=False, bottom=False)\n",
    "\n",
    "    ax.plot(actualized_df, label='Actual', color=\"C0\")\n",
    "    ax.plot(pred_arr, label='Predicted', color=\"orange\")\n",
    "\n",
    "    plt.ylim(0, 50000)\n",
    "\n",
    "    plt.legend()\n",
    "    plt.xlabel(\"Date\")\n",
    "    plt.ylabel(\"National Demand (MW)\")\n",
    "    plt.xticks(rotation=45)\n",
    "\n",
    "    plt.show()"
   ]
  },
  {
   "cell_type": "code",
   "execution_count": 183,
   "metadata": {},
   "outputs": [
    {
     "data": {
      "image/png": "[encoded data removed]",
      "text/plain": [
       "<Figure size 600x500 with 1 Axes>"
      ]
     },
     "metadata": {},
     "output_type": "display_data"
    },
    {
     "name": "stdout",
     "output_type": "stream",
     "text": [
      "MAPE: 3.291%\n"
     ]
    }
   ],
   "source": [
    "plot_fcast_ml(agg_ltoc, \"2017-12-01\", \"2020-12-01\", \"2024-05-01\", pred_ltoc, False)\n",
    "\n",
    "print(f\"MAPE: {mean_absolute_percentage_error(yts_ltoc, pred_ltoc)*100:.3f}%\")"
   ]
  },
  {
   "cell_type": "markdown",
   "metadata": {},
   "source": [
    "This process will be repeated 7 more times with LSTM/GRU and `..oc`, `..mc` inputs."
   ]
  },
  {
   "cell_type": "markdown",
   "metadata": {},
   "source": [
    "### LTLF with Exogenous Variables"
   ]
  },
  {
   "cell_type": "code",
   "execution_count": 184,
   "metadata": {},
   "outputs": [],
   "source": [
    "def df_Xy(df: DataFrame, seasonal_order: int) -> (np.ndarray, np.ndarray):\n",
    "  X = []\n",
    "  y = []\n",
    "  for i in range(len(df)-seasonal_order):\n",
    "    row = [a for a in df[i:i+seasonal_order]]\n",
    "    X.append(row)\n",
    "    label = df[i+seasonal_order]\n",
    "    y.append(label)\n",
    "  return np.array(X), np.array(y)"
   ]
  },
  {
   "cell_type": "markdown",
   "metadata": {},
   "source": [
    "This is a modified col_Xy built for `..mc` datasets."
   ]
  },
  {
   "cell_type": "code",
   "execution_count": 185,
   "metadata": {},
   "outputs": [],
   "source": [
    "ltmc = ltoc[ltoc.index >= pd.to_datetime(\"2011-01-01\")].join(mean_wdat).asfreq(\"MS\")"
   ]
  },
  {
   "cell_type": "code",
   "execution_count": 186,
   "metadata": {},
   "outputs": [],
   "source": [
    "scaler_ltmc = MinMaxScaler(feature_range=(0, 1))\n",
    "\n",
    "sctr_ltmc = scaler_ltmc.fit_transform(ltmc[ltmc.index < pd.to_datetime(\"2017-01-01\")])\n",
    "scvl_ltmc = scaler_ltmc.fit_transform(ltmc[(ltmc.index >= pd.to_datetime(\"2017-01-01\")) & (ltmc.index < pd.to_datetime(\"2020-01-01\"))])\n",
    "scts_ltmc = scaler_ltmc.fit_transform(ltmc[(ltmc.index >= pd.to_datetime(\"2020-01-01\")) & (ltmc.index < pd.to_datetime(\"2024-05-01\"))])\n",
    "\n",
    "Xtr_ltmc, ytr_ltmc = df_Xy(sctr_ltmc, SEASON_LTLF)\n",
    "Xvl_ltmc, yvl_ltmc = df_Xy(scvl_ltmc, SEASON_LTLF)\n",
    "Xts_ltmc, yts_ltmc = df_Xy(scts_ltmc, SEASON_LTLF)"
   ]
  },
  {
   "cell_type": "code",
   "execution_count": 187,
   "metadata": {},
   "outputs": [
    {
     "data": {
      "text/html": [
       "<pre style=\"white-space:pre;overflow-x:auto;line-height:normal;font-family:Menlo,'DejaVu Sans Mono',consolas,'Courier New',monospace\"><span style=\"font-weight: bold\">Model: \"sequential_172\"</span>\n",
       "</pre>\n"
      ],
      "text/plain": [
       "\u001b[1mModel: \"sequential_172\"\u001b[0m\n"
      ]
     },
     "metadata": {},
     "output_type": "display_data"
    },
    {
     "data": {
      "text/html": [
       "<pre style=\"white-space:pre;overflow-x:auto;line-height:normal;font-family:Menlo,'DejaVu Sans Mono',consolas,'Courier New',monospace\">┏━━━━━━━━━━━━━━━━━━━━━━━━━━━━━━━━━┳━━━━━━━━━━━━━━━━━━━━━━━━┳━━━━━━━━━━━━━━━┓\n",
       "┃<span style=\"font-weight: bold\"> Layer (type)                    </span>┃<span style=\"font-weight: bold\"> Output Shape           </span>┃<span style=\"font-weight: bold\">       Param # </span>┃\n",
       "┡━━━━━━━━━━━━━━━━━━━━━━━━━━━━━━━━━╇━━━━━━━━━━━━━━━━━━━━━━━━╇━━━━━━━━━━━━━━━┩\n",
       "│ lstm_204 (<span style=\"color: #0087ff; text-decoration-color: #0087ff\">LSTM</span>)                 │ (<span style=\"color: #00d7ff; text-decoration-color: #00d7ff\">None</span>, <span style=\"color: #00af00; text-decoration-color: #00af00\">11</span>, <span style=\"color: #00af00; text-decoration-color: #00af00\">512</span>)        │     <span style=\"color: #00af00; text-decoration-color: #00af00\">1,058,816</span> │\n",
       "├─────────────────────────────────┼────────────────────────┼───────────────┤\n",
       "│ lstm_205 (<span style=\"color: #0087ff; text-decoration-color: #0087ff\">LSTM</span>)                 │ (<span style=\"color: #00d7ff; text-decoration-color: #00d7ff\">None</span>, <span style=\"color: #00af00; text-decoration-color: #00af00\">256</span>)            │       <span style=\"color: #00af00; text-decoration-color: #00af00\">787,456</span> │\n",
       "├─────────────────────────────────┼────────────────────────┼───────────────┤\n",
       "│ dense_344 (<span style=\"color: #0087ff; text-decoration-color: #0087ff\">Dense</span>)               │ (<span style=\"color: #00d7ff; text-decoration-color: #00d7ff\">None</span>, <span style=\"color: #00af00; text-decoration-color: #00af00\">32</span>)             │         <span style=\"color: #00af00; text-decoration-color: #00af00\">8,224</span> │\n",
       "├─────────────────────────────────┼────────────────────────┼───────────────┤\n",
       "│ dense_345 (<span style=\"color: #0087ff; text-decoration-color: #0087ff\">Dense</span>)               │ (<span style=\"color: #00d7ff; text-decoration-color: #00d7ff\">None</span>, <span style=\"color: #00af00; text-decoration-color: #00af00\">4</span>)              │           <span style=\"color: #00af00; text-decoration-color: #00af00\">132</span> │\n",
       "└─────────────────────────────────┴────────────────────────┴───────────────┘\n",
       "</pre>\n"
      ],
      "text/plain": [
       "┏━━━━━━━━━━━━━━━━━━━━━━━━━━━━━━━━━┳━━━━━━━━━━━━━━━━━━━━━━━━┳━━━━━━━━━━━━━━━┓\n",
       "┃\u001b[1m \u001b[0m\u001b[1mLayer (type)                   \u001b[0m\u001b[1m \u001b[0m┃\u001b[1m \u001b[0m\u001b[1mOutput Shape          \u001b[0m\u001b[1m \u001b[0m┃\u001b[1m \u001b[0m\u001b[1m      Param #\u001b[0m\u001b[1m \u001b[0m┃\n",
       "┡━━━━━━━━━━━━━━━━━━━━━━━━━━━━━━━━━╇━━━━━━━━━━━━━━━━━━━━━━━━╇━━━━━━━━━━━━━━━┩\n",
       "│ lstm_204 (\u001b[38;5;33mLSTM\u001b[0m)                 │ (\u001b[38;5;45mNone\u001b[0m, \u001b[38;5;34m11\u001b[0m, \u001b[38;5;34m512\u001b[0m)        │     \u001b[38;5;34m1,058,816\u001b[0m │\n",
       "├─────────────────────────────────┼────────────────────────┼───────────────┤\n",
       "│ lstm_205 (\u001b[38;5;33mLSTM\u001b[0m)                 │ (\u001b[38;5;45mNone\u001b[0m, \u001b[38;5;34m256\u001b[0m)            │       \u001b[38;5;34m787,456\u001b[0m │\n",
       "├─────────────────────────────────┼────────────────────────┼───────────────┤\n",
       "│ dense_344 (\u001b[38;5;33mDense\u001b[0m)               │ (\u001b[38;5;45mNone\u001b[0m, \u001b[38;5;34m32\u001b[0m)             │         \u001b[38;5;34m8,224\u001b[0m │\n",
       "├─────────────────────────────────┼────────────────────────┼───────────────┤\n",
       "│ dense_345 (\u001b[38;5;33mDense\u001b[0m)               │ (\u001b[38;5;45mNone\u001b[0m, \u001b[38;5;34m4\u001b[0m)              │           \u001b[38;5;34m132\u001b[0m │\n",
       "└─────────────────────────────────┴────────────────────────┴───────────────┘\n"
      ]
     },
     "metadata": {},
     "output_type": "display_data"
    },
    {
     "data": {
      "text/html": [
       "<pre style=\"white-space:pre;overflow-x:auto;line-height:normal;font-family:Menlo,'DejaVu Sans Mono',consolas,'Courier New',monospace\"><span style=\"font-weight: bold\"> Total params: </span><span style=\"color: #00af00; text-decoration-color: #00af00\">1,854,628</span> (7.07 MB)\n",
       "</pre>\n"
      ],
      "text/plain": [
       "\u001b[1m Total params: \u001b[0m\u001b[38;5;34m1,854,628\u001b[0m (7.07 MB)\n"
      ]
     },
     "metadata": {},
     "output_type": "display_data"
    },
    {
     "data": {
      "text/html": [
       "<pre style=\"white-space:pre;overflow-x:auto;line-height:normal;font-family:Menlo,'DejaVu Sans Mono',consolas,'Courier New',monospace\"><span style=\"font-weight: bold\"> Trainable params: </span><span style=\"color: #00af00; text-decoration-color: #00af00\">1,854,628</span> (7.07 MB)\n",
       "</pre>\n"
      ],
      "text/plain": [
       "\u001b[1m Trainable params: \u001b[0m\u001b[38;5;34m1,854,628\u001b[0m (7.07 MB)\n"
      ]
     },
     "metadata": {},
     "output_type": "display_data"
    },
    {
     "data": {
      "text/html": [
       "<pre style=\"white-space:pre;overflow-x:auto;line-height:normal;font-family:Menlo,'DejaVu Sans Mono',consolas,'Courier New',monospace\"><span style=\"font-weight: bold\"> Non-trainable params: </span><span style=\"color: #00af00; text-decoration-color: #00af00\">0</span> (0.00 B)\n",
       "</pre>\n"
      ],
      "text/plain": [
       "\u001b[1m Non-trainable params: \u001b[0m\u001b[38;5;34m0\u001b[0m (0.00 B)\n"
      ]
     },
     "metadata": {},
     "output_type": "display_data"
    }
   ],
   "source": [
    "ltmc_model = Sequential()\n",
    "ltmc_model.add(InputLayer((SEASON_LTLF, 4)))\n",
    "ltmc_model.add(LSTM(512, return_sequences=True))\n",
    "ltmc_model.add(LSTM(256))\n",
    "ltmc_model.add(Dense(32, 'relu'))\n",
    "ltmc_model.add(Dense(4, 'linear'))\n",
    "\n",
    "ltmc_model.summary()"
   ]
  },
  {
   "cell_type": "code",
   "execution_count": 188,
   "metadata": {},
   "outputs": [
    {
     "name": "stdout",
     "output_type": "stream",
     "text": [
      "Epoch 1/50\n",
      "\u001b[1m2/2\u001b[0m \u001b[32m━━━━━━━━━━━━━━━━━━━━\u001b[0m\u001b[37m\u001b[0m \u001b[1m2s\u001b[0m 380ms/step - loss: 0.2013 - root_mean_squared_error: 0.4483 - val_loss: 0.1259 - val_root_mean_squared_error: 0.3548\n",
      "Epoch 2/50\n",
      "\u001b[1m2/2\u001b[0m \u001b[32m━━━━━━━━━━━━━━━━━━━━\u001b[0m\u001b[37m\u001b[0m \u001b[1m0s\u001b[0m 133ms/step - loss: 0.0900 - root_mean_squared_error: 0.2999 - val_loss: 0.0938 - val_root_mean_squared_error: 0.3062\n",
      "Epoch 3/50\n",
      "\u001b[1m2/2\u001b[0m \u001b[32m━━━━━━━━━━━━━━━━━━━━\u001b[0m\u001b[37m\u001b[0m \u001b[1m0s\u001b[0m 58ms/step - loss: 0.0641 - root_mean_squared_error: 0.2532 - val_loss: 0.0990 - val_root_mean_squared_error: 0.3146\n",
      "Epoch 4/50\n",
      "\u001b[1m2/2\u001b[0m \u001b[32m━━━━━━━━━━━━━━━━━━━━\u001b[0m\u001b[37m\u001b[0m \u001b[1m0s\u001b[0m 134ms/step - loss: 0.0682 - root_mean_squared_error: 0.2609 - val_loss: 0.0839 - val_root_mean_squared_error: 0.2897\n",
      "Epoch 5/50\n",
      "\u001b[1m2/2\u001b[0m \u001b[32m━━━━━━━━━━━━━━━━━━━━\u001b[0m\u001b[37m\u001b[0m \u001b[1m0s\u001b[0m 143ms/step - loss: 0.0581 - root_mean_squared_error: 0.2409 - val_loss: 0.0828 - val_root_mean_squared_error: 0.2877\n",
      "Epoch 6/50\n",
      "\u001b[1m2/2\u001b[0m \u001b[32m━━━━━━━━━━━━━━━━━━━━\u001b[0m\u001b[37m\u001b[0m \u001b[1m0s\u001b[0m 151ms/step - loss: 0.0567 - root_mean_squared_error: 0.2380 - val_loss: 0.0754 - val_root_mean_squared_error: 0.2746\n",
      "Epoch 7/50\n",
      "\u001b[1m2/2\u001b[0m \u001b[32m━━━━━━━━━━━━━━━━━━━━\u001b[0m\u001b[37m\u001b[0m \u001b[1m0s\u001b[0m 59ms/step - loss: 0.0528 - root_mean_squared_error: 0.2297 - val_loss: 0.0777 - val_root_mean_squared_error: 0.2788\n",
      "Epoch 8/50\n",
      "\u001b[1m2/2\u001b[0m \u001b[32m━━━━━━━━━━━━━━━━━━━━\u001b[0m\u001b[37m\u001b[0m \u001b[1m0s\u001b[0m 132ms/step - loss: 0.0502 - root_mean_squared_error: 0.2239 - val_loss: 0.0673 - val_root_mean_squared_error: 0.2595\n",
      "Epoch 9/50\n",
      "\u001b[1m2/2\u001b[0m \u001b[32m━━━━━━━━━━━━━━━━━━━━\u001b[0m\u001b[37m\u001b[0m \u001b[1m0s\u001b[0m 128ms/step - loss: 0.0462 - root_mean_squared_error: 0.2150 - val_loss: 0.0608 - val_root_mean_squared_error: 0.2465\n",
      "Epoch 10/50\n",
      "\u001b[1m2/2\u001b[0m \u001b[32m━━━━━━━━━━━━━━━━━━━━\u001b[0m\u001b[37m\u001b[0m \u001b[1m0s\u001b[0m 58ms/step - loss: 0.0425 - root_mean_squared_error: 0.2061 - val_loss: 0.0619 - val_root_mean_squared_error: 0.2489\n",
      "Epoch 11/50\n",
      "\u001b[1m2/2\u001b[0m \u001b[32m━━━━━━━━━━━━━━━━━━━━\u001b[0m\u001b[37m\u001b[0m \u001b[1m0s\u001b[0m 134ms/step - loss: 0.0392 - root_mean_squared_error: 0.1979 - val_loss: 0.0606 - val_root_mean_squared_error: 0.2462\n",
      "Epoch 12/50\n",
      "\u001b[1m2/2\u001b[0m \u001b[32m━━━━━━━━━━━━━━━━━━━━\u001b[0m\u001b[37m\u001b[0m \u001b[1m0s\u001b[0m 156ms/step - loss: 0.0369 - root_mean_squared_error: 0.1919 - val_loss: 0.0453 - val_root_mean_squared_error: 0.2127\n",
      "Epoch 13/50\n",
      "\u001b[1m2/2\u001b[0m \u001b[32m━━━━━━━━━━━━━━━━━━━━\u001b[0m\u001b[37m\u001b[0m \u001b[1m0s\u001b[0m 132ms/step - loss: 0.0330 - root_mean_squared_error: 0.1815 - val_loss: 0.0430 - val_root_mean_squared_error: 0.2073\n",
      "Epoch 14/50\n",
      "\u001b[1m2/2\u001b[0m \u001b[32m━━━━━━━━━━━━━━━━━━━━\u001b[0m\u001b[37m\u001b[0m \u001b[1m0s\u001b[0m 64ms/step - loss: 0.0303 - root_mean_squared_error: 0.1741 - val_loss: 0.0458 - val_root_mean_squared_error: 0.2139\n",
      "Epoch 15/50\n",
      "\u001b[1m2/2\u001b[0m \u001b[32m━━━━━━━━━━━━━━━━━━━━\u001b[0m\u001b[37m\u001b[0m \u001b[1m0s\u001b[0m 135ms/step - loss: 0.0265 - root_mean_squared_error: 0.1628 - val_loss: 0.0358 - val_root_mean_squared_error: 0.1893\n",
      "Epoch 16/50\n",
      "\u001b[1m2/2\u001b[0m \u001b[32m━━━━━━━━━━━━━━━━━━━━\u001b[0m\u001b[37m\u001b[0m \u001b[1m0s\u001b[0m 139ms/step - loss: 0.0237 - root_mean_squared_error: 0.1539 - val_loss: 0.0303 - val_root_mean_squared_error: 0.1741\n",
      "Epoch 17/50\n",
      "\u001b[1m2/2\u001b[0m \u001b[32m━━━━━━━━━━━━━━━━━━━━\u001b[0m\u001b[37m\u001b[0m \u001b[1m0s\u001b[0m 81ms/step - loss: 0.0190 - root_mean_squared_error: 0.1379 - val_loss: 0.0364 - val_root_mean_squared_error: 0.1908\n",
      "Epoch 18/50\n",
      "\u001b[1m2/2\u001b[0m \u001b[32m━━━━━━━━━━━━━━━━━━━━\u001b[0m\u001b[37m\u001b[0m \u001b[1m0s\u001b[0m 133ms/step - loss: 0.0193 - root_mean_squared_error: 0.1385 - val_loss: 0.0291 - val_root_mean_squared_error: 0.1705\n",
      "Epoch 19/50\n",
      "\u001b[1m2/2\u001b[0m \u001b[32m━━━━━━━━━━━━━━━━━━━━\u001b[0m\u001b[37m\u001b[0m \u001b[1m0s\u001b[0m 130ms/step - loss: 0.0151 - root_mean_squared_error: 0.1227 - val_loss: 0.0259 - val_root_mean_squared_error: 0.1610\n",
      "Epoch 20/50\n",
      "\u001b[1m2/2\u001b[0m \u001b[32m━━━━━━━━━━━━━━━━━━━━\u001b[0m\u001b[37m\u001b[0m \u001b[1m0s\u001b[0m 56ms/step - loss: 0.0144 - root_mean_squared_error: 0.1199 - val_loss: 0.0261 - val_root_mean_squared_error: 0.1616\n",
      "Epoch 21/50\n",
      "\u001b[1m2/2\u001b[0m \u001b[32m━━━━━━━━━━━━━━━━━━━━\u001b[0m\u001b[37m\u001b[0m \u001b[1m0s\u001b[0m 54ms/step - loss: 0.0140 - root_mean_squared_error: 0.1183 - val_loss: 0.0268 - val_root_mean_squared_error: 0.1637\n",
      "Epoch 22/50\n",
      "\u001b[1m2/2\u001b[0m \u001b[32m━━━━━━━━━━━━━━━━━━━━\u001b[0m\u001b[37m\u001b[0m \u001b[1m0s\u001b[0m 128ms/step - loss: 0.0124 - root_mean_squared_error: 0.1113 - val_loss: 0.0254 - val_root_mean_squared_error: 0.1595\n",
      "Epoch 23/50\n",
      "\u001b[1m2/2\u001b[0m \u001b[32m━━━━━━━━━━━━━━━━━━━━\u001b[0m\u001b[37m\u001b[0m \u001b[1m0s\u001b[0m 53ms/step - loss: 0.0120 - root_mean_squared_error: 0.1091 - val_loss: 0.0292 - val_root_mean_squared_error: 0.1708\n",
      "Epoch 24/50\n",
      "\u001b[1m2/2\u001b[0m \u001b[32m━━━━━━━━━━━━━━━━━━━━\u001b[0m\u001b[37m\u001b[0m \u001b[1m0s\u001b[0m 55ms/step - loss: 0.0118 - root_mean_squared_error: 0.1085 - val_loss: 0.0258 - val_root_mean_squared_error: 0.1606\n",
      "Epoch 25/50\n",
      "\u001b[1m2/2\u001b[0m \u001b[32m━━━━━━━━━━━━━━━━━━━━\u001b[0m\u001b[37m\u001b[0m \u001b[1m0s\u001b[0m 57ms/step - loss: 0.0116 - root_mean_squared_error: 0.1079 - val_loss: 0.0290 - val_root_mean_squared_error: 0.1704\n",
      "Epoch 26/50\n",
      "\u001b[1m2/2\u001b[0m \u001b[32m━━━━━━━━━━━━━━━━━━━━\u001b[0m\u001b[37m\u001b[0m \u001b[1m0s\u001b[0m 58ms/step - loss: 0.0101 - root_mean_squared_error: 0.1002 - val_loss: 0.0269 - val_root_mean_squared_error: 0.1640\n",
      "Epoch 27/50\n",
      "\u001b[1m2/2\u001b[0m \u001b[32m━━━━━━━━━━━━━━━━━━━━\u001b[0m\u001b[37m\u001b[0m \u001b[1m0s\u001b[0m 73ms/step - loss: 0.0102 - root_mean_squared_error: 0.1011 - val_loss: 0.0272 - val_root_mean_squared_error: 0.1649\n",
      "Epoch 28/50\n",
      "\u001b[1m2/2\u001b[0m \u001b[32m━━━━━━━━━━━━━━━━━━━━\u001b[0m\u001b[37m\u001b[0m \u001b[1m0s\u001b[0m 53ms/step - loss: 0.0092 - root_mean_squared_error: 0.0956 - val_loss: 0.0287 - val_root_mean_squared_error: 0.1694\n",
      "Epoch 29/50\n",
      "\u001b[1m2/2\u001b[0m \u001b[32m━━━━━━━━━━━━━━━━━━━━\u001b[0m\u001b[37m\u001b[0m \u001b[1m0s\u001b[0m 56ms/step - loss: 0.0101 - root_mean_squared_error: 0.1002 - val_loss: 0.0291 - val_root_mean_squared_error: 0.1705\n",
      "Epoch 30/50\n",
      "\u001b[1m2/2\u001b[0m \u001b[32m━━━━━━━━━━━━━━━━━━━━\u001b[0m\u001b[37m\u001b[0m \u001b[1m0s\u001b[0m 54ms/step - loss: 0.0099 - root_mean_squared_error: 0.0995 - val_loss: 0.0295 - val_root_mean_squared_error: 0.1717\n",
      "Epoch 31/50\n",
      "\u001b[1m2/2\u001b[0m \u001b[32m━━━━━━━━━━━━━━━━━━━━\u001b[0m\u001b[37m\u001b[0m \u001b[1m0s\u001b[0m 57ms/step - loss: 0.0090 - root_mean_squared_error: 0.0947 - val_loss: 0.0283 - val_root_mean_squared_error: 0.1682\n",
      "Epoch 32/50\n",
      "\u001b[1m2/2\u001b[0m \u001b[32m━━━━━━━━━━━━━━━━━━━━\u001b[0m\u001b[37m\u001b[0m \u001b[1m0s\u001b[0m 54ms/step - loss: 0.0103 - root_mean_squared_error: 0.1013 - val_loss: 0.0285 - val_root_mean_squared_error: 0.1689\n",
      "Epoch 33/50\n",
      "\u001b[1m2/2\u001b[0m \u001b[32m━━━━━━━━━━━━━━━━━━━━\u001b[0m\u001b[37m\u001b[0m \u001b[1m0s\u001b[0m 54ms/step - loss: 0.0086 - root_mean_squared_error: 0.0925 - val_loss: 0.0298 - val_root_mean_squared_error: 0.1725\n",
      "Epoch 34/50\n",
      "\u001b[1m2/2\u001b[0m \u001b[32m━━━━━━━━━━━━━━━━━━━━\u001b[0m\u001b[37m\u001b[0m \u001b[1m0s\u001b[0m 53ms/step - loss: 0.0091 - root_mean_squared_error: 0.0952 - val_loss: 0.0281 - val_root_mean_squared_error: 0.1676\n",
      "Epoch 35/50\n",
      "\u001b[1m2/2\u001b[0m \u001b[32m━━━━━━━━━━━━━━━━━━━━\u001b[0m\u001b[37m\u001b[0m \u001b[1m0s\u001b[0m 54ms/step - loss: 0.0095 - root_mean_squared_error: 0.0972 - val_loss: 0.0289 - val_root_mean_squared_error: 0.1699\n",
      "Epoch 36/50\n",
      "\u001b[1m2/2\u001b[0m \u001b[32m━━━━━━━━━━━━━━━━━━━━\u001b[0m\u001b[37m\u001b[0m \u001b[1m0s\u001b[0m 52ms/step - loss: 0.0093 - root_mean_squared_error: 0.0964 - val_loss: 0.0273 - val_root_mean_squared_error: 0.1653\n",
      "Epoch 37/50\n",
      "\u001b[1m2/2\u001b[0m \u001b[32m━━━━━━━━━━━━━━━━━━━━\u001b[0m\u001b[37m\u001b[0m \u001b[1m0s\u001b[0m 71ms/step - loss: 0.0102 - root_mean_squared_error: 0.1011 - val_loss: 0.0292 - val_root_mean_squared_error: 0.1708\n",
      "Epoch 38/50\n",
      "\u001b[1m2/2\u001b[0m \u001b[32m━━━━━━━━━━━━━━━━━━━━\u001b[0m\u001b[37m\u001b[0m \u001b[1m0s\u001b[0m 54ms/step - loss: 0.0087 - root_mean_squared_error: 0.0932 - val_loss: 0.0324 - val_root_mean_squared_error: 0.1800\n",
      "Epoch 39/50\n",
      "\u001b[1m2/2\u001b[0m \u001b[32m━━━━━━━━━━━━━━━━━━━━\u001b[0m\u001b[37m\u001b[0m \u001b[1m0s\u001b[0m 55ms/step - loss: 0.0092 - root_mean_squared_error: 0.0961 - val_loss: 0.0275 - val_root_mean_squared_error: 0.1657\n",
      "Epoch 40/50\n",
      "\u001b[1m2/2\u001b[0m \u001b[32m━━━━━━━━━━━━━━━━━━━━\u001b[0m\u001b[37m\u001b[0m \u001b[1m0s\u001b[0m 55ms/step - loss: 0.0096 - root_mean_squared_error: 0.0979 - val_loss: 0.0287 - val_root_mean_squared_error: 0.1695\n",
      "Epoch 41/50\n",
      "\u001b[1m2/2\u001b[0m \u001b[32m━━━━━━━━━━━━━━━━━━━━\u001b[0m\u001b[37m\u001b[0m \u001b[1m0s\u001b[0m 54ms/step - loss: 0.0090 - root_mean_squared_error: 0.0949 - val_loss: 0.0279 - val_root_mean_squared_error: 0.1671\n",
      "Epoch 42/50\n",
      "\u001b[1m2/2\u001b[0m \u001b[32m━━━━━━━━━━━━━━━━━━━━\u001b[0m\u001b[37m\u001b[0m \u001b[1m0s\u001b[0m 55ms/step - loss: 0.0077 - root_mean_squared_error: 0.0877 - val_loss: 0.0260 - val_root_mean_squared_error: 0.1613\n",
      "Epoch 43/50\n",
      "\u001b[1m2/2\u001b[0m \u001b[32m━━━━━━━━━━━━━━━━━━━━\u001b[0m\u001b[37m\u001b[0m \u001b[1m0s\u001b[0m 53ms/step - loss: 0.0094 - root_mean_squared_error: 0.0968 - val_loss: 0.0268 - val_root_mean_squared_error: 0.1638\n",
      "Epoch 44/50\n",
      "\u001b[1m2/2\u001b[0m \u001b[32m━━━━━━━━━━━━━━━━━━━━\u001b[0m\u001b[37m\u001b[0m \u001b[1m0s\u001b[0m 54ms/step - loss: 0.0085 - root_mean_squared_error: 0.0921 - val_loss: 0.0276 - val_root_mean_squared_error: 0.1660\n",
      "Epoch 45/50\n",
      "\u001b[1m2/2\u001b[0m \u001b[32m━━━━━━━━━━━━━━━━━━━━\u001b[0m\u001b[37m\u001b[0m \u001b[1m0s\u001b[0m 56ms/step - loss: 0.0078 - root_mean_squared_error: 0.0885 - val_loss: 0.0273 - val_root_mean_squared_error: 0.1652\n",
      "Epoch 46/50\n",
      "\u001b[1m2/2\u001b[0m \u001b[32m━━━━━━━━━━━━━━━━━━━━\u001b[0m\u001b[37m\u001b[0m \u001b[1m0s\u001b[0m 54ms/step - loss: 0.0087 - root_mean_squared_error: 0.0934 - val_loss: 0.0274 - val_root_mean_squared_error: 0.1654\n",
      "Epoch 47/50\n",
      "\u001b[1m2/2\u001b[0m \u001b[32m━━━━━━━━━━━━━━━━━━━━\u001b[0m\u001b[37m\u001b[0m \u001b[1m0s\u001b[0m 72ms/step - loss: 0.0078 - root_mean_squared_error: 0.0884 - val_loss: 0.0275 - val_root_mean_squared_error: 0.1658\n",
      "Epoch 48/50\n",
      "\u001b[1m2/2\u001b[0m \u001b[32m━━━━━━━━━━━━━━━━━━━━\u001b[0m\u001b[37m\u001b[0m \u001b[1m0s\u001b[0m 54ms/step - loss: 0.0080 - root_mean_squared_error: 0.0893 - val_loss: 0.0284 - val_root_mean_squared_error: 0.1685\n",
      "Epoch 49/50\n",
      "\u001b[1m2/2\u001b[0m \u001b[32m━━━━━━━━━━━━━━━━━━━━\u001b[0m\u001b[37m\u001b[0m \u001b[1m0s\u001b[0m 58ms/step - loss: 0.0080 - root_mean_squared_error: 0.0894 - val_loss: 0.0280 - val_root_mean_squared_error: 0.1672\n",
      "Epoch 50/50\n",
      "\u001b[1m2/2\u001b[0m \u001b[32m━━━━━━━━━━━━━━━━━━━━\u001b[0m\u001b[37m\u001b[0m \u001b[1m0s\u001b[0m 59ms/step - loss: 0.0090 - root_mean_squared_error: 0.0947 - val_loss: 0.0274 - val_root_mean_squared_error: 0.1654\n"
     ]
    },
    {
     "data": {
      "text/plain": [
       "<keras.src.callbacks.history.History at 0x1a1fc83b7d0>"
      ]
     },
     "execution_count": 188,
     "metadata": {},
     "output_type": "execute_result"
    }
   ],
   "source": [
    "cp = ModelCheckpoint('models/ltmc_model.keras', save_best_only=True)\n",
    "ltmc_model.compile(loss=MeanSquaredError(), optimizer=Adam(learning_rate=0.001), metrics=[RootMeanSquaredError()])\n",
    "\n",
    "ltmc_model.fit(Xtr_ltmc, ytr_ltmc, validation_data=(Xvl_ltmc, yvl_ltmc), epochs=50, callbacks=[cp])"
   ]
  },
  {
   "cell_type": "code",
   "execution_count": 189,
   "metadata": {},
   "outputs": [
    {
     "name": "stdout",
     "output_type": "stream",
     "text": [
      "\u001b[1m2/2\u001b[0m \u001b[32m━━━━━━━━━━━━━━━━━━━━\u001b[0m\u001b[37m\u001b[0m \u001b[1m0s\u001b[0m 171ms/step\n"
     ]
    }
   ],
   "source": [
    "ltmc_model = load_model('models/ltmc_model.keras')\n",
    "pred_ltmc = ltmc_model.predict(Xts_ltmc)\n",
    "pred_ltmc = scaler_ltmc.inverse_transform(pred_ltmc)[:,0]\n",
    "\n",
    "yts_ltmc = scaler_ltmc.inverse_transform(yts_ltmc)[:,0]"
   ]
  },
  {
   "cell_type": "code",
   "execution_count": 190,
   "metadata": {},
   "outputs": [
    {
     "data": {
      "image/png": "[encoded data removed]",
      "text/plain": [
       "<Figure size 600x500 with 1 Axes>"
      ]
     },
     "metadata": {},
     "output_type": "display_data"
    },
    {
     "name": "stdout",
     "output_type": "stream",
     "text": [
      "MAPE: 8.918%\n"
     ]
    }
   ],
   "source": [
    "plot_fcast_ml(ltmc, \"2017-12-01\", \"2020-12-01\", \"2024-05-01\", pred_ltmc, True)\n",
    "\n",
    "print(f\"MAPE: {mean_absolute_percentage_error(yts_ltmc, pred_ltmc)*100:.3f}%\")"
   ]
  },
  {
   "cell_type": "markdown",
   "metadata": {},
   "source": [
    "### STLF"
   ]
  },
  {
   "cell_type": "code",
   "execution_count": 191,
   "metadata": {},
   "outputs": [],
   "source": [
    "SEASON_STLF = 6"
   ]
  },
  {
   "cell_type": "code",
   "execution_count": 192,
   "metadata": {},
   "outputs": [],
   "source": [
    "stoc = df[[\"YMD\", \"ND\"]].groupby(\"YMD\").agg(\"mean\").asfreq(\"D\")"
   ]
  },
  {
   "cell_type": "code",
   "execution_count": 193,
   "metadata": {},
   "outputs": [],
   "source": [
    "w_start = datetime.datetime(2022, 1, 1)\n",
    "w_end = datetime.datetime(2022, 12, 31)"
   ]
  },
  {
   "cell_type": "code",
   "execution_count": 194,
   "metadata": {},
   "outputs": [],
   "source": [
    "ldn_dwdat = met.Daily(ldn, start=w_start, end=w_end).fetch().interpolate()[[\"tavg\", \"wspd\"]]\n",
    "edi_dwdat = met.Daily(edi, start=w_start, end=w_end).fetch().interpolate()[[\"tavg\", \"wspd\"]]\n",
    "cdf_dwdat = met.Daily(cdf, start=w_start, end=w_end).fetch().interpolate()[[\"tavg\", \"wspd\"]]"
   ]
  },
  {
   "cell_type": "code",
   "execution_count": 195,
   "metadata": {},
   "outputs": [],
   "source": [
    "sun_dfactor = df[[\"YMD\", \"sun_eff\"]].groupby(\"YMD\").agg(\"mean\").asfreq(\"D\")\n",
    "sun_ddata = sun_dfactor[(sun_dfactor.index >= pd.to_datetime(\"2022-01-01\")) & (sun_dfactor.index <= pd.to_datetime(\"2022-12-31\"))]\n",
    "\n",
    "combined_dwdat = pd.concat([ldn_dwdat, edi_dwdat, cdf_dwdat, sun_ddata], axis=1)\n",
    "\n",
    "mean_dwdat = combined_dwdat.T.groupby(combined_dwdat.columns).agg(\"mean\").T"
   ]
  },
  {
   "cell_type": "code",
   "execution_count": 196,
   "metadata": {},
   "outputs": [],
   "source": [
    "agg_stoc = stoc[((stoc.index >= pd.to_datetime(\"2022-01-01\")) & (stoc.index <= pd.to_datetime(\"2022-12-31\")))].asfreq(\"D\")"
   ]
  },
  {
   "cell_type": "code",
   "execution_count": 197,
   "metadata": {},
   "outputs": [],
   "source": [
    "scaler_stoc = MinMaxScaler(feature_range=(0, 1))\n",
    "\n",
    "sctr_stoc = scaler_stoc.fit_transform(agg_stoc[agg_stoc.index < pd.to_datetime(\"2022-05-01\")])\n",
    "scvl_stoc = scaler_stoc.fit_transform(agg_stoc[(agg_stoc.index >= pd.to_datetime(\"2022-05-01\")) & (agg_stoc.index < pd.to_datetime(\"2022-07-15\"))])\n",
    "scts_stoc = scaler_stoc.fit_transform(agg_stoc[agg_stoc.index >= pd.to_datetime(\"2022-07-15\")])\n",
    "\n",
    "Xtr_stoc, ytr_stoc = df_Xy(sctr_stoc, SEASON_STLF)\n",
    "Xvl_stoc, yvl_stoc = df_Xy(scvl_stoc, SEASON_STLF)\n",
    "Xts_stoc, yts_stoc = df_Xy(scts_stoc, SEASON_STLF)"
   ]
  },
  {
   "cell_type": "code",
   "execution_count": 198,
   "metadata": {},
   "outputs": [
    {
     "data": {
      "text/html": [
       "<pre style=\"white-space:pre;overflow-x:auto;line-height:normal;font-family:Menlo,'DejaVu Sans Mono',consolas,'Courier New',monospace\"><span style=\"font-weight: bold\">Model: \"sequential_173\"</span>\n",
       "</pre>\n"
      ],
      "text/plain": [
       "\u001b[1mModel: \"sequential_173\"\u001b[0m\n"
      ]
     },
     "metadata": {},
     "output_type": "display_data"
    },
    {
     "data": {
      "text/html": [
       "<pre style=\"white-space:pre;overflow-x:auto;line-height:normal;font-family:Menlo,'DejaVu Sans Mono',consolas,'Courier New',monospace\">┏━━━━━━━━━━━━━━━━━━━━━━━━━━━━━━━━━┳━━━━━━━━━━━━━━━━━━━━━━━━┳━━━━━━━━━━━━━━━┓\n",
       "┃<span style=\"font-weight: bold\"> Layer (type)                    </span>┃<span style=\"font-weight: bold\"> Output Shape           </span>┃<span style=\"font-weight: bold\">       Param # </span>┃\n",
       "┡━━━━━━━━━━━━━━━━━━━━━━━━━━━━━━━━━╇━━━━━━━━━━━━━━━━━━━━━━━━╇━━━━━━━━━━━━━━━┩\n",
       "│ lstm_206 (<span style=\"color: #0087ff; text-decoration-color: #0087ff\">LSTM</span>)                 │ (<span style=\"color: #00d7ff; text-decoration-color: #00d7ff\">None</span>, <span style=\"color: #00af00; text-decoration-color: #00af00\">6</span>, <span style=\"color: #00af00; text-decoration-color: #00af00\">256</span>)         │       <span style=\"color: #00af00; text-decoration-color: #00af00\">264,192</span> │\n",
       "├─────────────────────────────────┼────────────────────────┼───────────────┤\n",
       "│ lstm_207 (<span style=\"color: #0087ff; text-decoration-color: #0087ff\">LSTM</span>)                 │ (<span style=\"color: #00d7ff; text-decoration-color: #00d7ff\">None</span>, <span style=\"color: #00af00; text-decoration-color: #00af00\">256</span>)            │       <span style=\"color: #00af00; text-decoration-color: #00af00\">525,312</span> │\n",
       "├─────────────────────────────────┼────────────────────────┼───────────────┤\n",
       "│ dense_346 (<span style=\"color: #0087ff; text-decoration-color: #0087ff\">Dense</span>)               │ (<span style=\"color: #00d7ff; text-decoration-color: #00d7ff\">None</span>, <span style=\"color: #00af00; text-decoration-color: #00af00\">8</span>)              │         <span style=\"color: #00af00; text-decoration-color: #00af00\">2,056</span> │\n",
       "├─────────────────────────────────┼────────────────────────┼───────────────┤\n",
       "│ dense_347 (<span style=\"color: #0087ff; text-decoration-color: #0087ff\">Dense</span>)               │ (<span style=\"color: #00d7ff; text-decoration-color: #00d7ff\">None</span>, <span style=\"color: #00af00; text-decoration-color: #00af00\">1</span>)              │             <span style=\"color: #00af00; text-decoration-color: #00af00\">9</span> │\n",
       "└─────────────────────────────────┴────────────────────────┴───────────────┘\n",
       "</pre>\n"
      ],
      "text/plain": [
       "┏━━━━━━━━━━━━━━━━━━━━━━━━━━━━━━━━━┳━━━━━━━━━━━━━━━━━━━━━━━━┳━━━━━━━━━━━━━━━┓\n",
       "┃\u001b[1m \u001b[0m\u001b[1mLayer (type)                   \u001b[0m\u001b[1m \u001b[0m┃\u001b[1m \u001b[0m\u001b[1mOutput Shape          \u001b[0m\u001b[1m \u001b[0m┃\u001b[1m \u001b[0m\u001b[1m      Param #\u001b[0m\u001b[1m \u001b[0m┃\n",
       "┡━━━━━━━━━━━━━━━━━━━━━━━━━━━━━━━━━╇━━━━━━━━━━━━━━━━━━━━━━━━╇━━━━━━━━━━━━━━━┩\n",
       "│ lstm_206 (\u001b[38;5;33mLSTM\u001b[0m)                 │ (\u001b[38;5;45mNone\u001b[0m, \u001b[38;5;34m6\u001b[0m, \u001b[38;5;34m256\u001b[0m)         │       \u001b[38;5;34m264,192\u001b[0m │\n",
       "├─────────────────────────────────┼────────────────────────┼───────────────┤\n",
       "│ lstm_207 (\u001b[38;5;33mLSTM\u001b[0m)                 │ (\u001b[38;5;45mNone\u001b[0m, \u001b[38;5;34m256\u001b[0m)            │       \u001b[38;5;34m525,312\u001b[0m │\n",
       "├─────────────────────────────────┼────────────────────────┼───────────────┤\n",
       "│ dense_346 (\u001b[38;5;33mDense\u001b[0m)               │ (\u001b[38;5;45mNone\u001b[0m, \u001b[38;5;34m8\u001b[0m)              │         \u001b[38;5;34m2,056\u001b[0m │\n",
       "├─────────────────────────────────┼────────────────────────┼───────────────┤\n",
       "│ dense_347 (\u001b[38;5;33mDense\u001b[0m)               │ (\u001b[38;5;45mNone\u001b[0m, \u001b[38;5;34m1\u001b[0m)              │             \u001b[38;5;34m9\u001b[0m │\n",
       "└─────────────────────────────────┴────────────────────────┴───────────────┘\n"
      ]
     },
     "metadata": {},
     "output_type": "display_data"
    },
    {
     "data": {
      "text/html": [
       "<pre style=\"white-space:pre;overflow-x:auto;line-height:normal;font-family:Menlo,'DejaVu Sans Mono',consolas,'Courier New',monospace\"><span style=\"font-weight: bold\"> Total params: </span><span style=\"color: #00af00; text-decoration-color: #00af00\">791,569</span> (3.02 MB)\n",
       "</pre>\n"
      ],
      "text/plain": [
       "\u001b[1m Total params: \u001b[0m\u001b[38;5;34m791,569\u001b[0m (3.02 MB)\n"
      ]
     },
     "metadata": {},
     "output_type": "display_data"
    },
    {
     "data": {
      "text/html": [
       "<pre style=\"white-space:pre;overflow-x:auto;line-height:normal;font-family:Menlo,'DejaVu Sans Mono',consolas,'Courier New',monospace\"><span style=\"font-weight: bold\"> Trainable params: </span><span style=\"color: #00af00; text-decoration-color: #00af00\">791,569</span> (3.02 MB)\n",
       "</pre>\n"
      ],
      "text/plain": [
       "\u001b[1m Trainable params: \u001b[0m\u001b[38;5;34m791,569\u001b[0m (3.02 MB)\n"
      ]
     },
     "metadata": {},
     "output_type": "display_data"
    },
    {
     "data": {
      "text/html": [
       "<pre style=\"white-space:pre;overflow-x:auto;line-height:normal;font-family:Menlo,'DejaVu Sans Mono',consolas,'Courier New',monospace\"><span style=\"font-weight: bold\"> Non-trainable params: </span><span style=\"color: #00af00; text-decoration-color: #00af00\">0</span> (0.00 B)\n",
       "</pre>\n"
      ],
      "text/plain": [
       "\u001b[1m Non-trainable params: \u001b[0m\u001b[38;5;34m0\u001b[0m (0.00 B)\n"
      ]
     },
     "metadata": {},
     "output_type": "display_data"
    }
   ],
   "source": [
    "stoc_model = Sequential()\n",
    "stoc_model.add(InputLayer((SEASON_STLF, 1)))\n",
    "stoc_model.add(LSTM(256, return_sequences=True))\n",
    "stoc_model.add(LSTM(256))\n",
    "stoc_model.add(Dense(8, 'relu'))\n",
    "stoc_model.add(Dense(1, 'linear'))\n",
    "\n",
    "stoc_model.summary()"
   ]
  },
  {
   "cell_type": "code",
   "execution_count": 199,
   "metadata": {},
   "outputs": [
    {
     "name": "stdout",
     "output_type": "stream",
     "text": [
      "Epoch 1/50\n",
      "\u001b[1m4/4\u001b[0m \u001b[32m━━━━━━━━━━━━━━━━━━━━\u001b[0m\u001b[37m\u001b[0m \u001b[1m2s\u001b[0m 114ms/step - loss: 0.3059 - root_mean_squared_error: 0.5523 - val_loss: 0.0720 - val_root_mean_squared_error: 0.2683\n",
      "Epoch 2/50\n",
      "\u001b[1m4/4\u001b[0m \u001b[32m━━━━━━━━━━━━━━━━━━━━\u001b[0m\u001b[37m\u001b[0m \u001b[1m0s\u001b[0m 20ms/step - loss: 0.0639 - root_mean_squared_error: 0.2522 - val_loss: 0.1001 - val_root_mean_squared_error: 0.3164\n",
      "Epoch 3/50\n",
      "\u001b[1m4/4\u001b[0m \u001b[32m━━━━━━━━━━━━━━━━━━━━\u001b[0m\u001b[37m\u001b[0m \u001b[1m0s\u001b[0m 35ms/step - loss: 0.0435 - root_mean_squared_error: 0.2075 - val_loss: 0.0604 - val_root_mean_squared_error: 0.2457\n",
      "Epoch 4/50\n",
      "\u001b[1m4/4\u001b[0m \u001b[32m━━━━━━━━━━━━━━━━━━━━\u001b[0m\u001b[37m\u001b[0m \u001b[1m0s\u001b[0m 35ms/step - loss: 0.0461 - root_mean_squared_error: 0.2146 - val_loss: 0.0561 - val_root_mean_squared_error: 0.2369\n",
      "Epoch 5/50\n",
      "\u001b[1m4/4\u001b[0m \u001b[32m━━━━━━━━━━━━━━━━━━━━\u001b[0m\u001b[37m\u001b[0m \u001b[1m0s\u001b[0m 21ms/step - loss: 0.0299 - root_mean_squared_error: 0.1727 - val_loss: 0.0644 - val_root_mean_squared_error: 0.2538\n",
      "Epoch 6/50\n",
      "\u001b[1m4/4\u001b[0m \u001b[32m━━━━━━━━━━━━━━━━━━━━\u001b[0m\u001b[37m\u001b[0m \u001b[1m0s\u001b[0m 19ms/step - loss: 0.0322 - root_mean_squared_error: 0.1794 - val_loss: 0.0572 - val_root_mean_squared_error: 0.2392\n",
      "Epoch 7/50\n",
      "\u001b[1m4/4\u001b[0m \u001b[32m━━━━━━━━━━━━━━━━━━━━\u001b[0m\u001b[37m\u001b[0m \u001b[1m0s\u001b[0m 35ms/step - loss: 0.0279 - root_mean_squared_error: 0.1669 - val_loss: 0.0540 - val_root_mean_squared_error: 0.2325\n",
      "Epoch 8/50\n",
      "\u001b[1m4/4\u001b[0m \u001b[32m━━━━━━━━━━━━━━━━━━━━\u001b[0m\u001b[37m\u001b[0m \u001b[1m0s\u001b[0m 35ms/step - loss: 0.0292 - root_mean_squared_error: 0.1708 - val_loss: 0.0536 - val_root_mean_squared_error: 0.2316\n",
      "Epoch 9/50\n",
      "\u001b[1m4/4\u001b[0m \u001b[32m━━━━━━━━━━━━━━━━━━━━\u001b[0m\u001b[37m\u001b[0m \u001b[1m0s\u001b[0m 20ms/step - loss: 0.0273 - root_mean_squared_error: 0.1651 - val_loss: 0.0602 - val_root_mean_squared_error: 0.2454\n",
      "Epoch 10/50\n",
      "\u001b[1m4/4\u001b[0m \u001b[32m━━━━━━━━━━━━━━━━━━━━\u001b[0m\u001b[37m\u001b[0m \u001b[1m0s\u001b[0m 23ms/step - loss: 0.0269 - root_mean_squared_error: 0.1639 - val_loss: 0.0539 - val_root_mean_squared_error: 0.2321\n",
      "Epoch 11/50\n",
      "\u001b[1m4/4\u001b[0m \u001b[32m━━━━━━━━━━━━━━━━━━━━\u001b[0m\u001b[37m\u001b[0m \u001b[1m0s\u001b[0m 35ms/step - loss: 0.0277 - root_mean_squared_error: 0.1665 - val_loss: 0.0536 - val_root_mean_squared_error: 0.2314\n",
      "Epoch 12/50\n",
      "\u001b[1m4/4\u001b[0m \u001b[32m━━━━━━━━━━━━━━━━━━━━\u001b[0m\u001b[37m\u001b[0m \u001b[1m0s\u001b[0m 22ms/step - loss: 0.0266 - root_mean_squared_error: 0.1631 - val_loss: 0.0562 - val_root_mean_squared_error: 0.2370\n",
      "Epoch 13/50\n",
      "\u001b[1m4/4\u001b[0m \u001b[32m━━━━━━━━━━━━━━━━━━━━\u001b[0m\u001b[37m\u001b[0m \u001b[1m0s\u001b[0m 22ms/step - loss: 0.0262 - root_mean_squared_error: 0.1618 - val_loss: 0.0542 - val_root_mean_squared_error: 0.2328\n",
      "Epoch 14/50\n",
      "\u001b[1m4/4\u001b[0m \u001b[32m━━━━━━━━━━━━━━━━━━━━\u001b[0m\u001b[37m\u001b[0m \u001b[1m0s\u001b[0m 26ms/step - loss: 0.0258 - root_mean_squared_error: 0.1607 - val_loss: 0.0551 - val_root_mean_squared_error: 0.2348\n",
      "Epoch 15/50\n",
      "\u001b[1m4/4\u001b[0m \u001b[32m━━━━━━━━━━━━━━━━━━━━\u001b[0m\u001b[37m\u001b[0m \u001b[1m0s\u001b[0m 22ms/step - loss: 0.0257 - root_mean_squared_error: 0.1603 - val_loss: 0.0558 - val_root_mean_squared_error: 0.2362\n",
      "Epoch 16/50\n",
      "\u001b[1m4/4\u001b[0m \u001b[32m━━━━━━━━━━━━━━━━━━━━\u001b[0m\u001b[37m\u001b[0m \u001b[1m0s\u001b[0m 23ms/step - loss: 0.0246 - root_mean_squared_error: 0.1569 - val_loss: 0.0551 - val_root_mean_squared_error: 0.2348\n",
      "Epoch 17/50\n",
      "\u001b[1m4/4\u001b[0m \u001b[32m━━━━━━━━━━━━━━━━━━━━\u001b[0m\u001b[37m\u001b[0m \u001b[1m0s\u001b[0m 22ms/step - loss: 0.0271 - root_mean_squared_error: 0.1644 - val_loss: 0.0551 - val_root_mean_squared_error: 0.2346\n",
      "Epoch 18/50\n",
      "\u001b[1m4/4\u001b[0m \u001b[32m━━━━━━━━━━━━━━━━━━━━\u001b[0m\u001b[37m\u001b[0m \u001b[1m0s\u001b[0m 25ms/step - loss: 0.0255 - root_mean_squared_error: 0.1597 - val_loss: 0.0553 - val_root_mean_squared_error: 0.2351\n",
      "Epoch 19/50\n",
      "\u001b[1m4/4\u001b[0m \u001b[32m━━━━━━━━━━━━━━━━━━━━\u001b[0m\u001b[37m\u001b[0m \u001b[1m0s\u001b[0m 19ms/step - loss: 0.0252 - root_mean_squared_error: 0.1586 - val_loss: 0.0564 - val_root_mean_squared_error: 0.2374\n",
      "Epoch 20/50\n",
      "\u001b[1m4/4\u001b[0m \u001b[32m━━━━━━━━━━━━━━━━━━━━\u001b[0m\u001b[37m\u001b[0m \u001b[1m0s\u001b[0m 19ms/step - loss: 0.0258 - root_mean_squared_error: 0.1606 - val_loss: 0.0551 - val_root_mean_squared_error: 0.2347\n",
      "Epoch 21/50\n",
      "\u001b[1m4/4\u001b[0m \u001b[32m━━━━━━━━━━━━━━━━━━━━\u001b[0m\u001b[37m\u001b[0m \u001b[1m0s\u001b[0m 19ms/step - loss: 0.0241 - root_mean_squared_error: 0.1550 - val_loss: 0.0547 - val_root_mean_squared_error: 0.2338\n",
      "Epoch 22/50\n",
      "\u001b[1m4/4\u001b[0m \u001b[32m━━━━━━━━━━━━━━━━━━━━\u001b[0m\u001b[37m\u001b[0m \u001b[1m0s\u001b[0m 20ms/step - loss: 0.0293 - root_mean_squared_error: 0.1702 - val_loss: 0.0554 - val_root_mean_squared_error: 0.2354\n",
      "Epoch 23/50\n",
      "\u001b[1m4/4\u001b[0m \u001b[32m━━━━━━━━━━━━━━━━━━━━\u001b[0m\u001b[37m\u001b[0m \u001b[1m0s\u001b[0m 19ms/step - loss: 0.0274 - root_mean_squared_error: 0.1653 - val_loss: 0.0549 - val_root_mean_squared_error: 0.2343\n",
      "Epoch 24/50\n",
      "\u001b[1m4/4\u001b[0m \u001b[32m━━━━━━━━━━━━━━━━━━━━\u001b[0m\u001b[37m\u001b[0m \u001b[1m0s\u001b[0m 20ms/step - loss: 0.0259 - root_mean_squared_error: 0.1610 - val_loss: 0.0551 - val_root_mean_squared_error: 0.2348\n",
      "Epoch 25/50\n",
      "\u001b[1m4/4\u001b[0m \u001b[32m━━━━━━━━━━━━━━━━━━━━\u001b[0m\u001b[37m\u001b[0m \u001b[1m0s\u001b[0m 19ms/step - loss: 0.0240 - root_mean_squared_error: 0.1550 - val_loss: 0.0565 - val_root_mean_squared_error: 0.2376\n",
      "Epoch 26/50\n",
      "\u001b[1m4/4\u001b[0m \u001b[32m━━━━━━━━━━━━━━━━━━━━\u001b[0m\u001b[37m\u001b[0m \u001b[1m0s\u001b[0m 19ms/step - loss: 0.0237 - root_mean_squared_error: 0.1538 - val_loss: 0.0545 - val_root_mean_squared_error: 0.2334\n",
      "Epoch 27/50\n",
      "\u001b[1m4/4\u001b[0m \u001b[32m━━━━━━━━━━━━━━━━━━━━\u001b[0m\u001b[37m\u001b[0m \u001b[1m0s\u001b[0m 19ms/step - loss: 0.0240 - root_mean_squared_error: 0.1549 - val_loss: 0.0546 - val_root_mean_squared_error: 0.2336\n",
      "Epoch 28/50\n",
      "\u001b[1m4/4\u001b[0m \u001b[32m━━━━━━━━━━━━━━━━━━━━\u001b[0m\u001b[37m\u001b[0m \u001b[1m0s\u001b[0m 19ms/step - loss: 0.0239 - root_mean_squared_error: 0.1546 - val_loss: 0.0554 - val_root_mean_squared_error: 0.2354\n",
      "Epoch 29/50\n",
      "\u001b[1m4/4\u001b[0m \u001b[32m━━━━━━━━━━━━━━━━━━━━\u001b[0m\u001b[37m\u001b[0m \u001b[1m0s\u001b[0m 20ms/step - loss: 0.0223 - root_mean_squared_error: 0.1492 - val_loss: 0.0550 - val_root_mean_squared_error: 0.2345\n",
      "Epoch 30/50\n",
      "\u001b[1m4/4\u001b[0m \u001b[32m━━━━━━━━━━━━━━━━━━━━\u001b[0m\u001b[37m\u001b[0m \u001b[1m0s\u001b[0m 22ms/step - loss: 0.0237 - root_mean_squared_error: 0.1538 - val_loss: 0.0542 - val_root_mean_squared_error: 0.2327\n",
      "Epoch 31/50\n",
      "\u001b[1m4/4\u001b[0m \u001b[32m━━━━━━━━━━━━━━━━━━━━\u001b[0m\u001b[37m\u001b[0m \u001b[1m0s\u001b[0m 19ms/step - loss: 0.0271 - root_mean_squared_error: 0.1644 - val_loss: 0.0545 - val_root_mean_squared_error: 0.2336\n",
      "Epoch 32/50\n",
      "\u001b[1m4/4\u001b[0m \u001b[32m━━━━━━━━━━━━━━━━━━━━\u001b[0m\u001b[37m\u001b[0m \u001b[1m0s\u001b[0m 20ms/step - loss: 0.0228 - root_mean_squared_error: 0.1502 - val_loss: 0.0549 - val_root_mean_squared_error: 0.2344\n",
      "Epoch 33/50\n",
      "\u001b[1m4/4\u001b[0m \u001b[32m━━━━━━━━━━━━━━━━━━━━\u001b[0m\u001b[37m\u001b[0m \u001b[1m0s\u001b[0m 19ms/step - loss: 0.0262 - root_mean_squared_error: 0.1617 - val_loss: 0.0546 - val_root_mean_squared_error: 0.2336\n",
      "Epoch 34/50\n",
      "\u001b[1m4/4\u001b[0m \u001b[32m━━━━━━━━━━━━━━━━━━━━\u001b[0m\u001b[37m\u001b[0m \u001b[1m0s\u001b[0m 21ms/step - loss: 0.0264 - root_mean_squared_error: 0.1624 - val_loss: 0.0556 - val_root_mean_squared_error: 0.2358\n",
      "Epoch 35/50\n",
      "\u001b[1m4/4\u001b[0m \u001b[32m━━━━━━━━━━━━━━━━━━━━\u001b[0m\u001b[37m\u001b[0m \u001b[1m0s\u001b[0m 20ms/step - loss: 0.0269 - root_mean_squared_error: 0.1638 - val_loss: 0.0536 - val_root_mean_squared_error: 0.2315\n",
      "Epoch 36/50\n",
      "\u001b[1m4/4\u001b[0m \u001b[32m━━━━━━━━━━━━━━━━━━━━\u001b[0m\u001b[37m\u001b[0m \u001b[1m0s\u001b[0m 20ms/step - loss: 0.0263 - root_mean_squared_error: 0.1622 - val_loss: 0.0547 - val_root_mean_squared_error: 0.2339\n",
      "Epoch 37/50\n",
      "\u001b[1m4/4\u001b[0m \u001b[32m━━━━━━━━━━━━━━━━━━━━\u001b[0m\u001b[37m\u001b[0m \u001b[1m0s\u001b[0m 22ms/step - loss: 0.0247 - root_mean_squared_error: 0.1573 - val_loss: 0.0552 - val_root_mean_squared_error: 0.2351\n",
      "Epoch 38/50\n",
      "\u001b[1m4/4\u001b[0m \u001b[32m━━━━━━━━━━━━━━━━━━━━\u001b[0m\u001b[37m\u001b[0m \u001b[1m0s\u001b[0m 37ms/step - loss: 0.0231 - root_mean_squared_error: 0.1516 - val_loss: 0.0532 - val_root_mean_squared_error: 0.2308\n",
      "Epoch 39/50\n",
      "\u001b[1m4/4\u001b[0m \u001b[32m━━━━━━━━━━━━━━━━━━━━\u001b[0m\u001b[37m\u001b[0m \u001b[1m0s\u001b[0m 24ms/step - loss: 0.0247 - root_mean_squared_error: 0.1570 - val_loss: 0.0538 - val_root_mean_squared_error: 0.2319\n",
      "Epoch 40/50\n",
      "\u001b[1m4/4\u001b[0m \u001b[32m━━━━━━━━━━━━━━━━━━━━\u001b[0m\u001b[37m\u001b[0m \u001b[1m0s\u001b[0m 22ms/step - loss: 0.0256 - root_mean_squared_error: 0.1600 - val_loss: 0.0535 - val_root_mean_squared_error: 0.2313\n",
      "Epoch 41/50\n",
      "\u001b[1m4/4\u001b[0m \u001b[32m━━━━━━━━━━━━━━━━━━━━\u001b[0m\u001b[37m\u001b[0m \u001b[1m0s\u001b[0m 39ms/step - loss: 0.0266 - root_mean_squared_error: 0.1631 - val_loss: 0.0525 - val_root_mean_squared_error: 0.2292\n",
      "Epoch 42/50\n",
      "\u001b[1m4/4\u001b[0m \u001b[32m━━━━━━━━━━━━━━━━━━━━\u001b[0m\u001b[37m\u001b[0m \u001b[1m0s\u001b[0m 19ms/step - loss: 0.0250 - root_mean_squared_error: 0.1581 - val_loss: 0.0555 - val_root_mean_squared_error: 0.2356\n",
      "Epoch 43/50\n",
      "\u001b[1m4/4\u001b[0m \u001b[32m━━━━━━━━━━━━━━━━━━━━\u001b[0m\u001b[37m\u001b[0m \u001b[1m0s\u001b[0m 36ms/step - loss: 0.0249 - root_mean_squared_error: 0.1578 - val_loss: 0.0520 - val_root_mean_squared_error: 0.2281\n",
      "Epoch 44/50\n",
      "\u001b[1m4/4\u001b[0m \u001b[32m━━━━━━━━━━━━━━━━━━━━\u001b[0m\u001b[37m\u001b[0m \u001b[1m0s\u001b[0m 20ms/step - loss: 0.0255 - root_mean_squared_error: 0.1595 - val_loss: 0.0532 - val_root_mean_squared_error: 0.2306\n",
      "Epoch 45/50\n",
      "\u001b[1m4/4\u001b[0m \u001b[32m━━━━━━━━━━━━━━━━━━━━\u001b[0m\u001b[37m\u001b[0m \u001b[1m0s\u001b[0m 20ms/step - loss: 0.0237 - root_mean_squared_error: 0.1539 - val_loss: 0.0539 - val_root_mean_squared_error: 0.2321\n",
      "Epoch 46/50\n",
      "\u001b[1m4/4\u001b[0m \u001b[32m━━━━━━━━━━━━━━━━━━━━\u001b[0m\u001b[37m\u001b[0m \u001b[1m0s\u001b[0m 35ms/step - loss: 0.0253 - root_mean_squared_error: 0.1589 - val_loss: 0.0520 - val_root_mean_squared_error: 0.2280\n",
      "Epoch 47/50\n",
      "\u001b[1m4/4\u001b[0m \u001b[32m━━━━━━━━━━━━━━━━━━━━\u001b[0m\u001b[37m\u001b[0m \u001b[1m0s\u001b[0m 20ms/step - loss: 0.0257 - root_mean_squared_error: 0.1602 - val_loss: 0.0533 - val_root_mean_squared_error: 0.2309\n",
      "Epoch 48/50\n",
      "\u001b[1m4/4\u001b[0m \u001b[32m━━━━━━━━━━━━━━━━━━━━\u001b[0m\u001b[37m\u001b[0m \u001b[1m0s\u001b[0m 19ms/step - loss: 0.0228 - root_mean_squared_error: 0.1509 - val_loss: 0.0521 - val_root_mean_squared_error: 0.2283\n",
      "Epoch 49/50\n",
      "\u001b[1m4/4\u001b[0m \u001b[32m━━━━━━━━━━━━━━━━━━━━\u001b[0m\u001b[37m\u001b[0m \u001b[1m0s\u001b[0m 36ms/step - loss: 0.0231 - root_mean_squared_error: 0.1516 - val_loss: 0.0519 - val_root_mean_squared_error: 0.2279\n",
      "Epoch 50/50\n",
      "\u001b[1m4/4\u001b[0m \u001b[32m━━━━━━━━━━━━━━━━━━━━\u001b[0m\u001b[37m\u001b[0m \u001b[1m0s\u001b[0m 23ms/step - loss: 0.0234 - root_mean_squared_error: 0.1528 - val_loss: 0.0533 - val_root_mean_squared_error: 0.2309\n"
     ]
    },
    {
     "data": {
      "text/plain": [
       "<keras.src.callbacks.history.History at 0x1a201ba8f50>"
      ]
     },
     "execution_count": 199,
     "metadata": {},
     "output_type": "execute_result"
    }
   ],
   "source": [
    "cp = ModelCheckpoint('models/stoc_model.keras', save_best_only=True)\n",
    "stoc_model.compile(loss=MeanSquaredError(), optimizer=Adam(learning_rate=0.001), metrics=[RootMeanSquaredError()])\n",
    "\n",
    "stoc_model.fit(Xtr_stoc, ytr_stoc, validation_data=(Xvl_stoc, yvl_stoc), epochs=50, callbacks=[cp])"
   ]
  },
  {
   "cell_type": "code",
   "execution_count": 200,
   "metadata": {},
   "outputs": [
    {
     "name": "stdout",
     "output_type": "stream",
     "text": [
      "\u001b[1m6/6\u001b[0m \u001b[32m━━━━━━━━━━━━━━━━━━━━\u001b[0m\u001b[37m\u001b[0m \u001b[1m0s\u001b[0m 36ms/step\n"
     ]
    }
   ],
   "source": [
    "stoc_model = load_model('models/stoc_model.keras')\n",
    "\n",
    "pred_stoc = stoc_model.predict(Xts_stoc)\n",
    "pred_stoc = scaler_stoc.inverse_transform(pred_stoc)\n",
    "\n",
    "yts_stoc = scaler_stoc.inverse_transform(yts_stoc)"
   ]
  },
  {
   "cell_type": "code",
   "execution_count": 201,
   "metadata": {},
   "outputs": [
    {
     "data": {
      "image/png": "[encoded data removed]",
      "text/plain": [
       "<Figure size 600x500 with 1 Axes>"
      ]
     },
     "metadata": {},
     "output_type": "display_data"
    },
    {
     "name": "stdout",
     "output_type": "stream",
     "text": [
      "MAPE: 7.239%\n"
     ]
    }
   ],
   "source": [
    "plot_fcast_ml(agg_stoc, \"2022-05-07\", \"2022-07-21\", \"2023-01-01\", pred_stoc, False)\n",
    "\n",
    "print(f\"MAPE: {mean_absolute_percentage_error(yts_stoc, pred_stoc)*100:.3f}%\")"
   ]
  },
  {
   "cell_type": "markdown",
   "metadata": {},
   "source": [
    "### STLF with Exogenous Variables"
   ]
  },
  {
   "cell_type": "code",
   "execution_count": 202,
   "metadata": {},
   "outputs": [],
   "source": [
    "stmc = stoc[((stoc.index >= pd.to_datetime(\"2022-01-01\")) & (stoc.index <= pd.to_datetime(\"2022-12-31\")))].join(mean_dwdat).asfreq(\"D\")"
   ]
  },
  {
   "cell_type": "code",
   "execution_count": 203,
   "metadata": {},
   "outputs": [],
   "source": [
    "scaler_stmc = MinMaxScaler(feature_range=(0, 1))\n",
    "\n",
    "sctr_stmc = scaler_stmc.fit_transform(stmc[stmc.index < pd.to_datetime(\"2022-05-01\")])\n",
    "scvl_stmc = scaler_stmc.fit_transform(stmc[(stmc.index >= pd.to_datetime(\"2022-05-01\")) & (stmc.index < pd.to_datetime(\"2022-07-15\"))])\n",
    "scts_stmc = scaler_stmc.fit_transform(stmc[stmc.index >= pd.to_datetime(\"2022-07-15\")])\n",
    "\n",
    "Xtr_stmc, ytr_stmc = df_Xy(sctr_stmc, SEASON_STLF)\n",
    "Xvl_stmc, yvl_stmc = df_Xy(scvl_stmc, SEASON_STLF)\n",
    "Xts_stmc, yts_stmc = df_Xy(scts_stmc, SEASON_STLF)"
   ]
  },
  {
   "cell_type": "code",
   "execution_count": 204,
   "metadata": {},
   "outputs": [
    {
     "data": {
      "text/html": [
       "<pre style=\"white-space:pre;overflow-x:auto;line-height:normal;font-family:Menlo,'DejaVu Sans Mono',consolas,'Courier New',monospace\"><span style=\"font-weight: bold\">Model: \"sequential_174\"</span>\n",
       "</pre>\n"
      ],
      "text/plain": [
       "\u001b[1mModel: \"sequential_174\"\u001b[0m\n"
      ]
     },
     "metadata": {},
     "output_type": "display_data"
    },
    {
     "data": {
      "text/html": [
       "<pre style=\"white-space:pre;overflow-x:auto;line-height:normal;font-family:Menlo,'DejaVu Sans Mono',consolas,'Courier New',monospace\">┏━━━━━━━━━━━━━━━━━━━━━━━━━━━━━━━━━┳━━━━━━━━━━━━━━━━━━━━━━━━┳━━━━━━━━━━━━━━━┓\n",
       "┃<span style=\"font-weight: bold\"> Layer (type)                    </span>┃<span style=\"font-weight: bold\"> Output Shape           </span>┃<span style=\"font-weight: bold\">       Param # </span>┃\n",
       "┡━━━━━━━━━━━━━━━━━━━━━━━━━━━━━━━━━╇━━━━━━━━━━━━━━━━━━━━━━━━╇━━━━━━━━━━━━━━━┩\n",
       "│ lstm_208 (<span style=\"color: #0087ff; text-decoration-color: #0087ff\">LSTM</span>)                 │ (<span style=\"color: #00d7ff; text-decoration-color: #00d7ff\">None</span>, <span style=\"color: #00af00; text-decoration-color: #00af00\">6</span>, <span style=\"color: #00af00; text-decoration-color: #00af00\">512</span>)         │     <span style=\"color: #00af00; text-decoration-color: #00af00\">1,058,816</span> │\n",
       "├─────────────────────────────────┼────────────────────────┼───────────────┤\n",
       "│ lstm_209 (<span style=\"color: #0087ff; text-decoration-color: #0087ff\">LSTM</span>)                 │ (<span style=\"color: #00d7ff; text-decoration-color: #00d7ff\">None</span>, <span style=\"color: #00af00; text-decoration-color: #00af00\">512</span>)            │     <span style=\"color: #00af00; text-decoration-color: #00af00\">2,099,200</span> │\n",
       "├─────────────────────────────────┼────────────────────────┼───────────────┤\n",
       "│ dense_348 (<span style=\"color: #0087ff; text-decoration-color: #0087ff\">Dense</span>)               │ (<span style=\"color: #00d7ff; text-decoration-color: #00d7ff\">None</span>, <span style=\"color: #00af00; text-decoration-color: #00af00\">32</span>)             │        <span style=\"color: #00af00; text-decoration-color: #00af00\">16,416</span> │\n",
       "├─────────────────────────────────┼────────────────────────┼───────────────┤\n",
       "│ dense_349 (<span style=\"color: #0087ff; text-decoration-color: #0087ff\">Dense</span>)               │ (<span style=\"color: #00d7ff; text-decoration-color: #00d7ff\">None</span>, <span style=\"color: #00af00; text-decoration-color: #00af00\">4</span>)              │           <span style=\"color: #00af00; text-decoration-color: #00af00\">132</span> │\n",
       "└─────────────────────────────────┴────────────────────────┴───────────────┘\n",
       "</pre>\n"
      ],
      "text/plain": [
       "┏━━━━━━━━━━━━━━━━━━━━━━━━━━━━━━━━━┳━━━━━━━━━━━━━━━━━━━━━━━━┳━━━━━━━━━━━━━━━┓\n",
       "┃\u001b[1m \u001b[0m\u001b[1mLayer (type)                   \u001b[0m\u001b[1m \u001b[0m┃\u001b[1m \u001b[0m\u001b[1mOutput Shape          \u001b[0m\u001b[1m \u001b[0m┃\u001b[1m \u001b[0m\u001b[1m      Param #\u001b[0m\u001b[1m \u001b[0m┃\n",
       "┡━━━━━━━━━━━━━━━━━━━━━━━━━━━━━━━━━╇━━━━━━━━━━━━━━━━━━━━━━━━╇━━━━━━━━━━━━━━━┩\n",
       "│ lstm_208 (\u001b[38;5;33mLSTM\u001b[0m)                 │ (\u001b[38;5;45mNone\u001b[0m, \u001b[38;5;34m6\u001b[0m, \u001b[38;5;34m512\u001b[0m)         │     \u001b[38;5;34m1,058,816\u001b[0m │\n",
       "├─────────────────────────────────┼────────────────────────┼───────────────┤\n",
       "│ lstm_209 (\u001b[38;5;33mLSTM\u001b[0m)                 │ (\u001b[38;5;45mNone\u001b[0m, \u001b[38;5;34m512\u001b[0m)            │     \u001b[38;5;34m2,099,200\u001b[0m │\n",
       "├─────────────────────────────────┼────────────────────────┼───────────────┤\n",
       "│ dense_348 (\u001b[38;5;33mDense\u001b[0m)               │ (\u001b[38;5;45mNone\u001b[0m, \u001b[38;5;34m32\u001b[0m)             │        \u001b[38;5;34m16,416\u001b[0m │\n",
       "├─────────────────────────────────┼────────────────────────┼───────────────┤\n",
       "│ dense_349 (\u001b[38;5;33mDense\u001b[0m)               │ (\u001b[38;5;45mNone\u001b[0m, \u001b[38;5;34m4\u001b[0m)              │           \u001b[38;5;34m132\u001b[0m │\n",
       "└─────────────────────────────────┴────────────────────────┴───────────────┘\n"
      ]
     },
     "metadata": {},
     "output_type": "display_data"
    },
    {
     "data": {
      "text/html": [
       "<pre style=\"white-space:pre;overflow-x:auto;line-height:normal;font-family:Menlo,'DejaVu Sans Mono',consolas,'Courier New',monospace\"><span style=\"font-weight: bold\"> Total params: </span><span style=\"color: #00af00; text-decoration-color: #00af00\">3,174,564</span> (12.11 MB)\n",
       "</pre>\n"
      ],
      "text/plain": [
       "\u001b[1m Total params: \u001b[0m\u001b[38;5;34m3,174,564\u001b[0m (12.11 MB)\n"
      ]
     },
     "metadata": {},
     "output_type": "display_data"
    },
    {
     "data": {
      "text/html": [
       "<pre style=\"white-space:pre;overflow-x:auto;line-height:normal;font-family:Menlo,'DejaVu Sans Mono',consolas,'Courier New',monospace\"><span style=\"font-weight: bold\"> Trainable params: </span><span style=\"color: #00af00; text-decoration-color: #00af00\">3,174,564</span> (12.11 MB)\n",
       "</pre>\n"
      ],
      "text/plain": [
       "\u001b[1m Trainable params: \u001b[0m\u001b[38;5;34m3,174,564\u001b[0m (12.11 MB)\n"
      ]
     },
     "metadata": {},
     "output_type": "display_data"
    },
    {
     "data": {
      "text/html": [
       "<pre style=\"white-space:pre;overflow-x:auto;line-height:normal;font-family:Menlo,'DejaVu Sans Mono',consolas,'Courier New',monospace\"><span style=\"font-weight: bold\"> Non-trainable params: </span><span style=\"color: #00af00; text-decoration-color: #00af00\">0</span> (0.00 B)\n",
       "</pre>\n"
      ],
      "text/plain": [
       "\u001b[1m Non-trainable params: \u001b[0m\u001b[38;5;34m0\u001b[0m (0.00 B)\n"
      ]
     },
     "metadata": {},
     "output_type": "display_data"
    }
   ],
   "source": [
    "stmc_model = Sequential()\n",
    "stmc_model.add(InputLayer((SEASON_STLF, 4)))\n",
    "stmc_model.add(LSTM(512, return_sequences=True))\n",
    "stmc_model.add(LSTM(512))\n",
    "stmc_model.add(Dense(32, 'relu'))\n",
    "stmc_model.add(Dense(4, 'linear'))\n",
    "\n",
    "stmc_model.summary()"
   ]
  },
  {
   "cell_type": "code",
   "execution_count": 205,
   "metadata": {},
   "outputs": [
    {
     "name": "stdout",
     "output_type": "stream",
     "text": [
      "Epoch 1/50\n",
      "\u001b[1m4/4\u001b[0m \u001b[32m━━━━━━━━━━━━━━━━━━━━\u001b[0m\u001b[37m\u001b[0m \u001b[1m2s\u001b[0m 163ms/step - loss: 0.1811 - root_mean_squared_error: 0.4237 - val_loss: 0.0826 - val_root_mean_squared_error: 0.2874\n",
      "Epoch 2/50\n",
      "\u001b[1m4/4\u001b[0m \u001b[32m━━━━━━━━━━━━━━━━━━━━\u001b[0m\u001b[37m\u001b[0m \u001b[1m0s\u001b[0m 84ms/step - loss: 0.0760 - root_mean_squared_error: 0.2750 - val_loss: 0.0748 - val_root_mean_squared_error: 0.2736\n",
      "Epoch 3/50\n",
      "\u001b[1m4/4\u001b[0m \u001b[32m━━━━━━━━━━━━━━━━━━━━\u001b[0m\u001b[37m\u001b[0m \u001b[1m0s\u001b[0m 89ms/step - loss: 0.0527 - root_mean_squared_error: 0.2293 - val_loss: 0.0672 - val_root_mean_squared_error: 0.2593\n",
      "Epoch 4/50\n",
      "\u001b[1m4/4\u001b[0m \u001b[32m━━━━━━━━━━━━━━━━━━━━\u001b[0m\u001b[37m\u001b[0m \u001b[1m0s\u001b[0m 90ms/step - loss: 0.0402 - root_mean_squared_error: 0.2004 - val_loss: 0.0642 - val_root_mean_squared_error: 0.2533\n",
      "Epoch 5/50\n",
      "\u001b[1m4/4\u001b[0m \u001b[32m━━━━━━━━━━━━━━━━━━━━\u001b[0m\u001b[37m\u001b[0m \u001b[1m0s\u001b[0m 85ms/step - loss: 0.0363 - root_mean_squared_error: 0.1904 - val_loss: 0.0550 - val_root_mean_squared_error: 0.2346\n",
      "Epoch 6/50\n",
      "\u001b[1m4/4\u001b[0m \u001b[32m━━━━━━━━━━━━━━━━━━━━\u001b[0m\u001b[37m\u001b[0m \u001b[1m0s\u001b[0m 91ms/step - loss: 0.0347 - root_mean_squared_error: 0.1863 - val_loss: 0.0536 - val_root_mean_squared_error: 0.2315\n",
      "Epoch 7/50\n",
      "\u001b[1m4/4\u001b[0m \u001b[32m━━━━━━━━━━━━━━━━━━━━\u001b[0m\u001b[37m\u001b[0m \u001b[1m0s\u001b[0m 45ms/step - loss: 0.0348 - root_mean_squared_error: 0.1864 - val_loss: 0.0564 - val_root_mean_squared_error: 0.2374\n",
      "Epoch 8/50\n",
      "\u001b[1m4/4\u001b[0m \u001b[32m━━━━━━━━━━━━━━━━━━━━\u001b[0m\u001b[37m\u001b[0m \u001b[1m0s\u001b[0m 45ms/step - loss: 0.0347 - root_mean_squared_error: 0.1863 - val_loss: 0.0604 - val_root_mean_squared_error: 0.2458\n",
      "Epoch 9/50\n",
      "\u001b[1m4/4\u001b[0m \u001b[32m━━━━━━━━━━━━━━━━━━━━\u001b[0m\u001b[37m\u001b[0m \u001b[1m0s\u001b[0m 48ms/step - loss: 0.0316 - root_mean_squared_error: 0.1776 - val_loss: 0.0591 - val_root_mean_squared_error: 0.2431\n",
      "Epoch 10/50\n",
      "\u001b[1m4/4\u001b[0m \u001b[32m━━━━━━━━━━━━━━━━━━━━\u001b[0m\u001b[37m\u001b[0m \u001b[1m0s\u001b[0m 47ms/step - loss: 0.0302 - root_mean_squared_error: 0.1737 - val_loss: 0.0548 - val_root_mean_squared_error: 0.2341\n",
      "Epoch 11/50\n",
      "\u001b[1m4/4\u001b[0m \u001b[32m━━━━━━━━━━━━━━━━━━━━\u001b[0m\u001b[37m\u001b[0m \u001b[1m0s\u001b[0m 46ms/step - loss: 0.0310 - root_mean_squared_error: 0.1760 - val_loss: 0.0539 - val_root_mean_squared_error: 0.2321\n",
      "Epoch 12/50\n",
      "\u001b[1m4/4\u001b[0m \u001b[32m━━━━━━━━━━━━━━━━━━━━\u001b[0m\u001b[37m\u001b[0m \u001b[1m0s\u001b[0m 44ms/step - loss: 0.0334 - root_mean_squared_error: 0.1827 - val_loss: 0.0562 - val_root_mean_squared_error: 0.2371\n",
      "Epoch 13/50\n",
      "\u001b[1m4/4\u001b[0m \u001b[32m━━━━━━━━━━━━━━━━━━━━\u001b[0m\u001b[37m\u001b[0m \u001b[1m0s\u001b[0m 48ms/step - loss: 0.0306 - root_mean_squared_error: 0.1750 - val_loss: 0.0580 - val_root_mean_squared_error: 0.2408\n",
      "Epoch 14/50\n",
      "\u001b[1m4/4\u001b[0m \u001b[32m━━━━━━━━━━━━━━━━━━━━\u001b[0m\u001b[37m\u001b[0m \u001b[1m0s\u001b[0m 45ms/step - loss: 0.0317 - root_mean_squared_error: 0.1780 - val_loss: 0.0585 - val_root_mean_squared_error: 0.2418\n",
      "Epoch 15/50\n",
      "\u001b[1m4/4\u001b[0m \u001b[32m━━━━━━━━━━━━━━━━━━━━\u001b[0m\u001b[37m\u001b[0m \u001b[1m0s\u001b[0m 44ms/step - loss: 0.0302 - root_mean_squared_error: 0.1738 - val_loss: 0.0554 - val_root_mean_squared_error: 0.2354\n",
      "Epoch 16/50\n",
      "\u001b[1m4/4\u001b[0m \u001b[32m━━━━━━━━━━━━━━━━━━━━\u001b[0m\u001b[37m\u001b[0m \u001b[1m0s\u001b[0m 54ms/step - loss: 0.0284 - root_mean_squared_error: 0.1687 - val_loss: 0.0576 - val_root_mean_squared_error: 0.2399\n",
      "Epoch 17/50\n",
      "\u001b[1m4/4\u001b[0m \u001b[32m━━━━━━━━━━━━━━━━━━━━\u001b[0m\u001b[37m\u001b[0m \u001b[1m0s\u001b[0m 44ms/step - loss: 0.0293 - root_mean_squared_error: 0.1711 - val_loss: 0.0572 - val_root_mean_squared_error: 0.2392\n",
      "Epoch 18/50\n",
      "\u001b[1m4/4\u001b[0m \u001b[32m━━━━━━━━━━━━━━━━━━━━\u001b[0m\u001b[37m\u001b[0m \u001b[1m0s\u001b[0m 46ms/step - loss: 0.0290 - root_mean_squared_error: 0.1703 - val_loss: 0.0545 - val_root_mean_squared_error: 0.2333\n",
      "Epoch 19/50\n",
      "\u001b[1m4/4\u001b[0m \u001b[32m━━━━━━━━━━━━━━━━━━━━\u001b[0m\u001b[37m\u001b[0m \u001b[1m0s\u001b[0m 46ms/step - loss: 0.0276 - root_mean_squared_error: 0.1662 - val_loss: 0.0560 - val_root_mean_squared_error: 0.2366\n",
      "Epoch 20/50\n",
      "\u001b[1m4/4\u001b[0m \u001b[32m━━━━━━━━━━━━━━━━━━━━\u001b[0m\u001b[37m\u001b[0m \u001b[1m0s\u001b[0m 46ms/step - loss: 0.0282 - root_mean_squared_error: 0.1678 - val_loss: 0.0599 - val_root_mean_squared_error: 0.2447\n",
      "Epoch 21/50\n",
      "\u001b[1m4/4\u001b[0m \u001b[32m━━━━━━━━━━━━━━━━━━━━\u001b[0m\u001b[37m\u001b[0m \u001b[1m0s\u001b[0m 55ms/step - loss: 0.0275 - root_mean_squared_error: 0.1659 - val_loss: 0.0610 - val_root_mean_squared_error: 0.2470\n",
      "Epoch 22/50\n",
      "\u001b[1m4/4\u001b[0m \u001b[32m━━━━━━━━━━━━━━━━━━━━\u001b[0m\u001b[37m\u001b[0m \u001b[1m0s\u001b[0m 45ms/step - loss: 0.0292 - root_mean_squared_error: 0.1709 - val_loss: 0.0561 - val_root_mean_squared_error: 0.2369\n",
      "Epoch 23/50\n",
      "\u001b[1m4/4\u001b[0m \u001b[32m━━━━━━━━━━━━━━━━━━━━\u001b[0m\u001b[37m\u001b[0m \u001b[1m0s\u001b[0m 41ms/step - loss: 0.0275 - root_mean_squared_error: 0.1659 - val_loss: 0.0617 - val_root_mean_squared_error: 0.2484\n",
      "Epoch 24/50\n",
      "\u001b[1m4/4\u001b[0m \u001b[32m━━━━━━━━━━━━━━━━━━━━\u001b[0m\u001b[37m\u001b[0m \u001b[1m0s\u001b[0m 44ms/step - loss: 0.0286 - root_mean_squared_error: 0.1690 - val_loss: 0.0587 - val_root_mean_squared_error: 0.2423\n",
      "Epoch 25/50\n",
      "\u001b[1m4/4\u001b[0m \u001b[32m━━━━━━━━━━━━━━━━━━━━\u001b[0m\u001b[37m\u001b[0m \u001b[1m0s\u001b[0m 46ms/step - loss: 0.0292 - root_mean_squared_error: 0.1708 - val_loss: 0.0573 - val_root_mean_squared_error: 0.2393\n",
      "Epoch 26/50\n",
      "\u001b[1m4/4\u001b[0m \u001b[32m━━━━━━━━━━━━━━━━━━━━\u001b[0m\u001b[37m\u001b[0m \u001b[1m0s\u001b[0m 50ms/step - loss: 0.0266 - root_mean_squared_error: 0.1631 - val_loss: 0.0595 - val_root_mean_squared_error: 0.2439\n",
      "Epoch 27/50\n",
      "\u001b[1m4/4\u001b[0m \u001b[32m━━━━━━━━━━━━━━━━━━━━\u001b[0m\u001b[37m\u001b[0m \u001b[1m0s\u001b[0m 43ms/step - loss: 0.0291 - root_mean_squared_error: 0.1706 - val_loss: 0.0578 - val_root_mean_squared_error: 0.2404\n",
      "Epoch 28/50\n",
      "\u001b[1m4/4\u001b[0m \u001b[32m━━━━━━━━━━━━━━━━━━━━\u001b[0m\u001b[37m\u001b[0m \u001b[1m0s\u001b[0m 54ms/step - loss: 0.0288 - root_mean_squared_error: 0.1694 - val_loss: 0.0587 - val_root_mean_squared_error: 0.2423\n",
      "Epoch 29/50\n",
      "\u001b[1m4/4\u001b[0m \u001b[32m━━━━━━━━━━━━━━━━━━━━\u001b[0m\u001b[37m\u001b[0m \u001b[1m0s\u001b[0m 46ms/step - loss: 0.0266 - root_mean_squared_error: 0.1631 - val_loss: 0.0597 - val_root_mean_squared_error: 0.2443\n",
      "Epoch 30/50\n",
      "\u001b[1m4/4\u001b[0m \u001b[32m━━━━━━━━━━━━━━━━━━━━\u001b[0m\u001b[37m\u001b[0m \u001b[1m0s\u001b[0m 48ms/step - loss: 0.0267 - root_mean_squared_error: 0.1635 - val_loss: 0.0553 - val_root_mean_squared_error: 0.2352\n",
      "Epoch 31/50\n",
      "\u001b[1m4/4\u001b[0m \u001b[32m━━━━━━━━━━━━━━━━━━━━\u001b[0m\u001b[37m\u001b[0m \u001b[1m0s\u001b[0m 45ms/step - loss: 0.0271 - root_mean_squared_error: 0.1646 - val_loss: 0.0573 - val_root_mean_squared_error: 0.2395\n",
      "Epoch 32/50\n",
      "\u001b[1m4/4\u001b[0m \u001b[32m━━━━━━━━━━━━━━━━━━━━\u001b[0m\u001b[37m\u001b[0m \u001b[1m0s\u001b[0m 47ms/step - loss: 0.0268 - root_mean_squared_error: 0.1636 - val_loss: 0.0573 - val_root_mean_squared_error: 0.2394\n",
      "Epoch 33/50\n",
      "\u001b[1m4/4\u001b[0m \u001b[32m━━━━━━━━━━━━━━━━━━━━\u001b[0m\u001b[37m\u001b[0m \u001b[1m0s\u001b[0m 53ms/step - loss: 0.0251 - root_mean_squared_error: 0.1585 - val_loss: 0.0607 - val_root_mean_squared_error: 0.2465\n",
      "Epoch 34/50\n",
      "\u001b[1m4/4\u001b[0m \u001b[32m━━━━━━━━━━━━━━━━━━━━\u001b[0m\u001b[37m\u001b[0m \u001b[1m0s\u001b[0m 55ms/step - loss: 0.0243 - root_mean_squared_error: 0.1558 - val_loss: 0.0580 - val_root_mean_squared_error: 0.2408\n",
      "Epoch 35/50\n",
      "\u001b[1m4/4\u001b[0m \u001b[32m━━━━━━━━━━━━━━━━━━━━\u001b[0m\u001b[37m\u001b[0m \u001b[1m0s\u001b[0m 49ms/step - loss: 0.0261 - root_mean_squared_error: 0.1617 - val_loss: 0.0632 - val_root_mean_squared_error: 0.2514\n",
      "Epoch 36/50\n",
      "\u001b[1m4/4\u001b[0m \u001b[32m━━━━━━━━━━━━━━━━━━━━\u001b[0m\u001b[37m\u001b[0m \u001b[1m0s\u001b[0m 61ms/step - loss: 0.0254 - root_mean_squared_error: 0.1593 - val_loss: 0.0570 - val_root_mean_squared_error: 0.2387\n",
      "Epoch 37/50\n",
      "\u001b[1m4/4\u001b[0m \u001b[32m━━━━━━━━━━━━━━━━━━━━\u001b[0m\u001b[37m\u001b[0m \u001b[1m0s\u001b[0m 46ms/step - loss: 0.0249 - root_mean_squared_error: 0.1578 - val_loss: 0.0688 - val_root_mean_squared_error: 0.2622\n",
      "Epoch 38/50\n",
      "\u001b[1m4/4\u001b[0m \u001b[32m━━━━━━━━━━━━━━━━━━━━\u001b[0m\u001b[37m\u001b[0m \u001b[1m0s\u001b[0m 51ms/step - loss: 0.0270 - root_mean_squared_error: 0.1642 - val_loss: 0.0601 - val_root_mean_squared_error: 0.2452\n",
      "Epoch 39/50\n",
      "\u001b[1m4/4\u001b[0m \u001b[32m━━━━━━━━━━━━━━━━━━━━\u001b[0m\u001b[37m\u001b[0m \u001b[1m0s\u001b[0m 46ms/step - loss: 0.0235 - root_mean_squared_error: 0.1533 - val_loss: 0.0593 - val_root_mean_squared_error: 0.2436\n",
      "Epoch 40/50\n",
      "\u001b[1m4/4\u001b[0m \u001b[32m━━━━━━━━━━━━━━━━━━━━\u001b[0m\u001b[37m\u001b[0m \u001b[1m0s\u001b[0m 47ms/step - loss: 0.0261 - root_mean_squared_error: 0.1614 - val_loss: 0.0625 - val_root_mean_squared_error: 0.2500\n",
      "Epoch 41/50\n",
      "\u001b[1m4/4\u001b[0m \u001b[32m━━━━━━━━━━━━━━━━━━━━\u001b[0m\u001b[37m\u001b[0m \u001b[1m0s\u001b[0m 50ms/step - loss: 0.0241 - root_mean_squared_error: 0.1552 - val_loss: 0.0600 - val_root_mean_squared_error: 0.2450\n",
      "Epoch 42/50\n",
      "\u001b[1m4/4\u001b[0m \u001b[32m━━━━━━━━━━━━━━━━━━━━\u001b[0m\u001b[37m\u001b[0m \u001b[1m0s\u001b[0m 45ms/step - loss: 0.0244 - root_mean_squared_error: 0.1562 - val_loss: 0.0664 - val_root_mean_squared_error: 0.2577\n",
      "Epoch 43/50\n",
      "\u001b[1m4/4\u001b[0m \u001b[32m━━━━━━━━━━━━━━━━━━━━\u001b[0m\u001b[37m\u001b[0m \u001b[1m0s\u001b[0m 49ms/step - loss: 0.0258 - root_mean_squared_error: 0.1605 - val_loss: 0.0603 - val_root_mean_squared_error: 0.2455\n",
      "Epoch 44/50\n",
      "\u001b[1m4/4\u001b[0m \u001b[32m━━━━━━━━━━━━━━━━━━━━\u001b[0m\u001b[37m\u001b[0m \u001b[1m0s\u001b[0m 53ms/step - loss: 0.0263 - root_mean_squared_error: 0.1619 - val_loss: 0.0614 - val_root_mean_squared_error: 0.2477\n",
      "Epoch 45/50\n",
      "\u001b[1m4/4\u001b[0m \u001b[32m━━━━━━━━━━━━━━━━━━━━\u001b[0m\u001b[37m\u001b[0m \u001b[1m0s\u001b[0m 48ms/step - loss: 0.0259 - root_mean_squared_error: 0.1608 - val_loss: 0.0717 - val_root_mean_squared_error: 0.2677\n",
      "Epoch 46/50\n",
      "\u001b[1m4/4\u001b[0m \u001b[32m━━━━━━━━━━━━━━━━━━━━\u001b[0m\u001b[37m\u001b[0m \u001b[1m0s\u001b[0m 53ms/step - loss: 0.0264 - root_mean_squared_error: 0.1623 - val_loss: 0.0583 - val_root_mean_squared_error: 0.2414\n",
      "Epoch 47/50\n",
      "\u001b[1m4/4\u001b[0m \u001b[32m━━━━━━━━━━━━━━━━━━━━\u001b[0m\u001b[37m\u001b[0m \u001b[1m0s\u001b[0m 48ms/step - loss: 0.0234 - root_mean_squared_error: 0.1529 - val_loss: 0.0580 - val_root_mean_squared_error: 0.2408\n",
      "Epoch 48/50\n",
      "\u001b[1m4/4\u001b[0m \u001b[32m━━━━━━━━━━━━━━━━━━━━\u001b[0m\u001b[37m\u001b[0m \u001b[1m0s\u001b[0m 53ms/step - loss: 0.0217 - root_mean_squared_error: 0.1470 - val_loss: 0.0643 - val_root_mean_squared_error: 0.2535\n",
      "Epoch 49/50\n",
      "\u001b[1m4/4\u001b[0m \u001b[32m━━━━━━━━━━━━━━━━━━━━\u001b[0m\u001b[37m\u001b[0m \u001b[1m0s\u001b[0m 46ms/step - loss: 0.0222 - root_mean_squared_error: 0.1490 - val_loss: 0.0601 - val_root_mean_squared_error: 0.2451\n",
      "Epoch 50/50\n",
      "\u001b[1m4/4\u001b[0m \u001b[32m━━━━━━━━━━━━━━━━━━━━\u001b[0m\u001b[37m\u001b[0m \u001b[1m0s\u001b[0m 47ms/step - loss: 0.0251 - root_mean_squared_error: 0.1585 - val_loss: 0.0602 - val_root_mean_squared_error: 0.2453\n"
     ]
    },
    {
     "data": {
      "text/plain": [
       "<keras.src.callbacks.history.History at 0x1a204a57d50>"
      ]
     },
     "execution_count": 205,
     "metadata": {},
     "output_type": "execute_result"
    }
   ],
   "source": [
    "cp = ModelCheckpoint('models/stmc_model.keras', save_best_only=True)\n",
    "stmc_model.compile(loss=MeanSquaredError(), optimizer=Adam(learning_rate=0.001), metrics=[RootMeanSquaredError()])\n",
    "\n",
    "stmc_model.fit(Xtr_stmc, ytr_stmc, validation_data=(Xvl_stmc, yvl_stmc), epochs=50, callbacks=[cp])"
   ]
  },
  {
   "cell_type": "code",
   "execution_count": 206,
   "metadata": {},
   "outputs": [
    {
     "name": "stdout",
     "output_type": "stream",
     "text": [
      "\u001b[1m6/6\u001b[0m \u001b[32m━━━━━━━━━━━━━━━━━━━━\u001b[0m\u001b[37m\u001b[0m \u001b[1m0s\u001b[0m 39ms/step\n"
     ]
    }
   ],
   "source": [
    "stmc_model = load_model('models/stmc_model.keras')\n",
    "\n",
    "pred_stmc = stmc_model.predict(Xts_stmc)\n",
    "pred_stmc = scaler_stmc.inverse_transform(pred_stmc)[:,0]\n",
    "\n",
    "yts_stmc = scaler_stmc.inverse_transform(yts_stmc)[:,0]"
   ]
  },
  {
   "cell_type": "code",
   "execution_count": 207,
   "metadata": {},
   "outputs": [
    {
     "data": {
      "image/png": "[encoded data removed]",
      "text/plain": [
       "<Figure size 600x500 with 1 Axes>"
      ]
     },
     "metadata": {},
     "output_type": "display_data"
    },
    {
     "name": "stdout",
     "output_type": "stream",
     "text": [
      "MAPE: 7.499%\n"
     ]
    }
   ],
   "source": [
    "plot_fcast_ml(stmc, \"2022-05-07\", \"2022-07-21\", \"2023-01-01\", pred_stmc, True)\n",
    "\n",
    "print(f\"MAPE: {mean_absolute_percentage_error(yts_stmc, pred_stmc)*100:.3f}%\")"
   ]
  },
  {
   "cell_type": "markdown",
   "metadata": {},
   "source": [
    "## GRU (Gated Recurrent Unit)"
   ]
  },
  {
   "cell_type": "markdown",
   "metadata": {},
   "source": [
    "### LTLF"
   ]
  },
  {
   "cell_type": "code",
   "execution_count": 208,
   "metadata": {},
   "outputs": [],
   "source": [
    "scaler_gltoc = MinMaxScaler(feature_range=(0, 1))"
   ]
  },
  {
   "cell_type": "code",
   "execution_count": 209,
   "metadata": {},
   "outputs": [],
   "source": [
    "agg_gltoc = ltoc[ltoc.index >= pd.to_datetime(\"2009-01-01\")].asfreq(\"MS\")\n",
    "sctr_gltoc = scaler_gltoc.fit_transform(agg_gltoc[agg_gltoc.index < pd.to_datetime(\"2017-01-01\")])\n",
    "scvl_gltoc = scaler_gltoc.fit_transform(agg_gltoc[(agg_gltoc.index >= pd.to_datetime(\"2017-01-01\")) & (agg_gltoc.index < pd.to_datetime(\"2020-01-01\"))])\n",
    "scts_gltoc = scaler_gltoc.fit_transform(agg_gltoc[(agg_gltoc.index >= pd.to_datetime(\"2020-01-01\")) & (agg_gltoc.index < pd.to_datetime(\"2024-05-01\"))])"
   ]
  },
  {
   "cell_type": "code",
   "execution_count": 210,
   "metadata": {},
   "outputs": [],
   "source": [
    "Xtr_gltoc, ytr_gltoc = col_Xy(sctr_gltoc, SEASON_LTLF)\n",
    "Xvl_gltoc, yvl_gltoc = col_Xy(scvl_gltoc, SEASON_LTLF)\n",
    "Xts_gltoc, yts_gltoc = col_Xy(scts_gltoc, SEASON_LTLF)"
   ]
  },
  {
   "cell_type": "code",
   "execution_count": 211,
   "metadata": {},
   "outputs": [],
   "source": [
    "gltoc_model = Sequential()\n",
    "gltoc_model.add(InputLayer((SEASON_LTLF, 1)))\n",
    "gltoc_model.add(GRU(128, return_sequences=True))\n",
    "gltoc_model.add(GRU(128))\n",
    "gltoc_model.add(Dense(8, 'relu'))\n",
    "gltoc_model.add(Dense(1, 'linear'))"
   ]
  },
  {
   "cell_type": "code",
   "execution_count": 212,
   "metadata": {},
   "outputs": [],
   "source": [
    "cp = ModelCheckpoint('models/gltoc_model.keras', save_best_only=True)\n",
    "gltoc_model.compile(loss=MeanSquaredError(), optimizer=Adam(learning_rate=0.001), metrics=[RootMeanSquaredError()])"
   ]
  },
  {
   "cell_type": "code",
   "execution_count": 213,
   "metadata": {},
   "outputs": [
    {
     "name": "stdout",
     "output_type": "stream",
     "text": [
      "Epoch 1/50\n",
      "\u001b[1m3/3\u001b[0m \u001b[32m━━━━━━━━━━━━━━━━━━━━\u001b[0m\u001b[37m\u001b[0m \u001b[1m2s\u001b[0m 161ms/step - loss: 0.1716 - root_mean_squared_error: 0.4141 - val_loss: 0.1141 - val_root_mean_squared_error: 0.3378\n",
      "Epoch 2/50\n",
      "\u001b[1m3/3\u001b[0m \u001b[32m━━━━━━━━━━━━━━━━━━━━\u001b[0m\u001b[37m\u001b[0m \u001b[1m0s\u001b[0m 16ms/step - loss: 0.0700 - root_mean_squared_error: 0.2644 - val_loss: 0.1338 - val_root_mean_squared_error: 0.3658\n",
      "Epoch 3/50\n",
      "\u001b[1m3/3\u001b[0m \u001b[32m━━━━━━━━━━━━━━━━━━━━\u001b[0m\u001b[37m\u001b[0m \u001b[1m0s\u001b[0m 30ms/step - loss: 0.0746 - root_mean_squared_error: 0.2731 - val_loss: 0.1022 - val_root_mean_squared_error: 0.3197\n",
      "Epoch 4/50\n",
      "\u001b[1m3/3\u001b[0m \u001b[32m━━━━━━━━━━━━━━━━━━━━\u001b[0m\u001b[37m\u001b[0m \u001b[1m0s\u001b[0m 31ms/step - loss: 0.0522 - root_mean_squared_error: 0.2285 - val_loss: 0.0963 - val_root_mean_squared_error: 0.3103\n",
      "Epoch 5/50\n",
      "\u001b[1m3/3\u001b[0m \u001b[32m━━━━━━━━━━━━━━━━━━━━\u001b[0m\u001b[37m\u001b[0m \u001b[1m0s\u001b[0m 32ms/step - loss: 0.0601 - root_mean_squared_error: 0.2448 - val_loss: 0.0920 - val_root_mean_squared_error: 0.3034\n",
      "Epoch 6/50\n",
      "\u001b[1m3/3\u001b[0m \u001b[32m━━━━━━━━━━━━━━━━━━━━\u001b[0m\u001b[37m\u001b[0m \u001b[1m0s\u001b[0m 32ms/step - loss: 0.0556 - root_mean_squared_error: 0.2355 - val_loss: 0.0843 - val_root_mean_squared_error: 0.2903\n",
      "Epoch 7/50\n",
      "\u001b[1m3/3\u001b[0m \u001b[32m━━━━━━━━━━━━━━━━━━━━\u001b[0m\u001b[37m\u001b[0m \u001b[1m0s\u001b[0m 31ms/step - loss: 0.0477 - root_mean_squared_error: 0.2183 - val_loss: 0.0801 - val_root_mean_squared_error: 0.2831\n",
      "Epoch 8/50\n",
      "\u001b[1m3/3\u001b[0m \u001b[32m━━━━━━━━━━━━━━━━━━━━\u001b[0m\u001b[37m\u001b[0m \u001b[1m0s\u001b[0m 32ms/step - loss: 0.0404 - root_mean_squared_error: 0.2009 - val_loss: 0.0765 - val_root_mean_squared_error: 0.2767\n",
      "Epoch 9/50\n",
      "\u001b[1m3/3\u001b[0m \u001b[32m━━━━━━━━━━━━━━━━━━━━\u001b[0m\u001b[37m\u001b[0m \u001b[1m0s\u001b[0m 32ms/step - loss: 0.0410 - root_mean_squared_error: 0.2026 - val_loss: 0.0704 - val_root_mean_squared_error: 0.2653\n",
      "Epoch 10/50\n",
      "\u001b[1m3/3\u001b[0m \u001b[32m━━━━━━━━━━━━━━━━━━━━\u001b[0m\u001b[37m\u001b[0m \u001b[1m0s\u001b[0m 31ms/step - loss: 0.0351 - root_mean_squared_error: 0.1873 - val_loss: 0.0638 - val_root_mean_squared_error: 0.2526\n",
      "Epoch 11/50\n",
      "\u001b[1m3/3\u001b[0m \u001b[32m━━━━━━━━━━━━━━━━━━━━\u001b[0m\u001b[37m\u001b[0m \u001b[1m0s\u001b[0m 31ms/step - loss: 0.0372 - root_mean_squared_error: 0.1928 - val_loss: 0.0578 - val_root_mean_squared_error: 0.2405\n",
      "Epoch 12/50\n",
      "\u001b[1m3/3\u001b[0m \u001b[32m━━━━━━━━━━━━━━━━━━━━\u001b[0m\u001b[37m\u001b[0m \u001b[1m0s\u001b[0m 31ms/step - loss: 0.0363 - root_mean_squared_error: 0.1899 - val_loss: 0.0500 - val_root_mean_squared_error: 0.2235\n",
      "Epoch 13/50\n",
      "\u001b[1m3/3\u001b[0m \u001b[32m━━━━━━━━━━━━━━━━━━━━\u001b[0m\u001b[37m\u001b[0m \u001b[1m0s\u001b[0m 30ms/step - loss: 0.0292 - root_mean_squared_error: 0.1708 - val_loss: 0.0437 - val_root_mean_squared_error: 0.2090\n",
      "Epoch 14/50\n",
      "\u001b[1m3/3\u001b[0m \u001b[32m━━━━━━━━━━━━━━━━━━━━\u001b[0m\u001b[37m\u001b[0m \u001b[1m0s\u001b[0m 30ms/step - loss: 0.0249 - root_mean_squared_error: 0.1577 - val_loss: 0.0357 - val_root_mean_squared_error: 0.1890\n",
      "Epoch 15/50\n",
      "\u001b[1m3/3\u001b[0m \u001b[32m━━━━━━━━━━━━━━━━━━━━\u001b[0m\u001b[37m\u001b[0m \u001b[1m0s\u001b[0m 30ms/step - loss: 0.0203 - root_mean_squared_error: 0.1423 - val_loss: 0.0272 - val_root_mean_squared_error: 0.1649\n",
      "Epoch 16/50\n",
      "\u001b[1m3/3\u001b[0m \u001b[32m━━━━━━━━━━━━━━━━━━━━\u001b[0m\u001b[37m\u001b[0m \u001b[1m0s\u001b[0m 30ms/step - loss: 0.0172 - root_mean_squared_error: 0.1310 - val_loss: 0.0193 - val_root_mean_squared_error: 0.1390\n",
      "Epoch 17/50\n",
      "\u001b[1m3/3\u001b[0m \u001b[32m━━━━━━━━━━━━━━━━━━━━\u001b[0m\u001b[37m\u001b[0m \u001b[1m0s\u001b[0m 30ms/step - loss: 0.0118 - root_mean_squared_error: 0.1085 - val_loss: 0.0140 - val_root_mean_squared_error: 0.1185\n",
      "Epoch 18/50\n",
      "\u001b[1m3/3\u001b[0m \u001b[32m━━━━━━━━━━━━━━━━━━━━\u001b[0m\u001b[37m\u001b[0m \u001b[1m0s\u001b[0m 30ms/step - loss: 0.0119 - root_mean_squared_error: 0.1089 - val_loss: 0.0126 - val_root_mean_squared_error: 0.1121\n",
      "Epoch 19/50\n",
      "\u001b[1m3/3\u001b[0m \u001b[32m━━━━━━━━━━━━━━━━━━━━\u001b[0m\u001b[37m\u001b[0m \u001b[1m0s\u001b[0m 30ms/step - loss: 0.0097 - root_mean_squared_error: 0.0985 - val_loss: 0.0113 - val_root_mean_squared_error: 0.1064\n",
      "Epoch 20/50\n",
      "\u001b[1m3/3\u001b[0m \u001b[32m━━━━━━━━━━━━━━━━━━━━\u001b[0m\u001b[37m\u001b[0m \u001b[1m0s\u001b[0m 17ms/step - loss: 0.0092 - root_mean_squared_error: 0.0959 - val_loss: 0.0122 - val_root_mean_squared_error: 0.1106\n",
      "Epoch 21/50\n",
      "\u001b[1m3/3\u001b[0m \u001b[32m━━━━━━━━━━━━━━━━━━━━\u001b[0m\u001b[37m\u001b[0m \u001b[1m0s\u001b[0m 17ms/step - loss: 0.0112 - root_mean_squared_error: 0.1059 - val_loss: 0.0126 - val_root_mean_squared_error: 0.1122\n",
      "Epoch 22/50\n",
      "\u001b[1m3/3\u001b[0m \u001b[32m━━━━━━━━━━━━━━━━━━━━\u001b[0m\u001b[37m\u001b[0m \u001b[1m0s\u001b[0m 17ms/step - loss: 0.0102 - root_mean_squared_error: 0.1010 - val_loss: 0.0113 - val_root_mean_squared_error: 0.1065\n",
      "Epoch 23/50\n",
      "\u001b[1m3/3\u001b[0m \u001b[32m━━━━━━━━━━━━━━━━━━━━\u001b[0m\u001b[37m\u001b[0m \u001b[1m0s\u001b[0m 17ms/step - loss: 0.0095 - root_mean_squared_error: 0.0973 - val_loss: 0.0117 - val_root_mean_squared_error: 0.1082\n",
      "Epoch 24/50\n",
      "\u001b[1m3/3\u001b[0m \u001b[32m━━━━━━━━━━━━━━━━━━━━\u001b[0m\u001b[37m\u001b[0m \u001b[1m0s\u001b[0m 17ms/step - loss: 0.0083 - root_mean_squared_error: 0.0910 - val_loss: 0.0118 - val_root_mean_squared_error: 0.1086\n",
      "Epoch 25/50\n",
      "\u001b[1m3/3\u001b[0m \u001b[32m━━━━━━━━━━━━━━━━━━━━\u001b[0m\u001b[37m\u001b[0m \u001b[1m0s\u001b[0m 17ms/step - loss: 0.0073 - root_mean_squared_error: 0.0849 - val_loss: 0.0120 - val_root_mean_squared_error: 0.1096\n",
      "Epoch 26/50\n",
      "\u001b[1m3/3\u001b[0m \u001b[32m━━━━━━━━━━━━━━━━━━━━\u001b[0m\u001b[37m\u001b[0m \u001b[1m0s\u001b[0m 17ms/step - loss: 0.0085 - root_mean_squared_error: 0.0924 - val_loss: 0.0120 - val_root_mean_squared_error: 0.1097\n",
      "Epoch 27/50\n",
      "\u001b[1m3/3\u001b[0m \u001b[32m━━━━━━━━━━━━━━━━━━━━\u001b[0m\u001b[37m\u001b[0m \u001b[1m0s\u001b[0m 17ms/step - loss: 0.0089 - root_mean_squared_error: 0.0941 - val_loss: 0.0129 - val_root_mean_squared_error: 0.1137\n",
      "Epoch 28/50\n",
      "\u001b[1m3/3\u001b[0m \u001b[32m━━━━━━━━━━━━━━━━━━━━\u001b[0m\u001b[37m\u001b[0m \u001b[1m0s\u001b[0m 17ms/step - loss: 0.0081 - root_mean_squared_error: 0.0899 - val_loss: 0.0118 - val_root_mean_squared_error: 0.1086\n",
      "Epoch 29/50\n",
      "\u001b[1m3/3\u001b[0m \u001b[32m━━━━━━━━━━━━━━━━━━━━\u001b[0m\u001b[37m\u001b[0m \u001b[1m0s\u001b[0m 17ms/step - loss: 0.0085 - root_mean_squared_error: 0.0921 - val_loss: 0.0116 - val_root_mean_squared_error: 0.1076\n",
      "Epoch 30/50\n",
      "\u001b[1m3/3\u001b[0m \u001b[32m━━━━━━━━━━━━━━━━━━━━\u001b[0m\u001b[37m\u001b[0m \u001b[1m0s\u001b[0m 20ms/step - loss: 0.0076 - root_mean_squared_error: 0.0870 - val_loss: 0.0128 - val_root_mean_squared_error: 0.1131\n",
      "Epoch 31/50\n",
      "\u001b[1m3/3\u001b[0m \u001b[32m━━━━━━━━━━━━━━━━━━━━\u001b[0m\u001b[37m\u001b[0m \u001b[1m0s\u001b[0m 18ms/step - loss: 0.0085 - root_mean_squared_error: 0.0923 - val_loss: 0.0115 - val_root_mean_squared_error: 0.1072\n",
      "Epoch 32/50\n",
      "\u001b[1m3/3\u001b[0m \u001b[32m━━━━━━━━━━━━━━━━━━━━\u001b[0m\u001b[37m\u001b[0m \u001b[1m0s\u001b[0m 18ms/step - loss: 0.0079 - root_mean_squared_error: 0.0888 - val_loss: 0.0114 - val_root_mean_squared_error: 0.1067\n",
      "Epoch 33/50\n",
      "\u001b[1m3/3\u001b[0m \u001b[32m━━━━━━━━━━━━━━━━━━━━\u001b[0m\u001b[37m\u001b[0m \u001b[1m0s\u001b[0m 18ms/step - loss: 0.0072 - root_mean_squared_error: 0.0850 - val_loss: 0.0116 - val_root_mean_squared_error: 0.1077\n",
      "Epoch 34/50\n",
      "\u001b[1m3/3\u001b[0m \u001b[32m━━━━━━━━━━━━━━━━━━━━\u001b[0m\u001b[37m\u001b[0m \u001b[1m0s\u001b[0m 19ms/step - loss: 0.0078 - root_mean_squared_error: 0.0882 - val_loss: 0.0124 - val_root_mean_squared_error: 0.1113\n",
      "Epoch 35/50\n",
      "\u001b[1m3/3\u001b[0m \u001b[32m━━━━━━━━━━━━━━━━━━━━\u001b[0m\u001b[37m\u001b[0m \u001b[1m0s\u001b[0m 33ms/step - loss: 0.0077 - root_mean_squared_error: 0.0880 - val_loss: 0.0111 - val_root_mean_squared_error: 0.1052\n",
      "Epoch 36/50\n",
      "\u001b[1m3/3\u001b[0m \u001b[32m━━━━━━━━━━━━━━━━━━━━\u001b[0m\u001b[37m\u001b[0m \u001b[1m0s\u001b[0m 32ms/step - loss: 0.0077 - root_mean_squared_error: 0.0878 - val_loss: 0.0110 - val_root_mean_squared_error: 0.1048\n",
      "Epoch 37/50\n",
      "\u001b[1m3/3\u001b[0m \u001b[32m━━━━━━━━━━━━━━━━━━━━\u001b[0m\u001b[37m\u001b[0m \u001b[1m0s\u001b[0m 19ms/step - loss: 0.0073 - root_mean_squared_error: 0.0852 - val_loss: 0.0122 - val_root_mean_squared_error: 0.1105\n",
      "Epoch 38/50\n",
      "\u001b[1m3/3\u001b[0m \u001b[32m━━━━━━━━━━━━━━━━━━━━\u001b[0m\u001b[37m\u001b[0m \u001b[1m0s\u001b[0m 19ms/step - loss: 0.0076 - root_mean_squared_error: 0.0869 - val_loss: 0.0110 - val_root_mean_squared_error: 0.1049\n",
      "Epoch 39/50\n",
      "\u001b[1m3/3\u001b[0m \u001b[32m━━━━━━━━━━━━━━━━━━━━\u001b[0m\u001b[37m\u001b[0m \u001b[1m0s\u001b[0m 32ms/step - loss: 0.0083 - root_mean_squared_error: 0.0908 - val_loss: 0.0110 - val_root_mean_squared_error: 0.1048\n",
      "Epoch 40/50\n",
      "\u001b[1m3/3\u001b[0m \u001b[32m━━━━━━━━━━━━━━━━━━━━\u001b[0m\u001b[37m\u001b[0m \u001b[1m0s\u001b[0m 18ms/step - loss: 0.0065 - root_mean_squared_error: 0.0807 - val_loss: 0.0115 - val_root_mean_squared_error: 0.1071\n",
      "Epoch 41/50\n",
      "\u001b[1m3/3\u001b[0m \u001b[32m━━━━━━━━━━━━━━━━━━━━\u001b[0m\u001b[37m\u001b[0m \u001b[1m0s\u001b[0m 30ms/step - loss: 0.0065 - root_mean_squared_error: 0.0809 - val_loss: 0.0110 - val_root_mean_squared_error: 0.1047\n",
      "Epoch 42/50\n",
      "\u001b[1m3/3\u001b[0m \u001b[32m━━━━━━━━━━━━━━━━━━━━\u001b[0m\u001b[37m\u001b[0m \u001b[1m0s\u001b[0m 30ms/step - loss: 0.0061 - root_mean_squared_error: 0.0782 - val_loss: 0.0109 - val_root_mean_squared_error: 0.1043\n",
      "Epoch 43/50\n",
      "\u001b[1m3/3\u001b[0m \u001b[32m━━━━━━━━━━━━━━━━━━━━\u001b[0m\u001b[37m\u001b[0m \u001b[1m0s\u001b[0m 30ms/step - loss: 0.0067 - root_mean_squared_error: 0.0820 - val_loss: 0.0108 - val_root_mean_squared_error: 0.1041\n",
      "Epoch 44/50\n",
      "\u001b[1m3/3\u001b[0m \u001b[32m━━━━━━━━━━━━━━━━━━━━\u001b[0m\u001b[37m\u001b[0m \u001b[1m0s\u001b[0m 30ms/step - loss: 0.0069 - root_mean_squared_error: 0.0828 - val_loss: 0.0107 - val_root_mean_squared_error: 0.1034\n",
      "Epoch 45/50\n",
      "\u001b[1m3/3\u001b[0m \u001b[32m━━━━━━━━━━━━━━━━━━━━\u001b[0m\u001b[37m\u001b[0m \u001b[1m0s\u001b[0m 32ms/step - loss: 0.0068 - root_mean_squared_error: 0.0825 - val_loss: 0.0105 - val_root_mean_squared_error: 0.1026\n",
      "Epoch 46/50\n",
      "\u001b[1m3/3\u001b[0m \u001b[32m━━━━━━━━━━━━━━━━━━━━\u001b[0m\u001b[37m\u001b[0m \u001b[1m0s\u001b[0m 17ms/step - loss: 0.0062 - root_mean_squared_error: 0.0785 - val_loss: 0.0110 - val_root_mean_squared_error: 0.1049\n",
      "Epoch 47/50\n",
      "\u001b[1m3/3\u001b[0m \u001b[32m━━━━━━━━━━━━━━━━━━━━\u001b[0m\u001b[37m\u001b[0m \u001b[1m0s\u001b[0m 30ms/step - loss: 0.0067 - root_mean_squared_error: 0.0820 - val_loss: 0.0105 - val_root_mean_squared_error: 0.1023\n",
      "Epoch 48/50\n",
      "\u001b[1m3/3\u001b[0m \u001b[32m━━━━━━━━━━━━━━━━━━━━\u001b[0m\u001b[37m\u001b[0m \u001b[1m0s\u001b[0m 17ms/step - loss: 0.0066 - root_mean_squared_error: 0.0809 - val_loss: 0.0105 - val_root_mean_squared_error: 0.1023\n",
      "Epoch 49/50\n",
      "\u001b[1m3/3\u001b[0m \u001b[32m━━━━━━━━━━━━━━━━━━━━\u001b[0m\u001b[37m\u001b[0m \u001b[1m0s\u001b[0m 16ms/step - loss: 0.0062 - root_mean_squared_error: 0.0786 - val_loss: 0.0107 - val_root_mean_squared_error: 0.1034\n",
      "Epoch 50/50\n",
      "\u001b[1m3/3\u001b[0m \u001b[32m━━━━━━━━━━━━━━━━━━━━\u001b[0m\u001b[37m\u001b[0m \u001b[1m0s\u001b[0m 30ms/step - loss: 0.0066 - root_mean_squared_error: 0.0812 - val_loss: 0.0103 - val_root_mean_squared_error: 0.1017\n"
     ]
    },
    {
     "data": {
      "text/plain": [
       "<keras.src.callbacks.history.History at 0x1a20a697750>"
      ]
     },
     "execution_count": 213,
     "metadata": {},
     "output_type": "execute_result"
    }
   ],
   "source": [
    "gltoc_model.fit(Xtr_gltoc, ytr_gltoc, validation_data=(Xvl_gltoc, yvl_gltoc), epochs=50, callbacks=[cp])"
   ]
  },
  {
   "cell_type": "code",
   "execution_count": 214,
   "metadata": {},
   "outputs": [
    {
     "name": "stdout",
     "output_type": "stream",
     "text": [
      "\u001b[1m2/2\u001b[0m \u001b[32m━━━━━━━━━━━━━━━━━━━━\u001b[0m\u001b[37m\u001b[0m \u001b[1m0s\u001b[0m 200ms/step\n"
     ]
    }
   ],
   "source": [
    "gltoc_model = load_model('models/gltoc_model.keras')\n",
    "\n",
    "pred_gltoc = gltoc_model.predict(Xts_gltoc)\n",
    "pred_gltoc = scaler_gltoc.inverse_transform(pred_gltoc)\n",
    "\n",
    "yts_gltoc = scaler_gltoc.inverse_transform(yts_gltoc)"
   ]
  },
  {
   "cell_type": "code",
   "execution_count": 215,
   "metadata": {},
   "outputs": [
    {
     "data": {
      "image/png": "[encoded data removed]",
      "text/plain": [
       "<Figure size 600x500 with 1 Axes>"
      ]
     },
     "metadata": {},
     "output_type": "display_data"
    },
    {
     "name": "stdout",
     "output_type": "stream",
     "text": [
      "MAPE: 2.910%\n"
     ]
    }
   ],
   "source": [
    "plot_fcast_ml(agg_gltoc, \"2017-12-01\", \"2020-12-01\", \"2024-05-01\", pred_gltoc, False)\n",
    "\n",
    "print(f\"MAPE: {mean_absolute_percentage_error(yts_gltoc, pred_gltoc)*100:.3f}%\")"
   ]
  },
  {
   "cell_type": "markdown",
   "metadata": {},
   "source": [
    "### LTLF with Exogenous Variables"
   ]
  },
  {
   "cell_type": "code",
   "execution_count": 216,
   "metadata": {},
   "outputs": [],
   "source": [
    "scaler_gltmc = MinMaxScaler(feature_range=(0, 1))\n",
    "\n",
    "sctr_gltmc = scaler_gltmc.fit_transform(ltmc[ltmc.index < pd.to_datetime(\"2017-01-01\")])\n",
    "scvl_gltmc = scaler_gltmc.fit_transform(ltmc[(ltmc.index >= pd.to_datetime(\"2017-01-01\")) & (ltmc.index < pd.to_datetime(\"2020-01-01\"))])\n",
    "scts_gltmc = scaler_gltmc.fit_transform(ltmc[(ltmc.index >= pd.to_datetime(\"2020-01-01\")) & (ltmc.index < pd.to_datetime(\"2024-05-01\"))])\n",
    "\n",
    "Xtr_gltmc, ytr_gltmc = df_Xy(sctr_gltmc, SEASON_LTLF)\n",
    "Xvl_gltmc, yvl_gltmc = df_Xy(scvl_gltmc, SEASON_LTLF)\n",
    "Xts_gltmc, yts_gltmc = df_Xy(scts_gltmc, SEASON_LTLF)"
   ]
  },
  {
   "cell_type": "code",
   "execution_count": 217,
   "metadata": {},
   "outputs": [
    {
     "data": {
      "text/html": [
       "<pre style=\"white-space:pre;overflow-x:auto;line-height:normal;font-family:Menlo,'DejaVu Sans Mono',consolas,'Courier New',monospace\"><span style=\"font-weight: bold\">Model: \"sequential_176\"</span>\n",
       "</pre>\n"
      ],
      "text/plain": [
       "\u001b[1mModel: \"sequential_176\"\u001b[0m\n"
      ]
     },
     "metadata": {},
     "output_type": "display_data"
    },
    {
     "data": {
      "text/html": [
       "<pre style=\"white-space:pre;overflow-x:auto;line-height:normal;font-family:Menlo,'DejaVu Sans Mono',consolas,'Courier New',monospace\">┏━━━━━━━━━━━━━━━━━━━━━━━━━━━━━━━━━┳━━━━━━━━━━━━━━━━━━━━━━━━┳━━━━━━━━━━━━━━━┓\n",
       "┃<span style=\"font-weight: bold\"> Layer (type)                    </span>┃<span style=\"font-weight: bold\"> Output Shape           </span>┃<span style=\"font-weight: bold\">       Param # </span>┃\n",
       "┡━━━━━━━━━━━━━━━━━━━━━━━━━━━━━━━━━╇━━━━━━━━━━━━━━━━━━━━━━━━╇━━━━━━━━━━━━━━━┩\n",
       "│ gru_142 (<span style=\"color: #0087ff; text-decoration-color: #0087ff\">GRU</span>)                   │ (<span style=\"color: #00d7ff; text-decoration-color: #00d7ff\">None</span>, <span style=\"color: #00af00; text-decoration-color: #00af00\">11</span>, <span style=\"color: #00af00; text-decoration-color: #00af00\">512</span>)        │       <span style=\"color: #00af00; text-decoration-color: #00af00\">795,648</span> │\n",
       "├─────────────────────────────────┼────────────────────────┼───────────────┤\n",
       "│ gru_143 (<span style=\"color: #0087ff; text-decoration-color: #0087ff\">GRU</span>)                   │ (<span style=\"color: #00d7ff; text-decoration-color: #00d7ff\">None</span>, <span style=\"color: #00af00; text-decoration-color: #00af00\">256</span>)            │       <span style=\"color: #00af00; text-decoration-color: #00af00\">591,360</span> │\n",
       "├─────────────────────────────────┼────────────────────────┼───────────────┤\n",
       "│ dense_352 (<span style=\"color: #0087ff; text-decoration-color: #0087ff\">Dense</span>)               │ (<span style=\"color: #00d7ff; text-decoration-color: #00d7ff\">None</span>, <span style=\"color: #00af00; text-decoration-color: #00af00\">32</span>)             │         <span style=\"color: #00af00; text-decoration-color: #00af00\">8,224</span> │\n",
       "├─────────────────────────────────┼────────────────────────┼───────────────┤\n",
       "│ dense_353 (<span style=\"color: #0087ff; text-decoration-color: #0087ff\">Dense</span>)               │ (<span style=\"color: #00d7ff; text-decoration-color: #00d7ff\">None</span>, <span style=\"color: #00af00; text-decoration-color: #00af00\">4</span>)              │           <span style=\"color: #00af00; text-decoration-color: #00af00\">132</span> │\n",
       "└─────────────────────────────────┴────────────────────────┴───────────────┘\n",
       "</pre>\n"
      ],
      "text/plain": [
       "┏━━━━━━━━━━━━━━━━━━━━━━━━━━━━━━━━━┳━━━━━━━━━━━━━━━━━━━━━━━━┳━━━━━━━━━━━━━━━┓\n",
       "┃\u001b[1m \u001b[0m\u001b[1mLayer (type)                   \u001b[0m\u001b[1m \u001b[0m┃\u001b[1m \u001b[0m\u001b[1mOutput Shape          \u001b[0m\u001b[1m \u001b[0m┃\u001b[1m \u001b[0m\u001b[1m      Param #\u001b[0m\u001b[1m \u001b[0m┃\n",
       "┡━━━━━━━━━━━━━━━━━━━━━━━━━━━━━━━━━╇━━━━━━━━━━━━━━━━━━━━━━━━╇━━━━━━━━━━━━━━━┩\n",
       "│ gru_142 (\u001b[38;5;33mGRU\u001b[0m)                   │ (\u001b[38;5;45mNone\u001b[0m, \u001b[38;5;34m11\u001b[0m, \u001b[38;5;34m512\u001b[0m)        │       \u001b[38;5;34m795,648\u001b[0m │\n",
       "├─────────────────────────────────┼────────────────────────┼───────────────┤\n",
       "│ gru_143 (\u001b[38;5;33mGRU\u001b[0m)                   │ (\u001b[38;5;45mNone\u001b[0m, \u001b[38;5;34m256\u001b[0m)            │       \u001b[38;5;34m591,360\u001b[0m │\n",
       "├─────────────────────────────────┼────────────────────────┼───────────────┤\n",
       "│ dense_352 (\u001b[38;5;33mDense\u001b[0m)               │ (\u001b[38;5;45mNone\u001b[0m, \u001b[38;5;34m32\u001b[0m)             │         \u001b[38;5;34m8,224\u001b[0m │\n",
       "├─────────────────────────────────┼────────────────────────┼───────────────┤\n",
       "│ dense_353 (\u001b[38;5;33mDense\u001b[0m)               │ (\u001b[38;5;45mNone\u001b[0m, \u001b[38;5;34m4\u001b[0m)              │           \u001b[38;5;34m132\u001b[0m │\n",
       "└─────────────────────────────────┴────────────────────────┴───────────────┘\n"
      ]
     },
     "metadata": {},
     "output_type": "display_data"
    },
    {
     "data": {
      "text/html": [
       "<pre style=\"white-space:pre;overflow-x:auto;line-height:normal;font-family:Menlo,'DejaVu Sans Mono',consolas,'Courier New',monospace\"><span style=\"font-weight: bold\"> Total params: </span><span style=\"color: #00af00; text-decoration-color: #00af00\">1,395,364</span> (5.32 MB)\n",
       "</pre>\n"
      ],
      "text/plain": [
       "\u001b[1m Total params: \u001b[0m\u001b[38;5;34m1,395,364\u001b[0m (5.32 MB)\n"
      ]
     },
     "metadata": {},
     "output_type": "display_data"
    },
    {
     "data": {
      "text/html": [
       "<pre style=\"white-space:pre;overflow-x:auto;line-height:normal;font-family:Menlo,'DejaVu Sans Mono',consolas,'Courier New',monospace\"><span style=\"font-weight: bold\"> Trainable params: </span><span style=\"color: #00af00; text-decoration-color: #00af00\">1,395,364</span> (5.32 MB)\n",
       "</pre>\n"
      ],
      "text/plain": [
       "\u001b[1m Trainable params: \u001b[0m\u001b[38;5;34m1,395,364\u001b[0m (5.32 MB)\n"
      ]
     },
     "metadata": {},
     "output_type": "display_data"
    },
    {
     "data": {
      "text/html": [
       "<pre style=\"white-space:pre;overflow-x:auto;line-height:normal;font-family:Menlo,'DejaVu Sans Mono',consolas,'Courier New',monospace\"><span style=\"font-weight: bold\"> Non-trainable params: </span><span style=\"color: #00af00; text-decoration-color: #00af00\">0</span> (0.00 B)\n",
       "</pre>\n"
      ],
      "text/plain": [
       "\u001b[1m Non-trainable params: \u001b[0m\u001b[38;5;34m0\u001b[0m (0.00 B)\n"
      ]
     },
     "metadata": {},
     "output_type": "display_data"
    }
   ],
   "source": [
    "gltmc_model = Sequential()\n",
    "gltmc_model.add(InputLayer((SEASON_LTLF, 4)))\n",
    "gltmc_model.add(GRU(512, return_sequences=True))\n",
    "gltmc_model.add(GRU(256))\n",
    "gltmc_model.add(Dense(32, 'relu'))\n",
    "gltmc_model.add(Dense(4, 'linear'))\n",
    "\n",
    "gltmc_model.summary()"
   ]
  },
  {
   "cell_type": "code",
   "execution_count": 218,
   "metadata": {},
   "outputs": [
    {
     "name": "stdout",
     "output_type": "stream",
     "text": [
      "Epoch 1/50\n",
      "\u001b[1m2/2\u001b[0m \u001b[32m━━━━━━━━━━━━━━━━━━━━\u001b[0m\u001b[37m\u001b[0m \u001b[1m7s\u001b[0m 385ms/step - loss: 0.2305 - root_mean_squared_error: 0.4798 - val_loss: 0.1495 - val_root_mean_squared_error: 0.3866\n",
      "Epoch 2/50\n",
      "\u001b[1m2/2\u001b[0m \u001b[32m━━━━━━━━━━━━━━━━━━━━\u001b[0m\u001b[37m\u001b[0m \u001b[1m0s\u001b[0m 127ms/step - loss: 0.0975 - root_mean_squared_error: 0.3120 - val_loss: 0.0906 - val_root_mean_squared_error: 0.3011\n",
      "Epoch 3/50\n",
      "\u001b[1m2/2\u001b[0m \u001b[32m━━━━━━━━━━━━━━━━━━━━\u001b[0m\u001b[37m\u001b[0m \u001b[1m0s\u001b[0m 136ms/step - loss: 0.0595 - root_mean_squared_error: 0.2439 - val_loss: 0.0637 - val_root_mean_squared_error: 0.2525\n",
      "Epoch 4/50\n",
      "\u001b[1m2/2\u001b[0m \u001b[32m━━━━━━━━━━━━━━━━━━━━\u001b[0m\u001b[37m\u001b[0m \u001b[1m0s\u001b[0m 135ms/step - loss: 0.0457 - root_mean_squared_error: 0.2138 - val_loss: 0.0626 - val_root_mean_squared_error: 0.2502\n",
      "Epoch 5/50\n",
      "\u001b[1m2/2\u001b[0m \u001b[32m━━━━━━━━━━━━━━━━━━━━\u001b[0m\u001b[37m\u001b[0m \u001b[1m0s\u001b[0m 127ms/step - loss: 0.0394 - root_mean_squared_error: 0.1981 - val_loss: 0.0359 - val_root_mean_squared_error: 0.1894\n",
      "Epoch 6/50\n",
      "\u001b[1m2/2\u001b[0m \u001b[32m━━━━━━━━━━━━━━━━━━━━\u001b[0m\u001b[37m\u001b[0m \u001b[1m0s\u001b[0m 62ms/step - loss: 0.0236 - root_mean_squared_error: 0.1533 - val_loss: 0.0424 - val_root_mean_squared_error: 0.2059\n",
      "Epoch 7/50\n",
      "\u001b[1m2/2\u001b[0m \u001b[32m━━━━━━━━━━━━━━━━━━━━\u001b[0m\u001b[37m\u001b[0m \u001b[1m0s\u001b[0m 125ms/step - loss: 0.0260 - root_mean_squared_error: 0.1608 - val_loss: 0.0353 - val_root_mean_squared_error: 0.1878\n",
      "Epoch 8/50\n",
      "\u001b[1m2/2\u001b[0m \u001b[32m━━━━━━━━━━━━━━━━━━━━\u001b[0m\u001b[37m\u001b[0m \u001b[1m0s\u001b[0m 123ms/step - loss: 0.0238 - root_mean_squared_error: 0.1542 - val_loss: 0.0318 - val_root_mean_squared_error: 0.1784\n",
      "Epoch 9/50\n",
      "\u001b[1m2/2\u001b[0m \u001b[32m━━━━━━━━━━━━━━━━━━━━\u001b[0m\u001b[37m\u001b[0m \u001b[1m0s\u001b[0m 63ms/step - loss: 0.0193 - root_mean_squared_error: 0.1388 - val_loss: 0.0337 - val_root_mean_squared_error: 0.1836\n",
      "Epoch 10/50\n",
      "\u001b[1m2/2\u001b[0m \u001b[32m━━━━━━━━━━━━━━━━━━━━\u001b[0m\u001b[37m\u001b[0m \u001b[1m0s\u001b[0m 124ms/step - loss: 0.0170 - root_mean_squared_error: 0.1302 - val_loss: 0.0272 - val_root_mean_squared_error: 0.1650\n",
      "Epoch 11/50\n",
      "\u001b[1m2/2\u001b[0m \u001b[32m━━━━━━━━━━━━━━━━━━━━\u001b[0m\u001b[37m\u001b[0m \u001b[1m0s\u001b[0m 126ms/step - loss: 0.0173 - root_mean_squared_error: 0.1317 - val_loss: 0.0261 - val_root_mean_squared_error: 0.1616\n",
      "Epoch 12/50\n",
      "\u001b[1m2/2\u001b[0m \u001b[32m━━━━━━━━━━━━━━━━━━━━\u001b[0m\u001b[37m\u001b[0m \u001b[1m0s\u001b[0m 75ms/step - loss: 0.0144 - root_mean_squared_error: 0.1200 - val_loss: 0.0268 - val_root_mean_squared_error: 0.1636\n",
      "Epoch 13/50\n",
      "\u001b[1m2/2\u001b[0m \u001b[32m━━━━━━━━━━━━━━━━━━━━\u001b[0m\u001b[37m\u001b[0m \u001b[1m0s\u001b[0m 128ms/step - loss: 0.0134 - root_mean_squared_error: 0.1158 - val_loss: 0.0258 - val_root_mean_squared_error: 0.1607\n",
      "Epoch 14/50\n",
      "\u001b[1m2/2\u001b[0m \u001b[32m━━━━━━━━━━━━━━━━━━━━\u001b[0m\u001b[37m\u001b[0m \u001b[1m0s\u001b[0m 65ms/step - loss: 0.0118 - root_mean_squared_error: 0.1086 - val_loss: 0.0273 - val_root_mean_squared_error: 0.1652\n",
      "Epoch 15/50\n",
      "\u001b[1m2/2\u001b[0m \u001b[32m━━━━━━━━━━━━━━━━━━━━\u001b[0m\u001b[37m\u001b[0m \u001b[1m0s\u001b[0m 145ms/step - loss: 0.0128 - root_mean_squared_error: 0.1133 - val_loss: 0.0252 - val_root_mean_squared_error: 0.1588\n",
      "Epoch 16/50\n",
      "\u001b[1m2/2\u001b[0m \u001b[32m━━━━━━━━━━━━━━━━━━━━\u001b[0m\u001b[37m\u001b[0m \u001b[1m0s\u001b[0m 136ms/step - loss: 0.0106 - root_mean_squared_error: 0.1024 - val_loss: 0.0229 - val_root_mean_squared_error: 0.1514\n",
      "Epoch 17/50\n",
      "\u001b[1m2/2\u001b[0m \u001b[32m━━━━━━━━━━━━━━━━━━━━\u001b[0m\u001b[37m\u001b[0m \u001b[1m0s\u001b[0m 126ms/step - loss: 0.0119 - root_mean_squared_error: 0.1089 - val_loss: 0.0225 - val_root_mean_squared_error: 0.1502\n",
      "Epoch 18/50\n",
      "\u001b[1m2/2\u001b[0m \u001b[32m━━━━━━━━━━━━━━━━━━━━\u001b[0m\u001b[37m\u001b[0m \u001b[1m0s\u001b[0m 69ms/step - loss: 0.0104 - root_mean_squared_error: 0.1022 - val_loss: 0.0234 - val_root_mean_squared_error: 0.1531\n",
      "Epoch 19/50\n",
      "\u001b[1m2/2\u001b[0m \u001b[32m━━━━━━━━━━━━━━━━━━━━\u001b[0m\u001b[37m\u001b[0m \u001b[1m0s\u001b[0m 60ms/step - loss: 0.0105 - root_mean_squared_error: 0.1026 - val_loss: 0.0242 - val_root_mean_squared_error: 0.1557\n",
      "Epoch 20/50\n",
      "\u001b[1m2/2\u001b[0m \u001b[32m━━━━━━━━━━━━━━━━━━━━\u001b[0m\u001b[37m\u001b[0m \u001b[1m0s\u001b[0m 62ms/step - loss: 0.0101 - root_mean_squared_error: 0.1003 - val_loss: 0.0244 - val_root_mean_squared_error: 0.1561\n",
      "Epoch 21/50\n",
      "\u001b[1m2/2\u001b[0m \u001b[32m━━━━━━━━━━━━━━━━━━━━\u001b[0m\u001b[37m\u001b[0m \u001b[1m0s\u001b[0m 62ms/step - loss: 0.0109 - root_mean_squared_error: 0.1045 - val_loss: 0.0244 - val_root_mean_squared_error: 0.1561\n",
      "Epoch 22/50\n",
      "\u001b[1m2/2\u001b[0m \u001b[32m━━━━━━━━━━━━━━━━━━━━\u001b[0m\u001b[37m\u001b[0m \u001b[1m0s\u001b[0m 61ms/step - loss: 0.0108 - root_mean_squared_error: 0.1037 - val_loss: 0.0251 - val_root_mean_squared_error: 0.1584\n",
      "Epoch 23/50\n",
      "\u001b[1m2/2\u001b[0m \u001b[32m━━━━━━━━━━━━━━━━━━━━\u001b[0m\u001b[37m\u001b[0m \u001b[1m0s\u001b[0m 60ms/step - loss: 0.0096 - root_mean_squared_error: 0.0978 - val_loss: 0.0236 - val_root_mean_squared_error: 0.1537\n",
      "Epoch 24/50\n",
      "\u001b[1m2/2\u001b[0m \u001b[32m━━━━━━━━━━━━━━━━━━━━\u001b[0m\u001b[37m\u001b[0m \u001b[1m0s\u001b[0m 131ms/step - loss: 0.0098 - root_mean_squared_error: 0.0988 - val_loss: 0.0225 - val_root_mean_squared_error: 0.1500\n",
      "Epoch 25/50\n",
      "\u001b[1m2/2\u001b[0m \u001b[32m━━━━━━━━━━━━━━━━━━━━\u001b[0m\u001b[37m\u001b[0m \u001b[1m0s\u001b[0m 65ms/step - loss: 0.0104 - root_mean_squared_error: 0.1020 - val_loss: 0.0229 - val_root_mean_squared_error: 0.1515\n",
      "Epoch 26/50\n",
      "\u001b[1m2/2\u001b[0m \u001b[32m━━━━━━━━━━━━━━━━━━━━\u001b[0m\u001b[37m\u001b[0m \u001b[1m0s\u001b[0m 63ms/step - loss: 0.0108 - root_mean_squared_error: 0.1038 - val_loss: 0.0225 - val_root_mean_squared_error: 0.1501\n",
      "Epoch 27/50\n",
      "\u001b[1m2/2\u001b[0m \u001b[32m━━━━━━━━━━━━━━━━━━━━\u001b[0m\u001b[37m\u001b[0m \u001b[1m0s\u001b[0m 60ms/step - loss: 0.0101 - root_mean_squared_error: 0.1006 - val_loss: 0.0228 - val_root_mean_squared_error: 0.1511\n",
      "Epoch 28/50\n",
      "\u001b[1m2/2\u001b[0m \u001b[32m━━━━━━━━━━━━━━━━━━━━\u001b[0m\u001b[37m\u001b[0m \u001b[1m0s\u001b[0m 61ms/step - loss: 0.0105 - root_mean_squared_error: 0.1024 - val_loss: 0.0233 - val_root_mean_squared_error: 0.1526\n",
      "Epoch 29/50\n",
      "\u001b[1m2/2\u001b[0m \u001b[32m━━━━━━━━━━━━━━━━━━━━\u001b[0m\u001b[37m\u001b[0m \u001b[1m0s\u001b[0m 60ms/step - loss: 0.0104 - root_mean_squared_error: 0.1018 - val_loss: 0.0228 - val_root_mean_squared_error: 0.1510\n",
      "Epoch 30/50\n",
      "\u001b[1m2/2\u001b[0m \u001b[32m━━━━━━━━━━━━━━━━━━━━\u001b[0m\u001b[37m\u001b[0m \u001b[1m0s\u001b[0m 58ms/step - loss: 0.0098 - root_mean_squared_error: 0.0990 - val_loss: 0.0225 - val_root_mean_squared_error: 0.1501\n",
      "Epoch 31/50\n",
      "\u001b[1m2/2\u001b[0m \u001b[32m━━━━━━━━━━━━━━━━━━━━\u001b[0m\u001b[37m\u001b[0m \u001b[1m0s\u001b[0m 124ms/step - loss: 0.0102 - root_mean_squared_error: 0.1008 - val_loss: 0.0224 - val_root_mean_squared_error: 0.1496\n",
      "Epoch 32/50\n",
      "\u001b[1m2/2\u001b[0m \u001b[32m━━━━━━━━━━━━━━━━━━━━\u001b[0m\u001b[37m\u001b[0m \u001b[1m0s\u001b[0m 65ms/step - loss: 0.0095 - root_mean_squared_error: 0.0972 - val_loss: 0.0227 - val_root_mean_squared_error: 0.1505\n",
      "Epoch 33/50\n",
      "\u001b[1m2/2\u001b[0m \u001b[32m━━━━━━━━━━━━━━━━━━━━\u001b[0m\u001b[37m\u001b[0m \u001b[1m0s\u001b[0m 60ms/step - loss: 0.0095 - root_mean_squared_error: 0.0974 - val_loss: 0.0230 - val_root_mean_squared_error: 0.1515\n",
      "Epoch 34/50\n",
      "\u001b[1m2/2\u001b[0m \u001b[32m━━━━━━━━━━━━━━━━━━━━\u001b[0m\u001b[37m\u001b[0m \u001b[1m0s\u001b[0m 60ms/step - loss: 0.0092 - root_mean_squared_error: 0.0958 - val_loss: 0.0225 - val_root_mean_squared_error: 0.1501\n",
      "Epoch 35/50\n",
      "\u001b[1m2/2\u001b[0m \u001b[32m━━━━━━━━━━━━━━━━━━━━\u001b[0m\u001b[37m\u001b[0m \u001b[1m0s\u001b[0m 64ms/step - loss: 0.0096 - root_mean_squared_error: 0.0981 - val_loss: 0.0225 - val_root_mean_squared_error: 0.1499\n",
      "Epoch 36/50\n",
      "\u001b[1m2/2\u001b[0m \u001b[32m━━━━━━━━━━━━━━━━━━━━\u001b[0m\u001b[37m\u001b[0m \u001b[1m0s\u001b[0m 63ms/step - loss: 0.0094 - root_mean_squared_error: 0.0968 - val_loss: 0.0226 - val_root_mean_squared_error: 0.1503\n",
      "Epoch 37/50\n",
      "\u001b[1m2/2\u001b[0m \u001b[32m━━━━━━━━━━━━━━━━━━━━\u001b[0m\u001b[37m\u001b[0m \u001b[1m0s\u001b[0m 62ms/step - loss: 0.0094 - root_mean_squared_error: 0.0969 - val_loss: 0.0228 - val_root_mean_squared_error: 0.1510\n",
      "Epoch 38/50\n",
      "\u001b[1m2/2\u001b[0m \u001b[32m━━━━━━━━━━━━━━━━━━━━\u001b[0m\u001b[37m\u001b[0m \u001b[1m0s\u001b[0m 61ms/step - loss: 0.0089 - root_mean_squared_error: 0.0943 - val_loss: 0.0225 - val_root_mean_squared_error: 0.1501\n",
      "Epoch 39/50\n",
      "\u001b[1m2/2\u001b[0m \u001b[32m━━━━━━━━━━━━━━━━━━━━\u001b[0m\u001b[37m\u001b[0m \u001b[1m0s\u001b[0m 62ms/step - loss: 0.0089 - root_mean_squared_error: 0.0941 - val_loss: 0.0224 - val_root_mean_squared_error: 0.1497\n",
      "Epoch 40/50\n",
      "\u001b[1m2/2\u001b[0m \u001b[32m━━━━━━━━━━━━━━━━━━━━\u001b[0m\u001b[37m\u001b[0m \u001b[1m0s\u001b[0m 128ms/step - loss: 0.0093 - root_mean_squared_error: 0.0963 - val_loss: 0.0223 - val_root_mean_squared_error: 0.1492\n",
      "Epoch 41/50\n",
      "\u001b[1m2/2\u001b[0m \u001b[32m━━━━━━━━━━━━━━━━━━━━\u001b[0m\u001b[37m\u001b[0m \u001b[1m0s\u001b[0m 124ms/step - loss: 0.0091 - root_mean_squared_error: 0.0952 - val_loss: 0.0220 - val_root_mean_squared_error: 0.1482\n",
      "Epoch 42/50\n",
      "\u001b[1m2/2\u001b[0m \u001b[32m━━━━━━━━━━━━━━━━━━━━\u001b[0m\u001b[37m\u001b[0m \u001b[1m0s\u001b[0m 61ms/step - loss: 0.0105 - root_mean_squared_error: 0.1020 - val_loss: 0.0225 - val_root_mean_squared_error: 0.1499\n",
      "Epoch 43/50\n",
      "\u001b[1m2/2\u001b[0m \u001b[32m━━━━━━━━━━━━━━━━━━━━\u001b[0m\u001b[37m\u001b[0m \u001b[1m0s\u001b[0m 60ms/step - loss: 0.0085 - root_mean_squared_error: 0.0923 - val_loss: 0.0223 - val_root_mean_squared_error: 0.1493\n",
      "Epoch 44/50\n",
      "\u001b[1m2/2\u001b[0m \u001b[32m━━━━━━━━━━━━━━━━━━━━\u001b[0m\u001b[37m\u001b[0m \u001b[1m0s\u001b[0m 62ms/step - loss: 0.0093 - root_mean_squared_error: 0.0962 - val_loss: 0.0221 - val_root_mean_squared_error: 0.1486\n",
      "Epoch 45/50\n",
      "\u001b[1m2/2\u001b[0m \u001b[32m━━━━━━━━━━━━━━━━━━━━\u001b[0m\u001b[37m\u001b[0m \u001b[1m0s\u001b[0m 61ms/step - loss: 0.0085 - root_mean_squared_error: 0.0920 - val_loss: 0.0224 - val_root_mean_squared_error: 0.1496\n",
      "Epoch 46/50\n",
      "\u001b[1m2/2\u001b[0m \u001b[32m━━━━━━━━━━━━━━━━━━━━\u001b[0m\u001b[37m\u001b[0m \u001b[1m0s\u001b[0m 59ms/step - loss: 0.0095 - root_mean_squared_error: 0.0974 - val_loss: 0.0228 - val_root_mean_squared_error: 0.1509\n",
      "Epoch 47/50\n",
      "\u001b[1m2/2\u001b[0m \u001b[32m━━━━━━━━━━━━━━━━━━━━\u001b[0m\u001b[37m\u001b[0m \u001b[1m0s\u001b[0m 59ms/step - loss: 0.0096 - root_mean_squared_error: 0.0977 - val_loss: 0.0230 - val_root_mean_squared_error: 0.1515\n",
      "Epoch 48/50\n",
      "\u001b[1m2/2\u001b[0m \u001b[32m━━━━━━━━━━━━━━━━━━━━\u001b[0m\u001b[37m\u001b[0m \u001b[1m0s\u001b[0m 68ms/step - loss: 0.0090 - root_mean_squared_error: 0.0948 - val_loss: 0.0224 - val_root_mean_squared_error: 0.1498\n",
      "Epoch 49/50\n",
      "\u001b[1m2/2\u001b[0m \u001b[32m━━━━━━━━━━━━━━━━━━━━\u001b[0m\u001b[37m\u001b[0m \u001b[1m0s\u001b[0m 58ms/step - loss: 0.0092 - root_mean_squared_error: 0.0957 - val_loss: 0.0224 - val_root_mean_squared_error: 0.1495\n",
      "Epoch 50/50\n",
      "\u001b[1m2/2\u001b[0m \u001b[32m━━━━━━━━━━━━━━━━━━━━\u001b[0m\u001b[37m\u001b[0m \u001b[1m0s\u001b[0m 72ms/step - loss: 0.0090 - root_mean_squared_error: 0.0950 - val_loss: 0.0228 - val_root_mean_squared_error: 0.1509\n"
     ]
    },
    {
     "data": {
      "text/plain": [
       "<keras.src.callbacks.history.History at 0x1a20de61d10>"
      ]
     },
     "execution_count": 218,
     "metadata": {},
     "output_type": "execute_result"
    }
   ],
   "source": [
    "cp = ModelCheckpoint('models/gltmc_model.keras', save_best_only=True)\n",
    "gltmc_model.compile(loss=MeanSquaredError(), optimizer=Adam(learning_rate=0.001), metrics=[RootMeanSquaredError()])\n",
    "\n",
    "gltmc_model.fit(Xtr_gltmc, ytr_gltmc, validation_data=(Xvl_gltmc, yvl_gltmc), epochs=50, callbacks=[cp])"
   ]
  },
  {
   "cell_type": "code",
   "execution_count": 219,
   "metadata": {},
   "outputs": [
    {
     "name": "stdout",
     "output_type": "stream",
     "text": [
      "\u001b[1m2/2\u001b[0m \u001b[32m━━━━━━━━━━━━━━━━━━━━\u001b[0m\u001b[37m\u001b[0m \u001b[1m0s\u001b[0m 208ms/step\n"
     ]
    }
   ],
   "source": [
    "gltmc_model = load_model('models/gltmc_model.keras')\n",
    "\n",
    "pred_gltmc = gltmc_model.predict(Xts_gltmc)\n",
    "pred_gltmc = scaler_gltmc.inverse_transform(pred_gltmc)[:,0]\n",
    "\n",
    "yts_gltmc = scaler_gltmc.inverse_transform(yts_gltmc)[:,0]"
   ]
  },
  {
   "cell_type": "code",
   "execution_count": 220,
   "metadata": {},
   "outputs": [
    {
     "data": {
      "image/png": "[encoded data removed]",
      "text/plain": [
       "<Figure size 600x500 with 1 Axes>"
      ]
     },
     "metadata": {},
     "output_type": "display_data"
    },
    {
     "name": "stdout",
     "output_type": "stream",
     "text": [
      "MAPE: 6.755%\n"
     ]
    }
   ],
   "source": [
    "plot_fcast_ml(ltmc, \"2017-12-01\", \"2020-12-01\", \"2024-05-01\", pred_gltmc, True)\n",
    "\n",
    "print(f\"MAPE: {mean_absolute_percentage_error(yts_gltmc, pred_gltmc)*100:.3f}%\")"
   ]
  },
  {
   "cell_type": "markdown",
   "metadata": {},
   "source": [
    "### STLF"
   ]
  },
  {
   "cell_type": "code",
   "execution_count": 221,
   "metadata": {},
   "outputs": [],
   "source": [
    "scaler_gstoc = MinMaxScaler(feature_range=(0, 1))\n",
    "\n",
    "sctr_gstoc = scaler_gstoc.fit_transform(agg_stoc[agg_stoc.index < pd.to_datetime(\"2022-05-01\")])\n",
    "scvl_gstoc = scaler_gstoc.fit_transform(agg_stoc[(agg_stoc.index >= pd.to_datetime(\"2022-05-01\")) & (agg_stoc.index < pd.to_datetime(\"2022-07-15\"))])\n",
    "scts_gstoc = scaler_gstoc.fit_transform(agg_stoc[agg_stoc.index >= pd.to_datetime(\"2022-07-15\")])\n",
    "\n",
    "Xtr_gstoc, ytr_gstoc = df_Xy(sctr_gstoc, SEASON_STLF)\n",
    "Xvl_gstoc, yvl_gstoc = df_Xy(scvl_gstoc, SEASON_STLF)\n",
    "Xts_gstoc, yts_gstoc = df_Xy(scts_gstoc, SEASON_STLF)"
   ]
  },
  {
   "cell_type": "code",
   "execution_count": 222,
   "metadata": {},
   "outputs": [
    {
     "data": {
      "text/html": [
       "<pre style=\"white-space:pre;overflow-x:auto;line-height:normal;font-family:Menlo,'DejaVu Sans Mono',consolas,'Courier New',monospace\"><span style=\"font-weight: bold\">Model: \"sequential_177\"</span>\n",
       "</pre>\n"
      ],
      "text/plain": [
       "\u001b[1mModel: \"sequential_177\"\u001b[0m\n"
      ]
     },
     "metadata": {},
     "output_type": "display_data"
    },
    {
     "data": {
      "text/html": [
       "<pre style=\"white-space:pre;overflow-x:auto;line-height:normal;font-family:Menlo,'DejaVu Sans Mono',consolas,'Courier New',monospace\">┏━━━━━━━━━━━━━━━━━━━━━━━━━━━━━━━━━┳━━━━━━━━━━━━━━━━━━━━━━━━┳━━━━━━━━━━━━━━━┓\n",
       "┃<span style=\"font-weight: bold\"> Layer (type)                    </span>┃<span style=\"font-weight: bold\"> Output Shape           </span>┃<span style=\"font-weight: bold\">       Param # </span>┃\n",
       "┡━━━━━━━━━━━━━━━━━━━━━━━━━━━━━━━━━╇━━━━━━━━━━━━━━━━━━━━━━━━╇━━━━━━━━━━━━━━━┩\n",
       "│ gru_144 (<span style=\"color: #0087ff; text-decoration-color: #0087ff\">GRU</span>)                   │ (<span style=\"color: #00d7ff; text-decoration-color: #00d7ff\">None</span>, <span style=\"color: #00af00; text-decoration-color: #00af00\">6</span>, <span style=\"color: #00af00; text-decoration-color: #00af00\">256</span>)         │       <span style=\"color: #00af00; text-decoration-color: #00af00\">198,912</span> │\n",
       "├─────────────────────────────────┼────────────────────────┼───────────────┤\n",
       "│ gru_145 (<span style=\"color: #0087ff; text-decoration-color: #0087ff\">GRU</span>)                   │ (<span style=\"color: #00d7ff; text-decoration-color: #00d7ff\">None</span>, <span style=\"color: #00af00; text-decoration-color: #00af00\">256</span>)            │       <span style=\"color: #00af00; text-decoration-color: #00af00\">394,752</span> │\n",
       "├─────────────────────────────────┼────────────────────────┼───────────────┤\n",
       "│ dense_354 (<span style=\"color: #0087ff; text-decoration-color: #0087ff\">Dense</span>)               │ (<span style=\"color: #00d7ff; text-decoration-color: #00d7ff\">None</span>, <span style=\"color: #00af00; text-decoration-color: #00af00\">8</span>)              │         <span style=\"color: #00af00; text-decoration-color: #00af00\">2,056</span> │\n",
       "├─────────────────────────────────┼────────────────────────┼───────────────┤\n",
       "│ dense_355 (<span style=\"color: #0087ff; text-decoration-color: #0087ff\">Dense</span>)               │ (<span style=\"color: #00d7ff; text-decoration-color: #00d7ff\">None</span>, <span style=\"color: #00af00; text-decoration-color: #00af00\">1</span>)              │             <span style=\"color: #00af00; text-decoration-color: #00af00\">9</span> │\n",
       "└─────────────────────────────────┴────────────────────────┴───────────────┘\n",
       "</pre>\n"
      ],
      "text/plain": [
       "┏━━━━━━━━━━━━━━━━━━━━━━━━━━━━━━━━━┳━━━━━━━━━━━━━━━━━━━━━━━━┳━━━━━━━━━━━━━━━┓\n",
       "┃\u001b[1m \u001b[0m\u001b[1mLayer (type)                   \u001b[0m\u001b[1m \u001b[0m┃\u001b[1m \u001b[0m\u001b[1mOutput Shape          \u001b[0m\u001b[1m \u001b[0m┃\u001b[1m \u001b[0m\u001b[1m      Param #\u001b[0m\u001b[1m \u001b[0m┃\n",
       "┡━━━━━━━━━━━━━━━━━━━━━━━━━━━━━━━━━╇━━━━━━━━━━━━━━━━━━━━━━━━╇━━━━━━━━━━━━━━━┩\n",
       "│ gru_144 (\u001b[38;5;33mGRU\u001b[0m)                   │ (\u001b[38;5;45mNone\u001b[0m, \u001b[38;5;34m6\u001b[0m, \u001b[38;5;34m256\u001b[0m)         │       \u001b[38;5;34m198,912\u001b[0m │\n",
       "├─────────────────────────────────┼────────────────────────┼───────────────┤\n",
       "│ gru_145 (\u001b[38;5;33mGRU\u001b[0m)                   │ (\u001b[38;5;45mNone\u001b[0m, \u001b[38;5;34m256\u001b[0m)            │       \u001b[38;5;34m394,752\u001b[0m │\n",
       "├─────────────────────────────────┼────────────────────────┼───────────────┤\n",
       "│ dense_354 (\u001b[38;5;33mDense\u001b[0m)               │ (\u001b[38;5;45mNone\u001b[0m, \u001b[38;5;34m8\u001b[0m)              │         \u001b[38;5;34m2,056\u001b[0m │\n",
       "├─────────────────────────────────┼────────────────────────┼───────────────┤\n",
       "│ dense_355 (\u001b[38;5;33mDense\u001b[0m)               │ (\u001b[38;5;45mNone\u001b[0m, \u001b[38;5;34m1\u001b[0m)              │             \u001b[38;5;34m9\u001b[0m │\n",
       "└─────────────────────────────────┴────────────────────────┴───────────────┘\n"
      ]
     },
     "metadata": {},
     "output_type": "display_data"
    },
    {
     "data": {
      "text/html": [
       "<pre style=\"white-space:pre;overflow-x:auto;line-height:normal;font-family:Menlo,'DejaVu Sans Mono',consolas,'Courier New',monospace\"><span style=\"font-weight: bold\"> Total params: </span><span style=\"color: #00af00; text-decoration-color: #00af00\">595,729</span> (2.27 MB)\n",
       "</pre>\n"
      ],
      "text/plain": [
       "\u001b[1m Total params: \u001b[0m\u001b[38;5;34m595,729\u001b[0m (2.27 MB)\n"
      ]
     },
     "metadata": {},
     "output_type": "display_data"
    },
    {
     "data": {
      "text/html": [
       "<pre style=\"white-space:pre;overflow-x:auto;line-height:normal;font-family:Menlo,'DejaVu Sans Mono',consolas,'Courier New',monospace\"><span style=\"font-weight: bold\"> Trainable params: </span><span style=\"color: #00af00; text-decoration-color: #00af00\">595,729</span> (2.27 MB)\n",
       "</pre>\n"
      ],
      "text/plain": [
       "\u001b[1m Trainable params: \u001b[0m\u001b[38;5;34m595,729\u001b[0m (2.27 MB)\n"
      ]
     },
     "metadata": {},
     "output_type": "display_data"
    },
    {
     "data": {
      "text/html": [
       "<pre style=\"white-space:pre;overflow-x:auto;line-height:normal;font-family:Menlo,'DejaVu Sans Mono',consolas,'Courier New',monospace\"><span style=\"font-weight: bold\"> Non-trainable params: </span><span style=\"color: #00af00; text-decoration-color: #00af00\">0</span> (0.00 B)\n",
       "</pre>\n"
      ],
      "text/plain": [
       "\u001b[1m Non-trainable params: \u001b[0m\u001b[38;5;34m0\u001b[0m (0.00 B)\n"
      ]
     },
     "metadata": {},
     "output_type": "display_data"
    }
   ],
   "source": [
    "gstoc_model = Sequential()\n",
    "gstoc_model.add(InputLayer((SEASON_STLF, 1)))\n",
    "gstoc_model.add(GRU(256, return_sequences=True))\n",
    "gstoc_model.add(GRU(256))\n",
    "gstoc_model.add(Dense(8, 'relu'))\n",
    "gstoc_model.add(Dense(1, 'linear'))\n",
    "\n",
    "gstoc_model.summary()"
   ]
  },
  {
   "cell_type": "code",
   "execution_count": 223,
   "metadata": {},
   "outputs": [
    {
     "name": "stdout",
     "output_type": "stream",
     "text": [
      "Epoch 1/50\n",
      "\u001b[1m4/4\u001b[0m \u001b[32m━━━━━━━━━━━━━━━━━━━━\u001b[0m\u001b[37m\u001b[0m \u001b[1m3s\u001b[0m 125ms/step - loss: 1.4777 - root_mean_squared_error: 1.1720 - val_loss: 0.1238 - val_root_mean_squared_error: 0.3519\n",
      "Epoch 2/50\n",
      "\u001b[1m4/4\u001b[0m \u001b[32m━━━━━━━━━━━━━━━━━━━━\u001b[0m\u001b[37m\u001b[0m \u001b[1m0s\u001b[0m 23ms/step - loss: 0.1000 - root_mean_squared_error: 0.3155 - val_loss: 0.1922 - val_root_mean_squared_error: 0.4384\n",
      "Epoch 3/50\n",
      "\u001b[1m4/4\u001b[0m \u001b[32m━━━━━━━━━━━━━━━━━━━━\u001b[0m\u001b[37m\u001b[0m \u001b[1m0s\u001b[0m 38ms/step - loss: 0.1114 - root_mean_squared_error: 0.3332 - val_loss: 0.1077 - val_root_mean_squared_error: 0.3283\n",
      "Epoch 4/50\n",
      "\u001b[1m4/4\u001b[0m \u001b[32m━━━━━━━━━━━━━━━━━━━━\u001b[0m\u001b[37m\u001b[0m \u001b[1m0s\u001b[0m 35ms/step - loss: 0.0651 - root_mean_squared_error: 0.2548 - val_loss: 0.0547 - val_root_mean_squared_error: 0.2339\n",
      "Epoch 5/50\n",
      "\u001b[1m4/4\u001b[0m \u001b[32m━━━━━━━━━━━━━━━━━━━━\u001b[0m\u001b[37m\u001b[0m \u001b[1m0s\u001b[0m 34ms/step - loss: 0.0400 - root_mean_squared_error: 0.2000 - val_loss: 0.0506 - val_root_mean_squared_error: 0.2249\n",
      "Epoch 6/50\n",
      "\u001b[1m4/4\u001b[0m \u001b[32m━━━━━━━━━━━━━━━━━━━━\u001b[0m\u001b[37m\u001b[0m \u001b[1m0s\u001b[0m 24ms/step - loss: 0.0294 - root_mean_squared_error: 0.1713 - val_loss: 0.0542 - val_root_mean_squared_error: 0.2328\n",
      "Epoch 7/50\n",
      "\u001b[1m4/4\u001b[0m \u001b[32m━━━━━━━━━━━━━━━━━━━━\u001b[0m\u001b[37m\u001b[0m \u001b[1m0s\u001b[0m 35ms/step - loss: 0.0311 - root_mean_squared_error: 0.1764 - val_loss: 0.0449 - val_root_mean_squared_error: 0.2120\n",
      "Epoch 8/50\n",
      "\u001b[1m4/4\u001b[0m \u001b[32m━━━━━━━━━━━━━━━━━━━━\u001b[0m\u001b[37m\u001b[0m \u001b[1m0s\u001b[0m 21ms/step - loss: 0.0302 - root_mean_squared_error: 0.1737 - val_loss: 0.0609 - val_root_mean_squared_error: 0.2468\n",
      "Epoch 9/50\n",
      "\u001b[1m4/4\u001b[0m \u001b[32m━━━━━━━━━━━━━━━━━━━━\u001b[0m\u001b[37m\u001b[0m \u001b[1m0s\u001b[0m 34ms/step - loss: 0.0423 - root_mean_squared_error: 0.2050 - val_loss: 0.0449 - val_root_mean_squared_error: 0.2119\n",
      "Epoch 10/50\n",
      "\u001b[1m4/4\u001b[0m \u001b[32m━━━━━━━━━━━━━━━━━━━━\u001b[0m\u001b[37m\u001b[0m \u001b[1m0s\u001b[0m 22ms/step - loss: 0.0259 - root_mean_squared_error: 0.1609 - val_loss: 0.0527 - val_root_mean_squared_error: 0.2296\n",
      "Epoch 11/50\n",
      "\u001b[1m4/4\u001b[0m \u001b[32m━━━━━━━━━━━━━━━━━━━━\u001b[0m\u001b[37m\u001b[0m \u001b[1m0s\u001b[0m 22ms/step - loss: 0.0305 - root_mean_squared_error: 0.1745 - val_loss: 0.0452 - val_root_mean_squared_error: 0.2126\n",
      "Epoch 12/50\n",
      "\u001b[1m4/4\u001b[0m \u001b[32m━━━━━━━━━━━━━━━━━━━━\u001b[0m\u001b[37m\u001b[0m \u001b[1m0s\u001b[0m 22ms/step - loss: 0.0270 - root_mean_squared_error: 0.1641 - val_loss: 0.0517 - val_root_mean_squared_error: 0.2273\n",
      "Epoch 13/50\n",
      "\u001b[1m4/4\u001b[0m \u001b[32m━━━━━━━━━━━━━━━━━━━━\u001b[0m\u001b[37m\u001b[0m \u001b[1m0s\u001b[0m 23ms/step - loss: 0.0309 - root_mean_squared_error: 0.1756 - val_loss: 0.0595 - val_root_mean_squared_error: 0.2440\n",
      "Epoch 14/50\n",
      "\u001b[1m4/4\u001b[0m \u001b[32m━━━━━━━━━━━━━━━━━━━━\u001b[0m\u001b[37m\u001b[0m \u001b[1m0s\u001b[0m 35ms/step - loss: 0.0269 - root_mean_squared_error: 0.1637 - val_loss: 0.0443 - val_root_mean_squared_error: 0.2105\n",
      "Epoch 15/50\n",
      "\u001b[1m4/4\u001b[0m \u001b[32m━━━━━━━━━━━━━━━━━━━━\u001b[0m\u001b[37m\u001b[0m \u001b[1m0s\u001b[0m 35ms/step - loss: 0.0231 - root_mean_squared_error: 0.1519 - val_loss: 0.0408 - val_root_mean_squared_error: 0.2020\n",
      "Epoch 16/50\n",
      "\u001b[1m4/4\u001b[0m \u001b[32m━━━━━━━━━━━━━━━━━━━━\u001b[0m\u001b[37m\u001b[0m \u001b[1m0s\u001b[0m 34ms/step - loss: 0.0211 - root_mean_squared_error: 0.1454 - val_loss: 0.0396 - val_root_mean_squared_error: 0.1990\n",
      "Epoch 17/50\n",
      "\u001b[1m4/4\u001b[0m \u001b[32m━━━━━━━━━━━━━━━━━━━━\u001b[0m\u001b[37m\u001b[0m \u001b[1m0s\u001b[0m 36ms/step - loss: 0.0218 - root_mean_squared_error: 0.1475 - val_loss: 0.0375 - val_root_mean_squared_error: 0.1938\n",
      "Epoch 18/50\n",
      "\u001b[1m4/4\u001b[0m \u001b[32m━━━━━━━━━━━━━━━━━━━━\u001b[0m\u001b[37m\u001b[0m \u001b[1m0s\u001b[0m 34ms/step - loss: 0.0190 - root_mean_squared_error: 0.1378 - val_loss: 0.0361 - val_root_mean_squared_error: 0.1900\n",
      "Epoch 19/50\n",
      "\u001b[1m4/4\u001b[0m \u001b[32m━━━━━━━━━━━━━━━━━━━━\u001b[0m\u001b[37m\u001b[0m \u001b[1m0s\u001b[0m 34ms/step - loss: 0.0177 - root_mean_squared_error: 0.1332 - val_loss: 0.0343 - val_root_mean_squared_error: 0.1853\n",
      "Epoch 20/50\n",
      "\u001b[1m4/4\u001b[0m \u001b[32m━━━━━━━━━━━━━━━━━━━━\u001b[0m\u001b[37m\u001b[0m \u001b[1m0s\u001b[0m 34ms/step - loss: 0.0192 - root_mean_squared_error: 0.1384 - val_loss: 0.0328 - val_root_mean_squared_error: 0.1812\n",
      "Epoch 21/50\n",
      "\u001b[1m4/4\u001b[0m \u001b[32m━━━━━━━━━━━━━━━━━━━━\u001b[0m\u001b[37m\u001b[0m \u001b[1m0s\u001b[0m 34ms/step - loss: 0.0169 - root_mean_squared_error: 0.1301 - val_loss: 0.0324 - val_root_mean_squared_error: 0.1800\n",
      "Epoch 22/50\n",
      "\u001b[1m4/4\u001b[0m \u001b[32m━━━━━━━━━━━━━━━━━━━━\u001b[0m\u001b[37m\u001b[0m \u001b[1m0s\u001b[0m 34ms/step - loss: 0.0177 - root_mean_squared_error: 0.1329 - val_loss: 0.0316 - val_root_mean_squared_error: 0.1779\n",
      "Epoch 23/50\n",
      "\u001b[1m4/4\u001b[0m \u001b[32m━━━━━━━━━━━━━━━━━━━━\u001b[0m\u001b[37m\u001b[0m \u001b[1m0s\u001b[0m 34ms/step - loss: 0.0176 - root_mean_squared_error: 0.1327 - val_loss: 0.0301 - val_root_mean_squared_error: 0.1734\n",
      "Epoch 24/50\n",
      "\u001b[1m4/4\u001b[0m \u001b[32m━━━━━━━━━━━━━━━━━━━━\u001b[0m\u001b[37m\u001b[0m \u001b[1m0s\u001b[0m 35ms/step - loss: 0.0169 - root_mean_squared_error: 0.1298 - val_loss: 0.0289 - val_root_mean_squared_error: 0.1700\n",
      "Epoch 25/50\n",
      "\u001b[1m4/4\u001b[0m \u001b[32m━━━━━━━━━━━━━━━━━━━━\u001b[0m\u001b[37m\u001b[0m \u001b[1m0s\u001b[0m 35ms/step - loss: 0.0167 - root_mean_squared_error: 0.1290 - val_loss: 0.0275 - val_root_mean_squared_error: 0.1657\n",
      "Epoch 26/50\n",
      "\u001b[1m4/4\u001b[0m \u001b[32m━━━━━━━━━━━━━━━━━━━━\u001b[0m\u001b[37m\u001b[0m \u001b[1m0s\u001b[0m 21ms/step - loss: 0.0149 - root_mean_squared_error: 0.1218 - val_loss: 0.0281 - val_root_mean_squared_error: 0.1676\n",
      "Epoch 27/50\n",
      "\u001b[1m4/4\u001b[0m \u001b[32m━━━━━━━━━━━━━━━━━━━━\u001b[0m\u001b[37m\u001b[0m \u001b[1m0s\u001b[0m 35ms/step - loss: 0.0190 - root_mean_squared_error: 0.1375 - val_loss: 0.0259 - val_root_mean_squared_error: 0.1609\n",
      "Epoch 28/50\n",
      "\u001b[1m4/4\u001b[0m \u001b[32m━━━━━━━━━━━━━━━━━━━━\u001b[0m\u001b[37m\u001b[0m \u001b[1m0s\u001b[0m 35ms/step - loss: 0.0132 - root_mean_squared_error: 0.1147 - val_loss: 0.0251 - val_root_mean_squared_error: 0.1583\n",
      "Epoch 29/50\n",
      "\u001b[1m4/4\u001b[0m \u001b[32m━━━━━━━━━━━━━━━━━━━━\u001b[0m\u001b[37m\u001b[0m \u001b[1m0s\u001b[0m 22ms/step - loss: 0.0129 - root_mean_squared_error: 0.1133 - val_loss: 0.0292 - val_root_mean_squared_error: 0.1710\n",
      "Epoch 30/50\n",
      "\u001b[1m4/4\u001b[0m \u001b[32m━━━━━━━━━━━━━━━━━━━━\u001b[0m\u001b[37m\u001b[0m \u001b[1m0s\u001b[0m 35ms/step - loss: 0.0166 - root_mean_squared_error: 0.1286 - val_loss: 0.0247 - val_root_mean_squared_error: 0.1570\n",
      "Epoch 31/50\n",
      "\u001b[1m4/4\u001b[0m \u001b[32m━━━━━━━━━━━━━━━━━━━━\u001b[0m\u001b[37m\u001b[0m \u001b[1m0s\u001b[0m 35ms/step - loss: 0.0128 - root_mean_squared_error: 0.1130 - val_loss: 0.0236 - val_root_mean_squared_error: 0.1537\n",
      "Epoch 32/50\n",
      "\u001b[1m4/4\u001b[0m \u001b[32m━━━━━━━━━━━━━━━━━━━━\u001b[0m\u001b[37m\u001b[0m \u001b[1m0s\u001b[0m 35ms/step - loss: 0.0148 - root_mean_squared_error: 0.1217 - val_loss: 0.0224 - val_root_mean_squared_error: 0.1495\n",
      "Epoch 33/50\n",
      "\u001b[1m4/4\u001b[0m \u001b[32m━━━━━━━━━━━━━━━━━━━━\u001b[0m\u001b[37m\u001b[0m \u001b[1m0s\u001b[0m 35ms/step - loss: 0.0137 - root_mean_squared_error: 0.1169 - val_loss: 0.0217 - val_root_mean_squared_error: 0.1475\n",
      "Epoch 34/50\n",
      "\u001b[1m4/4\u001b[0m \u001b[32m━━━━━━━━━━━━━━━━━━━━\u001b[0m\u001b[37m\u001b[0m \u001b[1m0s\u001b[0m 23ms/step - loss: 0.0138 - root_mean_squared_error: 0.1174 - val_loss: 0.0243 - val_root_mean_squared_error: 0.1558\n",
      "Epoch 35/50\n",
      "\u001b[1m4/4\u001b[0m \u001b[32m━━━━━━━━━━━━━━━━━━━━\u001b[0m\u001b[37m\u001b[0m \u001b[1m0s\u001b[0m 22ms/step - loss: 0.0166 - root_mean_squared_error: 0.1289 - val_loss: 0.0252 - val_root_mean_squared_error: 0.1586\n",
      "Epoch 36/50\n",
      "\u001b[1m4/4\u001b[0m \u001b[32m━━━━━━━━━━━━━━━━━━━━\u001b[0m\u001b[37m\u001b[0m \u001b[1m0s\u001b[0m 21ms/step - loss: 0.0146 - root_mean_squared_error: 0.1209 - val_loss: 0.0297 - val_root_mean_squared_error: 0.1723\n",
      "Epoch 37/50\n",
      "\u001b[1m4/4\u001b[0m \u001b[32m━━━━━━━━━━━━━━━━━━━━\u001b[0m\u001b[37m\u001b[0m \u001b[1m0s\u001b[0m 22ms/step - loss: 0.0224 - root_mean_squared_error: 0.1489 - val_loss: 0.0264 - val_root_mean_squared_error: 0.1624\n",
      "Epoch 38/50\n",
      "\u001b[1m4/4\u001b[0m \u001b[32m━━━━━━━━━━━━━━━━━━━━\u001b[0m\u001b[37m\u001b[0m \u001b[1m0s\u001b[0m 33ms/step - loss: 0.0160 - root_mean_squared_error: 0.1267 - val_loss: 0.0217 - val_root_mean_squared_error: 0.1473\n",
      "Epoch 39/50\n",
      "\u001b[1m4/4\u001b[0m \u001b[32m━━━━━━━━━━━━━━━━━━━━\u001b[0m\u001b[37m\u001b[0m \u001b[1m0s\u001b[0m 38ms/step - loss: 0.0136 - root_mean_squared_error: 0.1164 - val_loss: 0.0211 - val_root_mean_squared_error: 0.1452\n",
      "Epoch 40/50\n",
      "\u001b[1m4/4\u001b[0m \u001b[32m━━━━━━━━━━━━━━━━━━━━\u001b[0m\u001b[37m\u001b[0m \u001b[1m0s\u001b[0m 23ms/step - loss: 0.0143 - root_mean_squared_error: 0.1195 - val_loss: 0.0277 - val_root_mean_squared_error: 0.1663\n",
      "Epoch 41/50\n",
      "\u001b[1m4/4\u001b[0m \u001b[32m━━━━━━━━━━━━━━━━━━━━\u001b[0m\u001b[37m\u001b[0m \u001b[1m0s\u001b[0m 21ms/step - loss: 0.0154 - root_mean_squared_error: 0.1238 - val_loss: 0.0224 - val_root_mean_squared_error: 0.1496\n",
      "Epoch 42/50\n",
      "\u001b[1m4/4\u001b[0m \u001b[32m━━━━━━━━━━━━━━━━━━━━\u001b[0m\u001b[37m\u001b[0m \u001b[1m0s\u001b[0m 21ms/step - loss: 0.0148 - root_mean_squared_error: 0.1218 - val_loss: 0.0238 - val_root_mean_squared_error: 0.1542\n",
      "Epoch 43/50\n",
      "\u001b[1m4/4\u001b[0m \u001b[32m━━━━━━━━━━━━━━━━━━━━\u001b[0m\u001b[37m\u001b[0m \u001b[1m0s\u001b[0m 22ms/step - loss: 0.0132 - root_mean_squared_error: 0.1150 - val_loss: 0.0212 - val_root_mean_squared_error: 0.1454\n",
      "Epoch 44/50\n",
      "\u001b[1m4/4\u001b[0m \u001b[32m━━━━━━━━━━━━━━━━━━━━\u001b[0m\u001b[37m\u001b[0m \u001b[1m0s\u001b[0m 43ms/step - loss: 0.0128 - root_mean_squared_error: 0.1129 - val_loss: 0.0207 - val_root_mean_squared_error: 0.1439\n",
      "Epoch 45/50\n",
      "\u001b[1m4/4\u001b[0m \u001b[32m━━━━━━━━━━━━━━━━━━━━\u001b[0m\u001b[37m\u001b[0m \u001b[1m0s\u001b[0m 22ms/step - loss: 0.0122 - root_mean_squared_error: 0.1104 - val_loss: 0.0235 - val_root_mean_squared_error: 0.1532\n",
      "Epoch 46/50\n",
      "\u001b[1m4/4\u001b[0m \u001b[32m━━━━━━━━━━━━━━━━━━━━\u001b[0m\u001b[37m\u001b[0m \u001b[1m0s\u001b[0m 35ms/step - loss: 0.0138 - root_mean_squared_error: 0.1175 - val_loss: 0.0203 - val_root_mean_squared_error: 0.1423\n",
      "Epoch 47/50\n",
      "\u001b[1m4/4\u001b[0m \u001b[32m━━━━━━━━━━━━━━━━━━━━\u001b[0m\u001b[37m\u001b[0m \u001b[1m0s\u001b[0m 21ms/step - loss: 0.0136 - root_mean_squared_error: 0.1165 - val_loss: 0.0231 - val_root_mean_squared_error: 0.1519\n",
      "Epoch 48/50\n",
      "\u001b[1m4/4\u001b[0m \u001b[32m━━━━━━━━━━━━━━━━━━━━\u001b[0m\u001b[37m\u001b[0m \u001b[1m0s\u001b[0m 23ms/step - loss: 0.0117 - root_mean_squared_error: 0.1080 - val_loss: 0.0205 - val_root_mean_squared_error: 0.1433\n",
      "Epoch 49/50\n",
      "\u001b[1m4/4\u001b[0m \u001b[32m━━━━━━━━━━━━━━━━━━━━\u001b[0m\u001b[37m\u001b[0m \u001b[1m0s\u001b[0m 20ms/step - loss: 0.0118 - root_mean_squared_error: 0.1084 - val_loss: 0.0226 - val_root_mean_squared_error: 0.1502\n",
      "Epoch 50/50\n",
      "\u001b[1m4/4\u001b[0m \u001b[32m━━━━━━━━━━━━━━━━━━━━\u001b[0m\u001b[37m\u001b[0m \u001b[1m0s\u001b[0m 21ms/step - loss: 0.0103 - root_mean_squared_error: 0.1014 - val_loss: 0.0211 - val_root_mean_squared_error: 0.1452\n"
     ]
    },
    {
     "data": {
      "text/plain": [
       "<keras.src.callbacks.history.History at 0x1a1f9f95bd0>"
      ]
     },
     "execution_count": 223,
     "metadata": {},
     "output_type": "execute_result"
    }
   ],
   "source": [
    "cp = ModelCheckpoint('models/gstoc_model.keras', save_best_only=True)\n",
    "gstoc_model.compile(loss=MeanSquaredError(), optimizer=Adam(learning_rate=0.01), metrics=[RootMeanSquaredError()])\n",
    "\n",
    "gstoc_model.fit(Xtr_gstoc, ytr_gstoc, validation_data=(Xvl_gstoc, yvl_gstoc), epochs=50, callbacks=[cp])"
   ]
  },
  {
   "cell_type": "code",
   "execution_count": 224,
   "metadata": {},
   "outputs": [
    {
     "name": "stdout",
     "output_type": "stream",
     "text": [
      "\u001b[1m6/6\u001b[0m \u001b[32m━━━━━━━━━━━━━━━━━━━━\u001b[0m\u001b[37m\u001b[0m \u001b[1m0s\u001b[0m 45ms/step\n"
     ]
    }
   ],
   "source": [
    "gstoc_model = load_model('models/gstoc_model.keras')\n",
    "\n",
    "pred_gstoc = gstoc_model.predict(Xts_gstoc)\n",
    "pred_gstoc = scaler_gstoc.inverse_transform(pred_gstoc)\n",
    "\n",
    "yts_gstoc = scaler_gstoc.inverse_transform(yts_gstoc)"
   ]
  },
  {
   "cell_type": "code",
   "execution_count": 225,
   "metadata": {},
   "outputs": [
    {
     "data": {
      "image/png": "[encoded data removed]",
      "text/plain": [
       "<Figure size 600x500 with 1 Axes>"
      ]
     },
     "metadata": {},
     "output_type": "display_data"
    },
    {
     "name": "stdout",
     "output_type": "stream",
     "text": [
      "MAPE: 4.408%\n"
     ]
    }
   ],
   "source": [
    "plot_fcast_ml(agg_stoc, \"2022-05-07\", \"2022-07-21\", \"2023-01-01\", pred_gstoc, False)\n",
    "\n",
    "print(f\"MAPE: {mean_absolute_percentage_error(yts_gstoc, pred_gstoc)*100:.3f}%\")"
   ]
  },
  {
   "cell_type": "markdown",
   "metadata": {},
   "source": [
    "### STLF with Exogenous Variables"
   ]
  },
  {
   "cell_type": "code",
   "execution_count": 226,
   "metadata": {},
   "outputs": [],
   "source": [
    "scaler_gstmc = MinMaxScaler(feature_range=(0, 1))\n",
    "\n",
    "sctr_gstmc = scaler_gstmc.fit_transform(stmc[stmc.index < pd.to_datetime(\"2022-05-01\")])\n",
    "scvl_gstmc = scaler_gstmc.fit_transform(stmc[(stmc.index >= pd.to_datetime(\"2022-05-01\")) & (stmc.index < pd.to_datetime(\"2022-07-15\"))])\n",
    "scts_gstmc = scaler_gstmc.fit_transform(stmc[stmc.index >= pd.to_datetime(\"2022-07-15\")])\n",
    "\n",
    "Xtr_gstmc, ytr_gstmc = df_Xy(sctr_gstmc, SEASON_STLF)\n",
    "Xvl_gstmc, yvl_gstmc = df_Xy(scvl_gstmc, SEASON_STLF)\n",
    "Xts_gstmc, yts_gstmc = df_Xy(scts_gstmc, SEASON_STLF)"
   ]
  },
  {
   "cell_type": "code",
   "execution_count": 227,
   "metadata": {},
   "outputs": [
    {
     "data": {
      "text/html": [
       "<pre style=\"white-space:pre;overflow-x:auto;line-height:normal;font-family:Menlo,'DejaVu Sans Mono',consolas,'Courier New',monospace\"><span style=\"font-weight: bold\">Model: \"sequential_178\"</span>\n",
       "</pre>\n"
      ],
      "text/plain": [
       "\u001b[1mModel: \"sequential_178\"\u001b[0m\n"
      ]
     },
     "metadata": {},
     "output_type": "display_data"
    },
    {
     "data": {
      "text/html": [
       "<pre style=\"white-space:pre;overflow-x:auto;line-height:normal;font-family:Menlo,'DejaVu Sans Mono',consolas,'Courier New',monospace\">┏━━━━━━━━━━━━━━━━━━━━━━━━━━━━━━━━━┳━━━━━━━━━━━━━━━━━━━━━━━━┳━━━━━━━━━━━━━━━┓\n",
       "┃<span style=\"font-weight: bold\"> Layer (type)                    </span>┃<span style=\"font-weight: bold\"> Output Shape           </span>┃<span style=\"font-weight: bold\">       Param # </span>┃\n",
       "┡━━━━━━━━━━━━━━━━━━━━━━━━━━━━━━━━━╇━━━━━━━━━━━━━━━━━━━━━━━━╇━━━━━━━━━━━━━━━┩\n",
       "│ gru_146 (<span style=\"color: #0087ff; text-decoration-color: #0087ff\">GRU</span>)                   │ (<span style=\"color: #00d7ff; text-decoration-color: #00d7ff\">None</span>, <span style=\"color: #00af00; text-decoration-color: #00af00\">6</span>, <span style=\"color: #00af00; text-decoration-color: #00af00\">512</span>)         │       <span style=\"color: #00af00; text-decoration-color: #00af00\">795,648</span> │\n",
       "├─────────────────────────────────┼────────────────────────┼───────────────┤\n",
       "│ gru_147 (<span style=\"color: #0087ff; text-decoration-color: #0087ff\">GRU</span>)                   │ (<span style=\"color: #00d7ff; text-decoration-color: #00d7ff\">None</span>, <span style=\"color: #00af00; text-decoration-color: #00af00\">512</span>)            │     <span style=\"color: #00af00; text-decoration-color: #00af00\">1,575,936</span> │\n",
       "├─────────────────────────────────┼────────────────────────┼───────────────┤\n",
       "│ dense_356 (<span style=\"color: #0087ff; text-decoration-color: #0087ff\">Dense</span>)               │ (<span style=\"color: #00d7ff; text-decoration-color: #00d7ff\">None</span>, <span style=\"color: #00af00; text-decoration-color: #00af00\">32</span>)             │        <span style=\"color: #00af00; text-decoration-color: #00af00\">16,416</span> │\n",
       "├─────────────────────────────────┼────────────────────────┼───────────────┤\n",
       "│ dense_357 (<span style=\"color: #0087ff; text-decoration-color: #0087ff\">Dense</span>)               │ (<span style=\"color: #00d7ff; text-decoration-color: #00d7ff\">None</span>, <span style=\"color: #00af00; text-decoration-color: #00af00\">4</span>)              │           <span style=\"color: #00af00; text-decoration-color: #00af00\">132</span> │\n",
       "└─────────────────────────────────┴────────────────────────┴───────────────┘\n",
       "</pre>\n"
      ],
      "text/plain": [
       "┏━━━━━━━━━━━━━━━━━━━━━━━━━━━━━━━━━┳━━━━━━━━━━━━━━━━━━━━━━━━┳━━━━━━━━━━━━━━━┓\n",
       "┃\u001b[1m \u001b[0m\u001b[1mLayer (type)                   \u001b[0m\u001b[1m \u001b[0m┃\u001b[1m \u001b[0m\u001b[1mOutput Shape          \u001b[0m\u001b[1m \u001b[0m┃\u001b[1m \u001b[0m\u001b[1m      Param #\u001b[0m\u001b[1m \u001b[0m┃\n",
       "┡━━━━━━━━━━━━━━━━━━━━━━━━━━━━━━━━━╇━━━━━━━━━━━━━━━━━━━━━━━━╇━━━━━━━━━━━━━━━┩\n",
       "│ gru_146 (\u001b[38;5;33mGRU\u001b[0m)                   │ (\u001b[38;5;45mNone\u001b[0m, \u001b[38;5;34m6\u001b[0m, \u001b[38;5;34m512\u001b[0m)         │       \u001b[38;5;34m795,648\u001b[0m │\n",
       "├─────────────────────────────────┼────────────────────────┼───────────────┤\n",
       "│ gru_147 (\u001b[38;5;33mGRU\u001b[0m)                   │ (\u001b[38;5;45mNone\u001b[0m, \u001b[38;5;34m512\u001b[0m)            │     \u001b[38;5;34m1,575,936\u001b[0m │\n",
       "├─────────────────────────────────┼────────────────────────┼───────────────┤\n",
       "│ dense_356 (\u001b[38;5;33mDense\u001b[0m)               │ (\u001b[38;5;45mNone\u001b[0m, \u001b[38;5;34m32\u001b[0m)             │        \u001b[38;5;34m16,416\u001b[0m │\n",
       "├─────────────────────────────────┼────────────────────────┼───────────────┤\n",
       "│ dense_357 (\u001b[38;5;33mDense\u001b[0m)               │ (\u001b[38;5;45mNone\u001b[0m, \u001b[38;5;34m4\u001b[0m)              │           \u001b[38;5;34m132\u001b[0m │\n",
       "└─────────────────────────────────┴────────────────────────┴───────────────┘\n"
      ]
     },
     "metadata": {},
     "output_type": "display_data"
    },
    {
     "data": {
      "text/html": [
       "<pre style=\"white-space:pre;overflow-x:auto;line-height:normal;font-family:Menlo,'DejaVu Sans Mono',consolas,'Courier New',monospace\"><span style=\"font-weight: bold\"> Total params: </span><span style=\"color: #00af00; text-decoration-color: #00af00\">2,388,132</span> (9.11 MB)\n",
       "</pre>\n"
      ],
      "text/plain": [
       "\u001b[1m Total params: \u001b[0m\u001b[38;5;34m2,388,132\u001b[0m (9.11 MB)\n"
      ]
     },
     "metadata": {},
     "output_type": "display_data"
    },
    {
     "data": {
      "text/html": [
       "<pre style=\"white-space:pre;overflow-x:auto;line-height:normal;font-family:Menlo,'DejaVu Sans Mono',consolas,'Courier New',monospace\"><span style=\"font-weight: bold\"> Trainable params: </span><span style=\"color: #00af00; text-decoration-color: #00af00\">2,388,132</span> (9.11 MB)\n",
       "</pre>\n"
      ],
      "text/plain": [
       "\u001b[1m Trainable params: \u001b[0m\u001b[38;5;34m2,388,132\u001b[0m (9.11 MB)\n"
      ]
     },
     "metadata": {},
     "output_type": "display_data"
    },
    {
     "data": {
      "text/html": [
       "<pre style=\"white-space:pre;overflow-x:auto;line-height:normal;font-family:Menlo,'DejaVu Sans Mono',consolas,'Courier New',monospace\"><span style=\"font-weight: bold\"> Non-trainable params: </span><span style=\"color: #00af00; text-decoration-color: #00af00\">0</span> (0.00 B)\n",
       "</pre>\n"
      ],
      "text/plain": [
       "\u001b[1m Non-trainable params: \u001b[0m\u001b[38;5;34m0\u001b[0m (0.00 B)\n"
      ]
     },
     "metadata": {},
     "output_type": "display_data"
    }
   ],
   "source": [
    "gstmc_model = Sequential()\n",
    "gstmc_model.add(InputLayer((SEASON_STLF, 4)))\n",
    "gstmc_model.add(GRU(512, return_sequences=True))\n",
    "gstmc_model.add(GRU(512))\n",
    "gstmc_model.add(Dense(32, 'relu'))\n",
    "gstmc_model.add(Dense(4, 'linear'))\n",
    "\n",
    "gstmc_model.summary()"
   ]
  },
  {
   "cell_type": "code",
   "execution_count": 228,
   "metadata": {},
   "outputs": [
    {
     "name": "stdout",
     "output_type": "stream",
     "text": [
      "Epoch 1/50\n",
      "\u001b[1m4/4\u001b[0m \u001b[32m━━━━━━━━━━━━━━━━━━━━\u001b[0m\u001b[37m\u001b[0m \u001b[1m3s\u001b[0m 159ms/step - loss: 0.1674 - root_mean_squared_error: 0.4064 - val_loss: 0.0590 - val_root_mean_squared_error: 0.2429\n",
      "Epoch 2/50\n",
      "\u001b[1m4/4\u001b[0m \u001b[32m━━━━━━━━━━━━━━━━━━━━\u001b[0m\u001b[37m\u001b[0m \u001b[1m0s\u001b[0m 69ms/step - loss: 0.0470 - root_mean_squared_error: 0.2167 - val_loss: 0.0586 - val_root_mean_squared_error: 0.2422\n",
      "Epoch 3/50\n",
      "\u001b[1m4/4\u001b[0m \u001b[32m━━━━━━━━━━━━━━━━━━━━\u001b[0m\u001b[37m\u001b[0m \u001b[1m0s\u001b[0m 39ms/step - loss: 0.0400 - root_mean_squared_error: 0.2000 - val_loss: 0.0595 - val_root_mean_squared_error: 0.2440\n",
      "Epoch 4/50\n",
      "\u001b[1m4/4\u001b[0m \u001b[32m━━━━━━━━━━━━━━━━━━━━\u001b[0m\u001b[37m\u001b[0m \u001b[1m0s\u001b[0m 72ms/step - loss: 0.0323 - root_mean_squared_error: 0.1797 - val_loss: 0.0542 - val_root_mean_squared_error: 0.2327\n",
      "Epoch 5/50\n",
      "\u001b[1m4/4\u001b[0m \u001b[32m━━━━━━━━━━━━━━━━━━━━\u001b[0m\u001b[37m\u001b[0m \u001b[1m0s\u001b[0m 42ms/step - loss: 0.0341 - root_mean_squared_error: 0.1847 - val_loss: 0.0591 - val_root_mean_squared_error: 0.2430\n",
      "Epoch 6/50\n",
      "\u001b[1m4/4\u001b[0m \u001b[32m━━━━━━━━━━━━━━━━━━━━\u001b[0m\u001b[37m\u001b[0m \u001b[1m0s\u001b[0m 44ms/step - loss: 0.0314 - root_mean_squared_error: 0.1771 - val_loss: 0.0591 - val_root_mean_squared_error: 0.2432\n",
      "Epoch 7/50\n",
      "\u001b[1m4/4\u001b[0m \u001b[32m━━━━━━━━━━━━━━━━━━━━\u001b[0m\u001b[37m\u001b[0m \u001b[1m0s\u001b[0m 40ms/step - loss: 0.0315 - root_mean_squared_error: 0.1773 - val_loss: 0.0552 - val_root_mean_squared_error: 0.2349\n",
      "Epoch 8/50\n",
      "\u001b[1m4/4\u001b[0m \u001b[32m━━━━━━━━━━━━━━━━━━━━\u001b[0m\u001b[37m\u001b[0m \u001b[1m0s\u001b[0m 42ms/step - loss: 0.0276 - root_mean_squared_error: 0.1661 - val_loss: 0.0599 - val_root_mean_squared_error: 0.2448\n",
      "Epoch 9/50\n",
      "\u001b[1m4/4\u001b[0m \u001b[32m━━━━━━━━━━━━━━━━━━━━\u001b[0m\u001b[37m\u001b[0m \u001b[1m0s\u001b[0m 40ms/step - loss: 0.0284 - root_mean_squared_error: 0.1686 - val_loss: 0.0552 - val_root_mean_squared_error: 0.2349\n",
      "Epoch 10/50\n",
      "\u001b[1m4/4\u001b[0m \u001b[32m━━━━━━━━━━━━━━━━━━━━\u001b[0m\u001b[37m\u001b[0m \u001b[1m0s\u001b[0m 39ms/step - loss: 0.0272 - root_mean_squared_error: 0.1650 - val_loss: 0.0587 - val_root_mean_squared_error: 0.2423\n",
      "Epoch 11/50\n",
      "\u001b[1m4/4\u001b[0m \u001b[32m━━━━━━━━━━━━━━━━━━━━\u001b[0m\u001b[37m\u001b[0m \u001b[1m0s\u001b[0m 40ms/step - loss: 0.0284 - root_mean_squared_error: 0.1684 - val_loss: 0.0579 - val_root_mean_squared_error: 0.2406\n",
      "Epoch 12/50\n",
      "\u001b[1m4/4\u001b[0m \u001b[32m━━━━━━━━━━━━━━━━━━━━\u001b[0m\u001b[37m\u001b[0m \u001b[1m0s\u001b[0m 38ms/step - loss: 0.0261 - root_mean_squared_error: 0.1614 - val_loss: 0.0544 - val_root_mean_squared_error: 0.2332\n",
      "Epoch 13/50\n",
      "\u001b[1m4/4\u001b[0m \u001b[32m━━━━━━━━━━━━━━━━━━━━\u001b[0m\u001b[37m\u001b[0m \u001b[1m0s\u001b[0m 39ms/step - loss: 0.0278 - root_mean_squared_error: 0.1666 - val_loss: 0.0565 - val_root_mean_squared_error: 0.2376\n",
      "Epoch 14/50\n",
      "\u001b[1m4/4\u001b[0m \u001b[32m━━━━━━━━━━━━━━━━━━━━\u001b[0m\u001b[37m\u001b[0m \u001b[1m0s\u001b[0m 37ms/step - loss: 0.0261 - root_mean_squared_error: 0.1614 - val_loss: 0.0607 - val_root_mean_squared_error: 0.2464\n",
      "Epoch 15/50\n",
      "\u001b[1m4/4\u001b[0m \u001b[32m━━━━━━━━━━━━━━━━━━━━\u001b[0m\u001b[37m\u001b[0m \u001b[1m0s\u001b[0m 40ms/step - loss: 0.0261 - root_mean_squared_error: 0.1617 - val_loss: 0.0566 - val_root_mean_squared_error: 0.2379\n",
      "Epoch 16/50\n",
      "\u001b[1m4/4\u001b[0m \u001b[32m━━━━━━━━━━━━━━━━━━━━\u001b[0m\u001b[37m\u001b[0m \u001b[1m0s\u001b[0m 38ms/step - loss: 0.0244 - root_mean_squared_error: 0.1561 - val_loss: 0.0583 - val_root_mean_squared_error: 0.2415\n",
      "Epoch 17/50\n",
      "\u001b[1m4/4\u001b[0m \u001b[32m━━━━━━━━━━━━━━━━━━━━\u001b[0m\u001b[37m\u001b[0m \u001b[1m0s\u001b[0m 69ms/step - loss: 0.0264 - root_mean_squared_error: 0.1626 - val_loss: 0.0528 - val_root_mean_squared_error: 0.2298\n",
      "Epoch 18/50\n",
      "\u001b[1m4/4\u001b[0m \u001b[32m━━━━━━━━━━━━━━━━━━━━\u001b[0m\u001b[37m\u001b[0m \u001b[1m0s\u001b[0m 44ms/step - loss: 0.0259 - root_mean_squared_error: 0.1610 - val_loss: 0.0584 - val_root_mean_squared_error: 0.2416\n",
      "Epoch 19/50\n",
      "\u001b[1m4/4\u001b[0m \u001b[32m━━━━━━━━━━━━━━━━━━━━\u001b[0m\u001b[37m\u001b[0m \u001b[1m0s\u001b[0m 47ms/step - loss: 0.0245 - root_mean_squared_error: 0.1564 - val_loss: 0.0550 - val_root_mean_squared_error: 0.2345\n",
      "Epoch 20/50\n",
      "\u001b[1m4/4\u001b[0m \u001b[32m━━━━━━━━━━━━━━━━━━━━\u001b[0m\u001b[37m\u001b[0m \u001b[1m0s\u001b[0m 38ms/step - loss: 0.0237 - root_mean_squared_error: 0.1539 - val_loss: 0.0547 - val_root_mean_squared_error: 0.2339\n",
      "Epoch 21/50\n",
      "\u001b[1m4/4\u001b[0m \u001b[32m━━━━━━━━━━━━━━━━━━━━\u001b[0m\u001b[37m\u001b[0m \u001b[1m0s\u001b[0m 40ms/step - loss: 0.0243 - root_mean_squared_error: 0.1559 - val_loss: 0.0571 - val_root_mean_squared_error: 0.2389\n",
      "Epoch 22/50\n",
      "\u001b[1m4/4\u001b[0m \u001b[32m━━━━━━━━━━━━━━━━━━━━\u001b[0m\u001b[37m\u001b[0m \u001b[1m0s\u001b[0m 39ms/step - loss: 0.0234 - root_mean_squared_error: 0.1531 - val_loss: 0.0556 - val_root_mean_squared_error: 0.2358\n",
      "Epoch 23/50\n",
      "\u001b[1m4/4\u001b[0m \u001b[32m━━━━━━━━━━━━━━━━━━━━\u001b[0m\u001b[37m\u001b[0m \u001b[1m0s\u001b[0m 39ms/step - loss: 0.0232 - root_mean_squared_error: 0.1523 - val_loss: 0.0554 - val_root_mean_squared_error: 0.2353\n",
      "Epoch 24/50\n",
      "\u001b[1m4/4\u001b[0m \u001b[32m━━━━━━━━━━━━━━━━━━━━\u001b[0m\u001b[37m\u001b[0m \u001b[1m0s\u001b[0m 39ms/step - loss: 0.0223 - root_mean_squared_error: 0.1493 - val_loss: 0.0571 - val_root_mean_squared_error: 0.2389\n",
      "Epoch 25/50\n",
      "\u001b[1m4/4\u001b[0m \u001b[32m━━━━━━━━━━━━━━━━━━━━\u001b[0m\u001b[37m\u001b[0m \u001b[1m0s\u001b[0m 39ms/step - loss: 0.0215 - root_mean_squared_error: 0.1466 - val_loss: 0.0551 - val_root_mean_squared_error: 0.2347\n",
      "Epoch 26/50\n",
      "\u001b[1m4/4\u001b[0m \u001b[32m━━━━━━━━━━━━━━━━━━━━\u001b[0m\u001b[37m\u001b[0m \u001b[1m0s\u001b[0m 39ms/step - loss: 0.0231 - root_mean_squared_error: 0.1520 - val_loss: 0.0551 - val_root_mean_squared_error: 0.2347\n",
      "Epoch 27/50\n",
      "\u001b[1m4/4\u001b[0m \u001b[32m━━━━━━━━━━━━━━━━━━━━\u001b[0m\u001b[37m\u001b[0m \u001b[1m0s\u001b[0m 39ms/step - loss: 0.0218 - root_mean_squared_error: 0.1475 - val_loss: 0.0578 - val_root_mean_squared_error: 0.2405\n",
      "Epoch 28/50\n",
      "\u001b[1m4/4\u001b[0m \u001b[32m━━━━━━━━━━━━━━━━━━━━\u001b[0m\u001b[37m\u001b[0m \u001b[1m0s\u001b[0m 38ms/step - loss: 0.0226 - root_mean_squared_error: 0.1503 - val_loss: 0.0533 - val_root_mean_squared_error: 0.2308\n",
      "Epoch 29/50\n",
      "\u001b[1m4/4\u001b[0m \u001b[32m━━━━━━━━━━━━━━━━━━━━\u001b[0m\u001b[37m\u001b[0m \u001b[1m0s\u001b[0m 39ms/step - loss: 0.0226 - root_mean_squared_error: 0.1503 - val_loss: 0.0588 - val_root_mean_squared_error: 0.2425\n",
      "Epoch 30/50\n",
      "\u001b[1m4/4\u001b[0m \u001b[32m━━━━━━━━━━━━━━━━━━━━\u001b[0m\u001b[37m\u001b[0m \u001b[1m0s\u001b[0m 70ms/step - loss: 0.0213 - root_mean_squared_error: 0.1458 - val_loss: 0.0525 - val_root_mean_squared_error: 0.2291\n",
      "Epoch 31/50\n",
      "\u001b[1m4/4\u001b[0m \u001b[32m━━━━━━━━━━━━━━━━━━━━\u001b[0m\u001b[37m\u001b[0m \u001b[1m0s\u001b[0m 40ms/step - loss: 0.0215 - root_mean_squared_error: 0.1467 - val_loss: 0.0596 - val_root_mean_squared_error: 0.2441\n",
      "Epoch 32/50\n",
      "\u001b[1m4/4\u001b[0m \u001b[32m━━━━━━━━━━━━━━━━━━━━\u001b[0m\u001b[37m\u001b[0m \u001b[1m0s\u001b[0m 74ms/step - loss: 0.0211 - root_mean_squared_error: 0.1452 - val_loss: 0.0522 - val_root_mean_squared_error: 0.2285\n",
      "Epoch 33/50\n",
      "\u001b[1m4/4\u001b[0m \u001b[32m━━━━━━━━━━━━━━━━━━━━\u001b[0m\u001b[37m\u001b[0m \u001b[1m0s\u001b[0m 39ms/step - loss: 0.0213 - root_mean_squared_error: 0.1458 - val_loss: 0.0528 - val_root_mean_squared_error: 0.2297\n",
      "Epoch 34/50\n",
      "\u001b[1m4/4\u001b[0m \u001b[32m━━━━━━━━━━━━━━━━━━━━\u001b[0m\u001b[37m\u001b[0m \u001b[1m0s\u001b[0m 38ms/step - loss: 0.0196 - root_mean_squared_error: 0.1399 - val_loss: 0.0549 - val_root_mean_squared_error: 0.2343\n",
      "Epoch 35/50\n",
      "\u001b[1m4/4\u001b[0m \u001b[32m━━━━━━━━━━━━━━━━━━━━\u001b[0m\u001b[37m\u001b[0m \u001b[1m0s\u001b[0m 71ms/step - loss: 0.0199 - root_mean_squared_error: 0.1408 - val_loss: 0.0486 - val_root_mean_squared_error: 0.2205\n",
      "Epoch 36/50\n",
      "\u001b[1m4/4\u001b[0m \u001b[32m━━━━━━━━━━━━━━━━━━━━\u001b[0m\u001b[37m\u001b[0m \u001b[1m0s\u001b[0m 39ms/step - loss: 0.0218 - root_mean_squared_error: 0.1476 - val_loss: 0.0561 - val_root_mean_squared_error: 0.2369\n",
      "Epoch 37/50\n",
      "\u001b[1m4/4\u001b[0m \u001b[32m━━━━━━━━━━━━━━━━━━━━\u001b[0m\u001b[37m\u001b[0m \u001b[1m0s\u001b[0m 75ms/step - loss: 0.0219 - root_mean_squared_error: 0.1479 - val_loss: 0.0466 - val_root_mean_squared_error: 0.2158\n",
      "Epoch 38/50\n",
      "\u001b[1m4/4\u001b[0m \u001b[32m━━━━━━━━━━━━━━━━━━━━\u001b[0m\u001b[37m\u001b[0m \u001b[1m0s\u001b[0m 43ms/step - loss: 0.0202 - root_mean_squared_error: 0.1423 - val_loss: 0.0515 - val_root_mean_squared_error: 0.2269\n",
      "Epoch 39/50\n",
      "\u001b[1m4/4\u001b[0m \u001b[32m━━━━━━━━━━━━━━━━━━━━\u001b[0m\u001b[37m\u001b[0m \u001b[1m0s\u001b[0m 72ms/step - loss: 0.0200 - root_mean_squared_error: 0.1412 - val_loss: 0.0462 - val_root_mean_squared_error: 0.2149\n",
      "Epoch 40/50\n",
      "\u001b[1m4/4\u001b[0m \u001b[32m━━━━━━━━━━━━━━━━━━━━\u001b[0m\u001b[37m\u001b[0m \u001b[1m0s\u001b[0m 44ms/step - loss: 0.0192 - root_mean_squared_error: 0.1384 - val_loss: 0.0502 - val_root_mean_squared_error: 0.2240\n",
      "Epoch 41/50\n",
      "\u001b[1m4/4\u001b[0m \u001b[32m━━━━━━━━━━━━━━━━━━━━\u001b[0m\u001b[37m\u001b[0m \u001b[1m0s\u001b[0m 45ms/step - loss: 0.0217 - root_mean_squared_error: 0.1474 - val_loss: 0.0544 - val_root_mean_squared_error: 0.2333\n",
      "Epoch 42/50\n",
      "\u001b[1m4/4\u001b[0m \u001b[32m━━━━━━━━━━━━━━━━━━━━\u001b[0m\u001b[37m\u001b[0m \u001b[1m0s\u001b[0m 41ms/step - loss: 0.0209 - root_mean_squared_error: 0.1444 - val_loss: 0.0464 - val_root_mean_squared_error: 0.2154\n",
      "Epoch 43/50\n",
      "\u001b[1m4/4\u001b[0m \u001b[32m━━━━━━━━━━━━━━━━━━━━\u001b[0m\u001b[37m\u001b[0m \u001b[1m0s\u001b[0m 39ms/step - loss: 0.0210 - root_mean_squared_error: 0.1447 - val_loss: 0.0473 - val_root_mean_squared_error: 0.2175\n",
      "Epoch 44/50\n",
      "\u001b[1m4/4\u001b[0m \u001b[32m━━━━━━━━━━━━━━━━━━━━\u001b[0m\u001b[37m\u001b[0m \u001b[1m0s\u001b[0m 40ms/step - loss: 0.0207 - root_mean_squared_error: 0.1438 - val_loss: 0.0501 - val_root_mean_squared_error: 0.2237\n",
      "Epoch 45/50\n",
      "\u001b[1m4/4\u001b[0m \u001b[32m━━━━━━━━━━━━━━━━━━━━\u001b[0m\u001b[37m\u001b[0m \u001b[1m0s\u001b[0m 39ms/step - loss: 0.0201 - root_mean_squared_error: 0.1418 - val_loss: 0.0475 - val_root_mean_squared_error: 0.2179\n",
      "Epoch 46/50\n",
      "\u001b[1m4/4\u001b[0m \u001b[32m━━━━━━━━━━━━━━━━━━━━\u001b[0m\u001b[37m\u001b[0m \u001b[1m0s\u001b[0m 40ms/step - loss: 0.0203 - root_mean_squared_error: 0.1424 - val_loss: 0.0467 - val_root_mean_squared_error: 0.2160\n",
      "Epoch 47/50\n",
      "\u001b[1m4/4\u001b[0m \u001b[32m━━━━━━━━━━━━━━━━━━━━\u001b[0m\u001b[37m\u001b[0m \u001b[1m0s\u001b[0m 39ms/step - loss: 0.0185 - root_mean_squared_error: 0.1360 - val_loss: 0.0494 - val_root_mean_squared_error: 0.2222\n",
      "Epoch 48/50\n",
      "\u001b[1m4/4\u001b[0m \u001b[32m━━━━━━━━━━━━━━━━━━━━\u001b[0m\u001b[37m\u001b[0m \u001b[1m0s\u001b[0m 38ms/step - loss: 0.0194 - root_mean_squared_error: 0.1390 - val_loss: 0.0492 - val_root_mean_squared_error: 0.2218\n",
      "Epoch 49/50\n",
      "\u001b[1m4/4\u001b[0m \u001b[32m━━━━━━━━━━━━━━━━━━━━\u001b[0m\u001b[37m\u001b[0m \u001b[1m0s\u001b[0m 39ms/step - loss: 0.0189 - root_mean_squared_error: 0.1373 - val_loss: 0.0463 - val_root_mean_squared_error: 0.2152\n",
      "Epoch 50/50\n",
      "\u001b[1m4/4\u001b[0m \u001b[32m━━━━━━━━━━━━━━━━━━━━\u001b[0m\u001b[37m\u001b[0m \u001b[1m0s\u001b[0m 42ms/step - loss: 0.0208 - root_mean_squared_error: 0.1442 - val_loss: 0.0502 - val_root_mean_squared_error: 0.2240\n"
     ]
    },
    {
     "data": {
      "text/plain": [
       "<keras.src.callbacks.history.History at 0x1a1733e1610>"
      ]
     },
     "execution_count": 228,
     "metadata": {},
     "output_type": "execute_result"
    }
   ],
   "source": [
    "cp = ModelCheckpoint('models/gstmc_model.keras', save_best_only=True)\n",
    "gstmc_model.compile(loss=MeanSquaredError(), optimizer=Adam(learning_rate=0.001), metrics=[RootMeanSquaredError()])\n",
    "\n",
    "gstmc_model.fit(Xtr_gstmc, ytr_gstmc, validation_data=(Xvl_gstmc, yvl_gstmc), epochs=50, callbacks=[cp])\n"
   ]
  },
  {
   "cell_type": "code",
   "execution_count": 229,
   "metadata": {},
   "outputs": [
    {
     "name": "stdout",
     "output_type": "stream",
     "text": [
      "\u001b[1m6/6\u001b[0m \u001b[32m━━━━━━━━━━━━━━━━━━━━\u001b[0m\u001b[37m\u001b[0m \u001b[1m0s\u001b[0m 47ms/step\n"
     ]
    }
   ],
   "source": [
    "gstmc_model = load_model('models/gstmc_model.keras')\n",
    "\n",
    "pred_gstmc = gstmc_model.predict(Xts_gstmc)\n",
    "pred_gstmc = scaler_gstmc.inverse_transform(pred_gstmc)[:,0]\n",
    "\n",
    "yts_gstmc = scaler_gstmc.inverse_transform(yts_gstmc)[:,0]"
   ]
  },
  {
   "cell_type": "code",
   "execution_count": 230,
   "metadata": {},
   "outputs": [
    {
     "data": {
      "image/png": "[encoded data removed]",
      "text/plain": [
       "<Figure size 600x500 with 1 Axes>"
      ]
     },
     "metadata": {},
     "output_type": "display_data"
    },
    {
     "name": "stdout",
     "output_type": "stream",
     "text": [
      "MAPE: 6.026%\n"
     ]
    }
   ],
   "source": [
    "plot_fcast_ml(stmc, \"2022-05-07\", \"2022-07-21\", \"2023-01-01\", pred_gstmc, True)\n",
    "\n",
    "print(f\"MAPE: {mean_absolute_percentage_error(yts_gstmc, pred_gstmc)*100:.3f}%\")"
   ]
  },
  {
   "cell_type": "markdown",
   "metadata": {},
   "source": [
    "## MAPE Averaging"
   ]
  },
  {
   "cell_type": "markdown",
   "metadata": {},
   "source": [
    "WARNING: do not run unless you are willing to wait for 1.5 - 3hrs (depending on hardware)!"
   ]
  },
  {
   "cell_type": "code",
   "execution_count": 231,
   "metadata": {},
   "outputs": [],
   "source": [
    "def ltoc_run() -> float:\n",
    "    scaler_ltoc = MinMaxScaler(feature_range=(0, 1))\n",
    "    agg_ltoc = ltoc[ltoc.index >= pd.to_datetime(\"2009-01-01\")].asfreq(\"MS\")\n",
    "    sctr_ltoc = scaler_ltoc.fit_transform(agg_ltoc[agg_ltoc.index < pd.to_datetime(\"2017-01-01\")])\n",
    "    scvl_ltoc = scaler_ltoc.fit_transform(agg_ltoc[(agg_ltoc.index >= pd.to_datetime(\"2017-01-01\")) & (agg_ltoc.index < pd.to_datetime(\"2020-01-01\"))])\n",
    "    scts_ltoc = scaler_ltoc.fit_transform(agg_ltoc[(agg_ltoc.index >= pd.to_datetime(\"2020-01-01\")) & (agg_ltoc.index < pd.to_datetime(\"2024-05-01\"))])\n",
    "    Xtr_ltoc, ytr_ltoc = col_Xy(sctr_ltoc, SEASON_LTLF)\n",
    "    Xvl_ltoc, yvl_ltoc = col_Xy(scvl_ltoc, SEASON_LTLF)\n",
    "    Xts_ltoc, yts_ltoc = col_Xy(scts_ltoc, SEASON_LTLF)\n",
    "    ltoc_model = Sequential()\n",
    "    ltoc_model.add(InputLayer((SEASON_LTLF, 1)))\n",
    "    ltoc_model.add(LSTM(128, return_sequences=True))\n",
    "    ltoc_model.add(LSTM(128))\n",
    "    ltoc_model.add(Dense(8, 'relu'))\n",
    "    ltoc_model.add(Dense(1, 'linear'))\n",
    "    cp = ModelCheckpoint('intermediate.keras', save_best_only=True)\n",
    "    ltoc_model.compile(loss=MeanSquaredError(), optimizer=Adam(learning_rate=0.001), metrics=[RootMeanSquaredError()])\n",
    "    ltoc_model.fit(Xtr_ltoc, ytr_ltoc, validation_data=(Xvl_ltoc, yvl_ltoc), epochs=50, callbacks=[cp], verbose=0)\n",
    "    ltoc_model = load_model('intermediate.keras')\n",
    "    pred_ltoc = ltoc_model.predict(Xts_ltoc, verbose=0)\n",
    "    pred_ltoc = scaler_ltoc.inverse_transform(pred_ltoc)\n",
    "    yts_ltoc = scaler_ltoc.inverse_transform(yts_ltoc)\n",
    "   \n",
    "    return mean_absolute_percentage_error(yts_ltoc, pred_ltoc) * 100"
   ]
  },
  {
   "cell_type": "code",
   "execution_count": 232,
   "metadata": {},
   "outputs": [],
   "source": [
    "def gltoc_run() -> float:\n",
    "    scaler_gltoc = MinMaxScaler(feature_range=(0, 1))\n",
    "    agg_gltoc = ltoc[ltoc.index >= pd.to_datetime(\"2009-01-01\")].asfreq(\"MS\")\n",
    "    sctr_gltoc = scaler_gltoc.fit_transform(agg_gltoc[agg_gltoc.index < pd.to_datetime(\"2017-01-01\")])\n",
    "    scvl_gltoc = scaler_gltoc.fit_transform(agg_gltoc[(agg_gltoc.index >= pd.to_datetime(\"2017-01-01\")) & (agg_gltoc.index < pd.to_datetime(\"2020-01-01\"))])\n",
    "    scts_gltoc = scaler_gltoc.fit_transform(agg_gltoc[(agg_gltoc.index >= pd.to_datetime(\"2020-01-01\")) & (agg_gltoc.index < pd.to_datetime(\"2024-05-01\"))])\n",
    "    Xtr_gltoc, ytr_gltoc = col_Xy(sctr_gltoc, SEASON_LTLF)\n",
    "    Xvl_gltoc, yvl_gltoc = col_Xy(scvl_gltoc, SEASON_LTLF)\n",
    "    Xts_gltoc, yts_gltoc = col_Xy(scts_gltoc, SEASON_LTLF)\n",
    "    gltoc_model = Sequential()\n",
    "    gltoc_model.add(InputLayer((SEASON_LTLF, 1)))\n",
    "    gltoc_model.add(GRU(128, return_sequences=True))\n",
    "    gltoc_model.add(GRU(128))\n",
    "    gltoc_model.add(Dense(8, 'relu'))\n",
    "    gltoc_model.add(Dense(1, 'linear'))\n",
    "    cp = ModelCheckpoint('intermediate.keras', save_best_only=True)\n",
    "    gltoc_model.compile(loss=MeanSquaredError(), optimizer=Adam(learning_rate=0.001), metrics=[RootMeanSquaredError()])\n",
    "    gltoc_model.fit(Xtr_gltoc, ytr_gltoc, validation_data=(Xvl_gltoc, yvl_gltoc), epochs=50, callbacks=[cp], verbose=0)\n",
    "    gltoc_model = load_model('intermediate.keras')\n",
    "    pred_gltoc = gltoc_model.predict(Xts_gltoc, verbose=0)\n",
    "    pred_gltoc = scaler_gltoc.inverse_transform(pred_gltoc)\n",
    "    yts_gltoc = scaler_gltoc.inverse_transform(yts_gltoc)\n",
    "   \n",
    "    return mean_absolute_percentage_error(yts_gltoc, pred_gltoc) * 100"
   ]
  },
  {
   "cell_type": "code",
   "execution_count": 233,
   "metadata": {},
   "outputs": [],
   "source": [
    "def stoc_run() -> float:\n",
    "    agg_stoc = stoc[((stoc.index >= pd.to_datetime(\"2022-01-01\")) & (stoc.index <= pd.to_datetime(\"2022-12-31\")))].asfreq(\"D\")\n",
    "    scaler_stoc = MinMaxScaler(feature_range=(0, 1))\n",
    "    sctr_stoc = scaler_stoc.fit_transform(agg_stoc[agg_stoc.index < pd.to_datetime(\"2022-05-01\")])\n",
    "    scvl_stoc = scaler_stoc.fit_transform(agg_stoc[(agg_stoc.index >= pd.to_datetime(\"2022-05-01\")) & (agg_stoc.index < pd.to_datetime(\"2022-07-15\"))])\n",
    "    scts_stoc = scaler_stoc.fit_transform(agg_stoc[agg_stoc.index >= pd.to_datetime(\"2022-07-15\")])\n",
    "    Xtr_stoc, ytr_stoc = df_Xy(sctr_stoc, SEASON_STLF)\n",
    "    Xvl_stoc, yvl_stoc = df_Xy(scvl_stoc, SEASON_STLF)\n",
    "    Xts_stoc, yts_stoc = df_Xy(scts_stoc, SEASON_STLF)\n",
    "    stoc_model = Sequential()\n",
    "    stoc_model.add(InputLayer((SEASON_STLF, 1)))\n",
    "    stoc_model.add(LSTM(256, return_sequences=True))\n",
    "    stoc_model.add(LSTM(256))\n",
    "    stoc_model.add(Dense(8, 'relu'))\n",
    "    stoc_model.add(Dense(1, 'linear'))\n",
    "    cp = ModelCheckpoint('intermediate.keras', save_best_only=True)\n",
    "    stoc_model.compile(loss=MeanSquaredError(), optimizer=Adam(learning_rate=0.001), metrics=[RootMeanSquaredError()])\n",
    "    stoc_model.fit(Xtr_stoc, ytr_stoc, validation_data=(Xvl_stoc, yvl_stoc), epochs=50, callbacks=[cp], verbose=0)\n",
    "    stoc_model = load_model('intermediate.keras')\n",
    "    pred_stoc = stoc_model.predict(Xts_stoc, verbose=0)\n",
    "    pred_stoc = scaler_stoc.inverse_transform(pred_stoc)\n",
    "    yts_stoc = scaler_stoc.inverse_transform(yts_stoc)\n",
    "    \n",
    "\n",
    "    return mean_absolute_percentage_error(yts_stoc, pred_stoc) * 100"
   ]
  },
  {
   "cell_type": "code",
   "execution_count": 234,
   "metadata": {},
   "outputs": [],
   "source": [
    "def gstoc_run() -> float:\n",
    "    agg_gstoc = stoc[((stoc.index >= pd.to_datetime(\"2022-01-01\")) & (stoc.index <= pd.to_datetime(\"2022-12-31\")))].asfreq(\"D\")\n",
    "    scaler_gstoc = MinMaxScaler(feature_range=(0, 1))\n",
    "    sctr_gstoc = scaler_gstoc.fit_transform(agg_gstoc[agg_gstoc.index < pd.to_datetime(\"2022-05-01\")])\n",
    "    scvl_gstoc = scaler_gstoc.fit_transform(agg_gstoc[(agg_gstoc.index >= pd.to_datetime(\"2022-05-01\")) & (agg_gstoc.index < pd.to_datetime(\"2022-07-15\"))])\n",
    "    scts_gstoc = scaler_gstoc.fit_transform(agg_gstoc[agg_gstoc.index >= pd.to_datetime(\"2022-07-15\")])\n",
    "    Xtr_gstoc, ytr_gstoc = df_Xy(sctr_gstoc, SEASON_STLF)\n",
    "    Xvl_gstoc, yvl_gstoc = df_Xy(scvl_gstoc, SEASON_STLF)\n",
    "    Xts_gstoc, yts_gstoc = df_Xy(scts_gstoc, SEASON_STLF)\n",
    "    gstoc_model = Sequential()\n",
    "    gstoc_model.add(InputLayer((SEASON_STLF, 1)))\n",
    "    gstoc_model.add(GRU(256, return_sequences=True))\n",
    "    gstoc_model.add(GRU(256))\n",
    "    gstoc_model.add(Dense(8, 'relu'))\n",
    "    gstoc_model.add(Dense(1, 'linear'))\n",
    "    cp = ModelCheckpoint('intermediate.keras', save_best_only=True)\n",
    "    gstoc_model.compile(loss=MeanSquaredError(), optimizer=Adam(learning_rate=0.001), metrics=[RootMeanSquaredError()])\n",
    "    gstoc_model.fit(Xtr_gstoc, ytr_gstoc, validation_data=(Xvl_gstoc, yvl_gstoc), epochs=50, callbacks=[cp], verbose=0)\n",
    "    gstoc_model = load_model('intermediate.keras')\n",
    "    pred_gstoc = gstoc_model.predict(Xts_gstoc, verbose=0)\n",
    "    pred_gstoc = scaler_gstoc.inverse_transform(pred_gstoc)\n",
    "    yts_gstoc = scaler_gstoc.inverse_transform(yts_gstoc)\n",
    "    \n",
    "    return mean_absolute_percentage_error(yts_gstoc, pred_gstoc) * 100"
   ]
  },
  {
   "cell_type": "code",
   "execution_count": 235,
   "metadata": {},
   "outputs": [],
   "source": [
    "def ltmc_run() -> float:\n",
    "    ltmc = ltoc[ltoc.index >= pd.to_datetime(\"2011-01-01\")].join(mean_wdat).asfreq(\"MS\")\n",
    "    scaler_ltmc = MinMaxScaler(feature_range=(0, 1))\n",
    "    sctr_ltmc = scaler_ltmc.fit_transform(ltmc[ltmc.index < pd.to_datetime(\"2017-01-01\")])\n",
    "    scvl_ltmc = scaler_ltmc.fit_transform(ltmc[(ltmc.index >= pd.to_datetime(\"2017-01-01\")) & (ltmc.index < pd.to_datetime(\"2020-01-01\"))])\n",
    "    scts_ltmc = scaler_ltmc.fit_transform(ltmc[(ltmc.index >= pd.to_datetime(\"2020-01-01\")) & (ltmc.index < pd.to_datetime(\"2024-05-01\"))])\n",
    "    Xtr_ltmc, ytr_ltmc = df_Xy(sctr_ltmc, SEASON_LTLF)\n",
    "    Xvl_ltmc, yvl_ltmc = df_Xy(scvl_ltmc, SEASON_LTLF)\n",
    "    Xts_ltmc, yts_ltmc = df_Xy(scts_ltmc, SEASON_LTLF)\n",
    "    ltmc_model = Sequential()\n",
    "    ltmc_model.add(InputLayer((SEASON_LTLF, 4)))\n",
    "    ltmc_model.add(LSTM(512, return_sequences=True))\n",
    "    ltmc_model.add(LSTM(256))\n",
    "    ltmc_model.add(Dense(32, 'relu'))\n",
    "    ltmc_model.add(Dense(4, 'linear'))\n",
    "    cp = ModelCheckpoint('intermediate.keras', save_best_only=True)\n",
    "    ltmc_model.compile(loss=MeanSquaredError(), optimizer=Adam(learning_rate=0.001), metrics=[RootMeanSquaredError()])\n",
    "    ltmc_model.fit(Xtr_ltmc, ytr_ltmc, validation_data=(Xvl_ltmc, yvl_ltmc), epochs=50, callbacks=[cp], verbose=0)\n",
    "    ltmc_model = load_model('intermediate.keras')\n",
    "    pred_ltmc = ltmc_model.predict(Xts_ltmc, verbose=0)\n",
    "    pred_ltmc = scaler_ltmc.inverse_transform(pred_ltmc)[:,0]\n",
    "    yts_ltmc = scaler_ltmc.inverse_transform(yts_ltmc)[:,0]\n",
    "\n",
    "    return mean_absolute_percentage_error(yts_ltmc, pred_ltmc) * 100"
   ]
  },
  {
   "cell_type": "code",
   "execution_count": 236,
   "metadata": {},
   "outputs": [],
   "source": [
    "def gltmc_run() -> float:\n",
    "    gltmc = ltoc[ltoc.index >= pd.to_datetime(\"2011-01-01\")].join(mean_wdat).asfreq(\"MS\")\n",
    "    scaler_gltmc = MinMaxScaler(feature_range=(0, 1))\n",
    "    sctr_gltmc = scaler_gltmc.fit_transform(gltmc[gltmc.index < pd.to_datetime(\"2017-01-01\")])\n",
    "    scvl_gltmc = scaler_gltmc.fit_transform(gltmc[(gltmc.index >= pd.to_datetime(\"2017-01-01\")) & (gltmc.index < pd.to_datetime(\"2020-01-01\"))])\n",
    "    scts_gltmc = scaler_gltmc.fit_transform(gltmc[(gltmc.index >= pd.to_datetime(\"2020-01-01\")) & (gltmc.index < pd.to_datetime(\"2024-05-01\"))])\n",
    "    Xtr_gltmc, ytr_gltmc = df_Xy(sctr_gltmc, SEASON_LTLF)\n",
    "    Xvl_gltmc, yvl_gltmc = df_Xy(scvl_gltmc, SEASON_LTLF)\n",
    "    Xts_gltmc, yts_gltmc = df_Xy(scts_gltmc, SEASON_LTLF)\n",
    "    gltmc_model = Sequential()\n",
    "    gltmc_model.add(InputLayer((SEASON_LTLF, 4)))\n",
    "    gltmc_model.add(LSTM(512, return_sequences=True))\n",
    "    gltmc_model.add(LSTM(256))\n",
    "    gltmc_model.add(Dense(32, 'relu'))\n",
    "    gltmc_model.add(Dense(4, 'linear'))\n",
    "    cp = ModelCheckpoint('intermediate.keras', save_best_only=True)\n",
    "    gltmc_model.compile(loss=MeanSquaredError(), optimizer=Adam(learning_rate=0.001), metrics=[RootMeanSquaredError()])\n",
    "    gltmc_model.fit(Xtr_gltmc, ytr_gltmc, validation_data=(Xvl_gltmc, yvl_gltmc), epochs=50, callbacks=[cp], verbose=0)\n",
    "    gltmc_model = load_model('intermediate.keras')\n",
    "    pred_gltmc = gltmc_model.predict(Xts_gltmc, verbose=0)\n",
    "    pred_gltmc = scaler_gltmc.inverse_transform(pred_gltmc)[:,0]\n",
    "    yts_gltmc = scaler_gltmc.inverse_transform(yts_gltmc)[:,0]\n",
    "\n",
    "    return mean_absolute_percentage_error(yts_gltmc, pred_gltmc) * 100"
   ]
  },
  {
   "cell_type": "code",
   "execution_count": 237,
   "metadata": {},
   "outputs": [],
   "source": [
    "def stmc_run():\n",
    "    stmc = stoc[((stoc.index >= pd.to_datetime(\"2022-01-01\")) & (stoc.index <= pd.to_datetime(\"2022-12-31\")))].join(mean_dwdat).asfreq(\"D\")\n",
    "    scaler_stmc = MinMaxScaler(feature_range=(0, 1))\n",
    "    sctr_stmc = scaler_stmc.fit_transform(stmc[stmc.index < pd.to_datetime(\"2022-05-01\")])\n",
    "    scvl_stmc = scaler_stmc.fit_transform(stmc[(stmc.index >= pd.to_datetime(\"2022-05-01\")) & (stmc.index < pd.to_datetime(\"2022-07-15\"))])\n",
    "    scts_stmc = scaler_stmc.fit_transform(stmc[stmc.index >= pd.to_datetime(\"2022-07-15\")])\n",
    "    Xtr_stmc, ytr_stmc = df_Xy(sctr_stmc, SEASON_STLF)\n",
    "    Xvl_stmc, yvl_stmc = df_Xy(scvl_stmc, SEASON_STLF)\n",
    "    Xts_stmc, yts_stmc = df_Xy(scts_stmc, SEASON_STLF)\n",
    "    stmc_model = Sequential()\n",
    "    stmc_model.add(InputLayer((SEASON_STLF, 4)))\n",
    "    stmc_model.add(LSTM(512, return_sequences=True))\n",
    "    stmc_model.add(LSTM(512))\n",
    "    stmc_model.add(Dense(32, 'relu'))\n",
    "    stmc_model.add(Dense(4, 'linear'))\n",
    "    cp = ModelCheckpoint('intermediate.keras', save_best_only=True)\n",
    "    stmc_model.compile(loss=MeanSquaredError(), optimizer=Adam(learning_rate=0.001), metrics=[RootMeanSquaredError()])\n",
    "    stmc_model.fit(Xtr_stmc, ytr_stmc, validation_data=(Xvl_stmc, yvl_stmc), epochs=50, callbacks=[cp], verbose=0)\n",
    "    stmc_model = load_model('intermediate.keras')\n",
    "    pred_stmc = stmc_model.predict(Xts_stmc, verbose=0)\n",
    "    pred_stmc = scaler_stmc.inverse_transform(pred_stmc)[:,0]\n",
    "    yts_stmc = scaler_stmc.inverse_transform(yts_stmc)[:,0]\n",
    "\n",
    "    return mean_absolute_percentage_error(yts_stmc, pred_stmc) * 100"
   ]
  },
  {
   "cell_type": "code",
   "execution_count": 238,
   "metadata": {},
   "outputs": [],
   "source": [
    "def gstmc_run():\n",
    "    gstmc = stoc[((stoc.index >= pd.to_datetime(\"2022-01-01\")) & (stoc.index <= pd.to_datetime(\"2022-12-31\")))].join(mean_dwdat).asfreq(\"D\")\n",
    "    scaler_gstmc = MinMaxScaler(feature_range=(0, 1))\n",
    "    sctr_gstmc = scaler_gstmc.fit_transform(gstmc[gstmc.index < pd.to_datetime(\"2022-05-01\")])\n",
    "    scvl_gstmc = scaler_gstmc.fit_transform(gstmc[(gstmc.index >= pd.to_datetime(\"2022-05-01\")) & (gstmc.index < pd.to_datetime(\"2022-07-15\"))])\n",
    "    scts_gstmc = scaler_gstmc.fit_transform(gstmc[gstmc.index >= pd.to_datetime(\"2022-07-15\")])\n",
    "    Xtr_gstmc, ytr_gstmc = df_Xy(sctr_gstmc, SEASON_STLF)\n",
    "    Xvl_gstmc, yvl_gstmc = df_Xy(scvl_gstmc, SEASON_STLF)\n",
    "    Xts_gstmc, yts_gstmc = df_Xy(scts_gstmc, SEASON_STLF)\n",
    "    gstmc_model = Sequential()\n",
    "    gstmc_model.add(InputLayer((SEASON_STLF, 4)))\n",
    "    gstmc_model.add(LSTM(512, return_sequences=True))\n",
    "    gstmc_model.add(LSTM(512))\n",
    "    gstmc_model.add(Dense(32, 'relu'))\n",
    "    gstmc_model.add(Dense(4, 'linear'))\n",
    "    cp = ModelCheckpoint('intermediate.keras', save_best_only=True)\n",
    "    gstmc_model.compile(loss=MeanSquaredError(), optimizer=Adam(learning_rate=0.001), metrics=[RootMeanSquaredError()])\n",
    "    gstmc_model.fit(Xtr_gstmc, ytr_gstmc, validation_data=(Xvl_gstmc, yvl_gstmc), epochs=50, callbacks=[cp], verbose=0)\n",
    "    gstmc_model = load_model('intermediate.keras')\n",
    "    pred_gstmc = gstmc_model.predict(Xts_gstmc, verbose=0)\n",
    "    pred_gstmc = scaler_gstmc.inverse_transform(pred_gstmc)[:,0]\n",
    "    yts_gstmc = scaler_gstmc.inverse_transform(yts_gstmc)[:,0]\n",
    "\n",
    "    return mean_absolute_percentage_error(yts_gstmc, pred_gstmc) * 100"
   ]
  },
  {
   "cell_type": "code",
   "execution_count": 239,
   "metadata": {},
   "outputs": [],
   "source": [
    "\n",
    "results = {\n",
    "    \"ltoc\":[], \"gltoc\":[], \"stoc\":[], \"gstoc\":[], \"ltmc\":[], \"gltmc\":[], \"stmc\":[], \"gstmc\":[]\n",
    "    }"
   ]
  },
  {
   "cell_type": "code",
   "execution_count": 259,
   "metadata": {},
   "outputs": [],
   "source": [
    "results[\"ltoc\"] = []"
   ]
  },
  {
   "cell_type": "code",
   "execution_count": 260,
   "metadata": {},
   "outputs": [
    {
     "name": "stdout",
     "output_type": "stream",
     "text": [
      "1\n",
      "2\n",
      "3\n",
      "4\n",
      "5\n",
      "6\n",
      "7\n",
      "8\n",
      "9\n",
      "10\n",
      "11\n",
      "12\n",
      "13\n",
      "14\n",
      "15\n",
      "16\n",
      "17\n",
      "18\n",
      "19\n",
      "20\n",
      "21\n",
      "22\n",
      "23\n",
      "24\n",
      "25\n",
      "26\n",
      "27\n",
      "28\n",
      "29\n",
      "30\n"
     ]
    }
   ],
   "source": [
    "\n",
    "for i in range(30):\n",
    "    results[\"ltoc\"].append(ltoc_run())\n",
    "    print(i+1)"
   ]
  },
  {
   "cell_type": "code",
   "execution_count": 241,
   "metadata": {},
   "outputs": [
    {
     "name": "stdout",
     "output_type": "stream",
     "text": [
      "1\n",
      "2\n",
      "3\n",
      "4\n",
      "5\n",
      "6\n",
      "7\n",
      "8\n",
      "9\n",
      "10\n",
      "11\n",
      "12\n",
      "13\n",
      "14\n",
      "15\n",
      "16\n",
      "17\n",
      "18\n",
      "19\n",
      "20\n",
      "21\n",
      "22\n",
      "23\n",
      "24\n",
      "25\n",
      "26\n",
      "27\n",
      "28\n",
      "29\n",
      "30\n"
     ]
    }
   ],
   "source": [
    "\n",
    "for i in range(30):\n",
    "    results[\"gltoc\"].append(gltoc_run())\n",
    "    print(i+1)"
   ]
  },
  {
   "cell_type": "code",
   "execution_count": 242,
   "metadata": {},
   "outputs": [
    {
     "name": "stdout",
     "output_type": "stream",
     "text": [
      "1\n",
      "2\n",
      "3\n",
      "4\n",
      "5\n",
      "6\n",
      "7\n",
      "8\n",
      "9\n",
      "10\n",
      "11\n",
      "12\n",
      "13\n",
      "14\n",
      "15\n",
      "16\n",
      "17\n",
      "18\n",
      "19\n",
      "20\n",
      "21\n",
      "22\n",
      "23\n",
      "24\n",
      "25\n",
      "26\n",
      "27\n",
      "28\n",
      "29\n",
      "30\n"
     ]
    }
   ],
   "source": [
    "\n",
    "for i in range(30):\n",
    "    results[\"stoc\"].append(stoc_run())\n",
    "    print(i+1)\n"
   ]
  },
  {
   "cell_type": "code",
   "execution_count": 244,
   "metadata": {},
   "outputs": [
    {
     "name": "stdout",
     "output_type": "stream",
     "text": [
      "1\n",
      "2\n",
      "3\n",
      "4\n",
      "5\n",
      "6\n",
      "7\n",
      "8\n",
      "9\n",
      "10\n",
      "11\n",
      "12\n",
      "13\n",
      "14\n",
      "15\n",
      "16\n",
      "17\n",
      "18\n",
      "19\n",
      "20\n",
      "21\n",
      "22\n",
      "23\n",
      "24\n",
      "25\n",
      "26\n",
      "27\n",
      "28\n",
      "29\n",
      "30\n"
     ]
    }
   ],
   "source": [
    "\n",
    "for i in range(30):\n",
    "    results[\"gstoc\"].append(gstoc_run())\n",
    "    print(i+1)\n"
   ]
  },
  {
   "cell_type": "code",
   "execution_count": 245,
   "metadata": {},
   "outputs": [
    {
     "name": "stdout",
     "output_type": "stream",
     "text": [
      "1\n",
      "2\n",
      "3\n",
      "4\n",
      "5\n",
      "6\n",
      "7\n",
      "8\n",
      "9\n",
      "10\n",
      "11\n",
      "12\n",
      "13\n",
      "14\n",
      "15\n",
      "16\n",
      "17\n",
      "18\n",
      "19\n",
      "20\n",
      "21\n",
      "22\n",
      "23\n",
      "24\n",
      "25\n",
      "26\n",
      "27\n",
      "28\n",
      "29\n",
      "30\n"
     ]
    }
   ],
   "source": [
    "\n",
    "for i in range(30):\n",
    "    results[\"ltmc\"].append(ltmc_run())\n",
    "    print(i+1)\n"
   ]
  },
  {
   "cell_type": "code",
   "execution_count": 246,
   "metadata": {},
   "outputs": [
    {
     "name": "stdout",
     "output_type": "stream",
     "text": [
      "1\n",
      "2\n",
      "3\n",
      "4\n",
      "5\n",
      "6\n",
      "7\n",
      "8\n",
      "9\n",
      "10\n",
      "11\n",
      "12\n",
      "13\n",
      "14\n",
      "15\n",
      "16\n",
      "17\n",
      "18\n",
      "19\n",
      "20\n",
      "21\n",
      "22\n",
      "23\n",
      "24\n",
      "25\n",
      "26\n",
      "27\n",
      "28\n",
      "29\n",
      "30\n"
     ]
    }
   ],
   "source": [
    "\n",
    "for i in range(30):\n",
    "    results[\"gltmc\"].append(gltmc_run())\n",
    "    print(i+1)\n"
   ]
  },
  {
   "cell_type": "code",
   "execution_count": 247,
   "metadata": {},
   "outputs": [
    {
     "name": "stdout",
     "output_type": "stream",
     "text": [
      "1\n",
      "2\n",
      "3\n",
      "4\n",
      "5\n",
      "6\n",
      "7\n",
      "8\n",
      "9\n",
      "10\n",
      "11\n",
      "12\n",
      "13\n",
      "14\n",
      "15\n",
      "16\n",
      "17\n",
      "18\n",
      "19\n",
      "20\n",
      "21\n",
      "22\n",
      "23\n",
      "24\n",
      "25\n",
      "26\n",
      "27\n",
      "28\n",
      "29\n",
      "30\n"
     ]
    }
   ],
   "source": [
    "\n",
    "for i in range(30):\n",
    "    results[\"stmc\"].append(stmc_run())\n",
    "    print(i+1)\n"
   ]
  },
  {
   "cell_type": "code",
   "execution_count": 248,
   "metadata": {},
   "outputs": [
    {
     "name": "stdout",
     "output_type": "stream",
     "text": [
      "1\n",
      "2\n",
      "3\n",
      "4\n",
      "5\n",
      "6\n",
      "7\n",
      "8\n",
      "9\n",
      "10\n",
      "11\n",
      "12\n",
      "13\n",
      "14\n",
      "15\n",
      "16\n",
      "17\n",
      "18\n",
      "19\n",
      "20\n",
      "21\n",
      "22\n",
      "23\n",
      "24\n",
      "25\n",
      "26\n",
      "27\n",
      "28\n",
      "29\n",
      "30\n"
     ]
    }
   ],
   "source": [
    "\n",
    "for i in range(30):\n",
    "    results[\"gstmc\"].append(gstmc_run())\n",
    "    print(i+1)\n"
   ]
  },
  {
   "cell_type": "code",
   "execution_count": 261,
   "metadata": {},
   "outputs": [
    {
     "data": {
      "text/plain": [
       "[4.122010269053147,\n",
       " 3.1297615824998517,\n",
       " 7.432395213690713,\n",
       " 5.870100220449143,\n",
       " 7.351555955758726,\n",
       " 7.20473635956852,\n",
       " 8.11287074411581,\n",
       " 8.68850586319902]"
      ]
     },
     "execution_count": 261,
     "metadata": {},
     "output_type": "execute_result"
    }
   ],
   "source": [
    "\n",
    "mean_list = [np.mean(results[\"ltoc\"]), np.mean(results[\"gltoc\"]), np.mean(results[\"stoc\"]), np.mean(results[\"gstoc\"]), \n",
    "np.mean(results[\"ltmc\"]), np.mean(results[\"gltmc\"]), np.mean(results[\"stmc\"]), np.mean(results[\"gstmc\"])]\n",
    "\n",
    "mean_list\n"
   ]
  },
  {
   "cell_type": "code",
   "execution_count": 262,
   "metadata": {},
   "outputs": [
    {
     "data": {
      "text/plain": [
       "[1.999557861568586,\n",
       " 0.21754730009949955,\n",
       " 0.2984992942899123,\n",
       " 1.3138649368238418,\n",
       " 1.1304990780862527,\n",
       " 1.3832957700538688,\n",
       " 0.7459683417552571,\n",
       " 1.6802336635049684]"
      ]
     },
     "execution_count": 262,
     "metadata": {},
     "output_type": "execute_result"
    }
   ],
   "source": [
    "\n",
    "std_list = [np.std(results[\"ltoc\"]), np.std(results[\"gltoc\"]), np.std(results[\"stoc\"]), np.std(results[\"gstoc\"]), \n",
    "np.std(results[\"ltmc\"]), np.std(results[\"gltmc\"]), np.std(results[\"stmc\"]), np.std(results[\"gstmc\"])]\n",
    "\n",
    "std_list\n"
   ]
  },
  {
   "cell_type": "code",
   "execution_count": 263,
   "metadata": {},
   "outputs": [],
   "source": [
    "\n",
    "def conf_interval(mean: float, std: float) -> (float, float, float):\n",
    "    return (mean - std * 1.96, mean, mean + std * 1.96)\n"
   ]
  },
  {
   "cell_type": "code",
   "execution_count": 264,
   "metadata": {},
   "outputs": [
    {
     "name": "stdout",
     "output_type": "stream",
     "text": [
      "(0.20287686037871877, 4.122010269053147, 8.041143677727575)\n",
      "(2.7033688743048327, 3.1297615824998517, 3.5561542906948707)\n",
      "(6.847336596882485, 7.432395213690713, 8.01745383049894)\n",
      "(3.2949249442744133, 5.870100220449143, 8.445275496623873)\n",
      "(5.135777762709671, 7.351555955758726, 9.567334148807781)\n",
      "(4.493476650262938, 7.20473635956852, 9.915996068874103)\n",
      "(6.650772794275506, 8.11287074411581, 9.574968693956114)\n",
      "(5.395247882729283, 8.68850586319902, 11.981763843668759)\n"
     ]
    }
   ],
   "source": [
    "for m, s in zip(mean_list, std_list):\n",
    "    print(conf_interval(m, s))\n"
   ]
  },
  {
   "cell_type": "markdown",
   "metadata": {},
   "source": [
    "### Results"
   ]
  },
  {
   "cell_type": "markdown",
   "metadata": {},
   "source": [
    "Confidence intervals at 95% of MAPE:\n",
    "```\n",
    "model   (lower bound,        mean,             upper bound)\n",
    "-----------------------------------------------------------------\n",
    "ltoc    (0.202876860378719, 4.122010269053147, 8.041143677727575)\n",
    "gltoc   (2.703368874304833, 3.129761582499852, 3.556154290694871)\n",
    "stoc    (6.847336596882485, 7.432395213690713, 8.017453830498940)\n",
    "gstoc   (3.294924944274413, 5.870100220449143, 8.445275496623873)\n",
    "ltmc    (5.135777762709671, 7.351555955758726, 9.567334148807781)\n",
    "gltmc   (4.493476650262938, 7.204736359568520, 9.915996068874103)\n",
    "stmc    (6.650772794275506, 8.112870744115810, 9.574968693956114)\n",
    "gstmc   (5.395247882729283, 8.688505863199020, 11.98176384366876)\n",
    "```"
   ]
  },
  {
   "cell_type": "markdown",
   "metadata": {},
   "source": []
  }
 ],
 "metadata": {
  "kernelspec": {
   "display_name": "base",
   "language": "python",
   "name": "python3"
  },
  "language_info": {
   "codemirror_mode": {
    "name": "ipython",
    "version": 3
   },
   "file_extension": ".py",
   "mimetype": "text/x-python",
   "name": "python",
   "nbconvert_exporter": "python",
   "pygments_lexer": "ipython3",
   "version": "3.11.9"
  }
 },
 "nbformat": 4,
 "nbformat_minor": 2
}
